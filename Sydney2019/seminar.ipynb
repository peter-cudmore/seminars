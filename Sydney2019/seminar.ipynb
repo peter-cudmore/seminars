{
 "cells": [
  {
   "cell_type": "code",
   "execution_count": 2,
   "metadata": {
    "slideshow": {
     "slide_type": "skip"
    }
   },
   "outputs": [],
   "source": [
    "%matplotlib notebook\n",
    "import matplotlib.pyplot as plt\n",
    "import numpy as np\n",
    "import sympy as sp\n",
    "from plots import *\n",
    "\n",
    "sp.init_printing()\n",
    "freqs = [f for f in np.random.standard_cauchy(11) if abs(f) < 10]\n",
    "omega = [2+ f for f in freqs] + [1 - f for f in freqs] + [1]\n",
    "\n",
    "from BondGraphTools import version\n",
    "import BondGraphTools as bgt\n",
    "assert version == \"0.3.7\"\n",
    "scale = 2\n",
    "\n",
    "from matplotlib.font_manager import FontProperties\n",
    "\n",
    "def plot_graph(t, x):\n",
    "    fontP = FontProperties()\n",
    "    fontP.set_size('small')\n",
    "    fig = plt.figure(figsize=(scale*4,scale*4))\n",
    "    plt.plot(t,x)\n",
    "    ax = fig.gca()\n",
    "    ax.set_xlabel('t')\n",
    "    ax.set_title(f\"System response to {impulse}\")\n",
    "    ax.legend(\n",
    "        [f\"$x_{i}$\" for i in range(len(x))],\n",
    "        bbox_to_anchor=(1.,1.),\n",
    "        loc=1,\n",
    "        borderaxespad=0.,\n",
    "        prop=fontP\n",
    "    )\n",
    "    return fig\n",
    "\n",
    "def print_tree(bond_graph, pre=\"\"):\n",
    "    print(f\"{pre}{bond_graph}\")\n",
    "    try:\n",
    "        for component in reversed(bond_graph.components):\n",
    "            if pre == \"\": print_tree(component, pre +\"|-\" )\n",
    "            else: print_tree(component, pre +\"-\" )\n",
    "    except AttributeError:\n",
    "        pass"
   ]
  },
  {
   "cell_type": "code",
   "execution_count": null,
   "metadata": {},
   "outputs": [],
   "source": []
  },
  {
   "cell_type": "markdown",
   "metadata": {
    "slideshow": {
     "slide_type": "notes"
    }
   },
   "source": []
  },
  {
   "cell_type": "markdown",
   "metadata": {
    "slideshow": {
     "slide_type": "notes"
    }
   },
   "source": [
    "TODO:\n",
    "2. Add critical values for Kuramoto model.\n",
    "3. Add critical values for Nonlinear oscillator model."
   ]
  },
  {
   "cell_type": "markdown",
   "metadata": {
    "slideshow": {
     "slide_type": "notes"
    }
   },
   "source": [
    "- Introduction to complex systems\n",
    "- Basic research question\n",
    "\n",
    "Lit Points:\n",
    "- Emergence is low dimension dynamics in high dimensional space. (Should be a geometric description; but we're not there yet.)\n",
    "- Collective motion requires tradeoffs between coulping strength and population heterogeneity. (Framed in terms of some kind of averaging)\n",
    "\n"
   ]
  },
  {
   "cell_type": "markdown",
   "metadata": {
    "slideshow": {
     "slide_type": "slide"
    }
   },
   "source": [
    "# On Emergence in Complex Physical Systems\n",
    "\n",
    "\n",
    "https://github.com/peter-cudmore\n",
    "\n",
    "&nbsp;\n",
    "\n",
    "    Dr. Peter Cudmore.  \n",
    "    Systems Biology Labratory,   \n",
    "    The School of Chemical and Biomedical Engineering,  \n",
    "    The University of Melbourne.  "
   ]
  },
  {
   "cell_type": "markdown",
   "metadata": {},
   "source": [
    "Many problems in biology, physics and engineering involve predicting and controlling complex systems, loosely defined as interconnected system-of-systems. Such systems can exhibit a variety of interesting non-equilibrium features such as emergence and phase transitions, which result from mutual interactions between nonlinear subsystems. \n",
    "\n",
    "Modelling these systems is a task in-and-of itself, as systems can span many physical domains and evolve on multiple time scales. Nonetheless, one wishes to analyse the geometry of these models and relate both qualitative and quantitative insights back to the physical system.\n",
    "\n",
    "Beginning with the modelling and analysis of a coupled optomechanical systems, this talk presents some recent results concerning the existence and stability of emergent oscillations. This forms the basis for a discussion of new directions in symbolic computational techniques for complex physical systems as a means to discuss emergence more generally.\n"
   ]
  },
  {
   "cell_type": "markdown",
   "metadata": {
    "slideshow": {
     "slide_type": "subslide"
    }
   },
   "source": [
    "## The problem with big systems is that they're _big_..."
   ]
  },
  {
   "cell_type": "markdown",
   "metadata": {
    "slideshow": {
     "slide_type": "subslide"
    }
   },
   "source": [
    "## Example: Many-body Quantum Optomechanics"
   ]
  },
  {
   "cell_type": "markdown",
   "metadata": {
    "cell_style": "split",
    "slideshow": {
     "slide_type": "-"
    }
   },
   "source": [
    "<center><img src=\"images/spins.png\" width=800px alt=\"Quantum Many-Body systems\"></center>\n",
    "\n",
    "(Image courtesy of Knap, M. https://users.ph.tum.de/ga32pex/ )"
   ]
  },
  {
   "attachments": {},
   "cell_type": "markdown",
   "metadata": {
    "cell_style": "split"
   },
   "source": [
    "<center><img src=\"images/research2016arrays.jpg\" width=600px>\n",
    "</center>\n",
    "\n",
    "(Image courtesy of Marquardt, F.\n",
    "https://photons-and-matter.org/research/ )"
   ]
  },
  {
   "cell_type": "markdown",
   "metadata": {
    "slideshow": {
     "slide_type": "subslide"
    }
   },
   "source": [
    "## Example: Human Metabolism"
   ]
  },
  {
   "cell_type": "markdown",
   "metadata": {
    "slideshow": {
     "slide_type": "-"
    }
   },
   "source": [
    "<center><img src=\"images/map.png\" height=600px></center>\n",
    "\n",
    "(Image courtesy of Human Metabolism map https://www.vmh.life )"
   ]
  },
  {
   "cell_type": "markdown",
   "metadata": {
    "slideshow": {
     "slide_type": "subslide"
    }
   },
   "source": [
    "# Example: Ecosystems"
   ]
  },
  {
   "cell_type": "markdown",
   "metadata": {
    "slideshow": {
     "slide_type": "-"
    }
   },
   "source": [
    "<center><img src=\"images/water_cycle.jpg\" width=800px></center>"
   ]
  },
  {
   "cell_type": "markdown",
   "metadata": {
    "slideshow": {
     "slide_type": "subslide"
    }
   },
   "source": [
    "## Complex Physical Systems \n",
    "\n",
    "A dynamical system is said to be a _complex physical system_ when:\n",
    "* It is made up of many _interacting_ parts, or subsystems (High-dimensional).\n",
    "* The subsystems are not all of the same (Heterogenenous).\n",
    "* The subsystems are complicated (Nonlinear and/or Noisy).\n",
    "* There are well defined boundaries between the subsystems (Network Topology).\n",
    "* **Coupling takes place via resource exchange (Conservation Laws).**"
   ]
  },
  {
   "cell_type": "markdown",
   "metadata": {
    "slideshow": {
     "slide_type": "subslide"
    }
   },
   "source": [
    "## Complex Systems can exhibit _emergence_.\n",
    "\n",
    "- _Emergence_ is a phenomenom where the system displays novel new behaviour that could not be produced by individuals alone.\n",
    "- _Synchronisation_ is the most studied example of emergence, and can occur in systems of coupled oscillator."
   ]
  },
  {
   "cell_type": "markdown",
   "metadata": {
    "slideshow": {
     "slide_type": "fragment"
    }
   },
   "source": [
    "<center><b><i> How can one predict and control emergent phenomenon?</i></b></center>"
   ]
  },
  {
   "cell_type": "markdown",
   "metadata": {
    "slideshow": {
     "slide_type": "fragment"
    }
   },
   "source": [
    "<center><b><i>\n",
    "How can nonlinear dynamics be \"scaled up\"?   \n",
    "</i></b></center>"
   ]
  },
  {
   "cell_type": "markdown",
   "metadata": {
    "slideshow": {
     "slide_type": "subslide"
    }
   },
   "source": [
    "## Outline of this talk"
   ]
  },
  {
   "cell_type": "markdown",
   "metadata": {
    "cell_style": "split",
    "slideshow": {
     "slide_type": "-"
    }
   },
   "source": [
    "\n",
    "![The Goal](images/Sydney.svg)"
   ]
  },
  {
   "cell_type": "markdown",
   "metadata": {
    "cell_style": "split",
    "slideshow": {
     "slide_type": "-"
    }
   },
   "source": [
    "In this talk we will:"
   ]
  },
  {
   "cell_type": "markdown",
   "metadata": {
    "cell_style": "split",
    "slideshow": {
     "slide_type": "fragment"
    }
   },
   "source": [
    "Briefly discuss synchronisation as it's the best example of emergence."
   ]
  },
  {
   "cell_type": "markdown",
   "metadata": {
    "cell_style": "split",
    "slideshow": {
     "slide_type": "fragment"
    }
   },
   "source": [
    "Discuss how we might generalise this for energetic systems."
   ]
  },
  {
   "cell_type": "markdown",
   "metadata": {},
   "source": []
  },
  {
   "cell_type": "markdown",
   "metadata": {
    "slideshow": {
     "slide_type": "slide"
    }
   },
   "source": [
    "## Part 1: Synchronised Oscillators"
   ]
  },
  {
   "cell_type": "markdown",
   "metadata": {
    "slideshow": {
     "slide_type": "subslide"
    }
   },
   "source": [
    "## The Kuramoto Model\n",
    "\n",
    "_Self-entrainment of a population of coupled non-linear oscillators_ Kuramoto, Y. (1975)."
   ]
  },
  {
   "cell_type": "markdown",
   "metadata": {
    "cell_style": "split"
   },
   "source": [
    "The phase $\\theta_j$ of each oscillator with a natural frequency $\\omega_j$ is given by\n",
    "\n",
    "\\begin{equation}\n",
    "\\dot{\\theta}_j =  \\omega_j + \\frac{K}{n}\\sum_{k=1}^n\\sin(\\theta_k - \\theta_j),\\qquad j=1,\\ldots n\n",
    "\\end{equation}\n",
    "- When $0\\le K <K_c $ each oscillator rotates at their own frequency.\n",
    "\n",
    "- A Hopf bifurcation occurs at $K=K_c$ creating collective motion.\n",
    "\n",
    "- When $K>K_c$ more oscillator are recruited to collective.\n",
    "\n",
    "The value of $K_c$ depends upon the distribution of $\\{\\omega_j\\}$. For symmetric distribtuions we have\n",
    "$$K_c = \\frac{2}{\\pi g(0)}$$\n"
   ]
  },
  {
   "cell_type": "code",
   "execution_count": 3,
   "metadata": {
    "cell_style": "split"
   },
   "outputs": [
    {
     "data": {
      "application/javascript": [
       "/* Put everything inside the global mpl namespace */\n",
       "window.mpl = {};\n",
       "\n",
       "\n",
       "mpl.get_websocket_type = function() {\n",
       "    if (typeof(WebSocket) !== 'undefined') {\n",
       "        return WebSocket;\n",
       "    } else if (typeof(MozWebSocket) !== 'undefined') {\n",
       "        return MozWebSocket;\n",
       "    } else {\n",
       "        alert('Your browser does not have WebSocket support.' +\n",
       "              'Please try Chrome, Safari or Firefox ≥ 6. ' +\n",
       "              'Firefox 4 and 5 are also supported but you ' +\n",
       "              'have to enable WebSockets in about:config.');\n",
       "    };\n",
       "}\n",
       "\n",
       "mpl.figure = function(figure_id, websocket, ondownload, parent_element) {\n",
       "    this.id = figure_id;\n",
       "\n",
       "    this.ws = websocket;\n",
       "\n",
       "    this.supports_binary = (this.ws.binaryType != undefined);\n",
       "\n",
       "    if (!this.supports_binary) {\n",
       "        var warnings = document.getElementById(\"mpl-warnings\");\n",
       "        if (warnings) {\n",
       "            warnings.style.display = 'block';\n",
       "            warnings.textContent = (\n",
       "                \"This browser does not support binary websocket messages. \" +\n",
       "                    \"Performance may be slow.\");\n",
       "        }\n",
       "    }\n",
       "\n",
       "    this.imageObj = new Image();\n",
       "\n",
       "    this.context = undefined;\n",
       "    this.message = undefined;\n",
       "    this.canvas = undefined;\n",
       "    this.rubberband_canvas = undefined;\n",
       "    this.rubberband_context = undefined;\n",
       "    this.format_dropdown = undefined;\n",
       "\n",
       "    this.image_mode = 'full';\n",
       "\n",
       "    this.root = $('<div/>');\n",
       "    this._root_extra_style(this.root)\n",
       "    this.root.attr('style', 'display: inline-block');\n",
       "\n",
       "    $(parent_element).append(this.root);\n",
       "\n",
       "    this._init_header(this);\n",
       "    this._init_canvas(this);\n",
       "    this._init_toolbar(this);\n",
       "\n",
       "    var fig = this;\n",
       "\n",
       "    this.waiting = false;\n",
       "\n",
       "    this.ws.onopen =  function () {\n",
       "            fig.send_message(\"supports_binary\", {value: fig.supports_binary});\n",
       "            fig.send_message(\"send_image_mode\", {});\n",
       "            if (mpl.ratio != 1) {\n",
       "                fig.send_message(\"set_dpi_ratio\", {'dpi_ratio': mpl.ratio});\n",
       "            }\n",
       "            fig.send_message(\"refresh\", {});\n",
       "        }\n",
       "\n",
       "    this.imageObj.onload = function() {\n",
       "            if (fig.image_mode == 'full') {\n",
       "                // Full images could contain transparency (where diff images\n",
       "                // almost always do), so we need to clear the canvas so that\n",
       "                // there is no ghosting.\n",
       "                fig.context.clearRect(0, 0, fig.canvas.width, fig.canvas.height);\n",
       "            }\n",
       "            fig.context.drawImage(fig.imageObj, 0, 0);\n",
       "        };\n",
       "\n",
       "    this.imageObj.onunload = function() {\n",
       "        fig.ws.close();\n",
       "    }\n",
       "\n",
       "    this.ws.onmessage = this._make_on_message_function(this);\n",
       "\n",
       "    this.ondownload = ondownload;\n",
       "}\n",
       "\n",
       "mpl.figure.prototype._init_header = function() {\n",
       "    var titlebar = $(\n",
       "        '<div class=\"ui-dialog-titlebar ui-widget-header ui-corner-all ' +\n",
       "        'ui-helper-clearfix\"/>');\n",
       "    var titletext = $(\n",
       "        '<div class=\"ui-dialog-title\" style=\"width: 100%; ' +\n",
       "        'text-align: center; padding: 3px;\"/>');\n",
       "    titlebar.append(titletext)\n",
       "    this.root.append(titlebar);\n",
       "    this.header = titletext[0];\n",
       "}\n",
       "\n",
       "\n",
       "\n",
       "mpl.figure.prototype._canvas_extra_style = function(canvas_div) {\n",
       "\n",
       "}\n",
       "\n",
       "\n",
       "mpl.figure.prototype._root_extra_style = function(canvas_div) {\n",
       "\n",
       "}\n",
       "\n",
       "mpl.figure.prototype._init_canvas = function() {\n",
       "    var fig = this;\n",
       "\n",
       "    var canvas_div = $('<div/>');\n",
       "\n",
       "    canvas_div.attr('style', 'position: relative; clear: both; outline: 0');\n",
       "\n",
       "    function canvas_keyboard_event(event) {\n",
       "        return fig.key_event(event, event['data']);\n",
       "    }\n",
       "\n",
       "    canvas_div.keydown('key_press', canvas_keyboard_event);\n",
       "    canvas_div.keyup('key_release', canvas_keyboard_event);\n",
       "    this.canvas_div = canvas_div\n",
       "    this._canvas_extra_style(canvas_div)\n",
       "    this.root.append(canvas_div);\n",
       "\n",
       "    var canvas = $('<canvas/>');\n",
       "    canvas.addClass('mpl-canvas');\n",
       "    canvas.attr('style', \"left: 0; top: 0; z-index: 0; outline: 0\")\n",
       "\n",
       "    this.canvas = canvas[0];\n",
       "    this.context = canvas[0].getContext(\"2d\");\n",
       "\n",
       "    var backingStore = this.context.backingStorePixelRatio ||\n",
       "\tthis.context.webkitBackingStorePixelRatio ||\n",
       "\tthis.context.mozBackingStorePixelRatio ||\n",
       "\tthis.context.msBackingStorePixelRatio ||\n",
       "\tthis.context.oBackingStorePixelRatio ||\n",
       "\tthis.context.backingStorePixelRatio || 1;\n",
       "\n",
       "    mpl.ratio = (window.devicePixelRatio || 1) / backingStore;\n",
       "\n",
       "    var rubberband = $('<canvas/>');\n",
       "    rubberband.attr('style', \"position: absolute; left: 0; top: 0; z-index: 1;\")\n",
       "\n",
       "    var pass_mouse_events = true;\n",
       "\n",
       "    canvas_div.resizable({\n",
       "        start: function(event, ui) {\n",
       "            pass_mouse_events = false;\n",
       "        },\n",
       "        resize: function(event, ui) {\n",
       "            fig.request_resize(ui.size.width, ui.size.height);\n",
       "        },\n",
       "        stop: function(event, ui) {\n",
       "            pass_mouse_events = true;\n",
       "            fig.request_resize(ui.size.width, ui.size.height);\n",
       "        },\n",
       "    });\n",
       "\n",
       "    function mouse_event_fn(event) {\n",
       "        if (pass_mouse_events)\n",
       "            return fig.mouse_event(event, event['data']);\n",
       "    }\n",
       "\n",
       "    rubberband.mousedown('button_press', mouse_event_fn);\n",
       "    rubberband.mouseup('button_release', mouse_event_fn);\n",
       "    // Throttle sequential mouse events to 1 every 20ms.\n",
       "    rubberband.mousemove('motion_notify', mouse_event_fn);\n",
       "\n",
       "    rubberband.mouseenter('figure_enter', mouse_event_fn);\n",
       "    rubberband.mouseleave('figure_leave', mouse_event_fn);\n",
       "\n",
       "    canvas_div.on(\"wheel\", function (event) {\n",
       "        event = event.originalEvent;\n",
       "        event['data'] = 'scroll'\n",
       "        if (event.deltaY < 0) {\n",
       "            event.step = 1;\n",
       "        } else {\n",
       "            event.step = -1;\n",
       "        }\n",
       "        mouse_event_fn(event);\n",
       "    });\n",
       "\n",
       "    canvas_div.append(canvas);\n",
       "    canvas_div.append(rubberband);\n",
       "\n",
       "    this.rubberband = rubberband;\n",
       "    this.rubberband_canvas = rubberband[0];\n",
       "    this.rubberband_context = rubberband[0].getContext(\"2d\");\n",
       "    this.rubberband_context.strokeStyle = \"#000000\";\n",
       "\n",
       "    this._resize_canvas = function(width, height) {\n",
       "        // Keep the size of the canvas, canvas container, and rubber band\n",
       "        // canvas in synch.\n",
       "        canvas_div.css('width', width)\n",
       "        canvas_div.css('height', height)\n",
       "\n",
       "        canvas.attr('width', width * mpl.ratio);\n",
       "        canvas.attr('height', height * mpl.ratio);\n",
       "        canvas.attr('style', 'width: ' + width + 'px; height: ' + height + 'px;');\n",
       "\n",
       "        rubberband.attr('width', width);\n",
       "        rubberband.attr('height', height);\n",
       "    }\n",
       "\n",
       "    // Set the figure to an initial 600x600px, this will subsequently be updated\n",
       "    // upon first draw.\n",
       "    this._resize_canvas(600, 600);\n",
       "\n",
       "    // Disable right mouse context menu.\n",
       "    $(this.rubberband_canvas).bind(\"contextmenu\",function(e){\n",
       "        return false;\n",
       "    });\n",
       "\n",
       "    function set_focus () {\n",
       "        canvas.focus();\n",
       "        canvas_div.focus();\n",
       "    }\n",
       "\n",
       "    window.setTimeout(set_focus, 100);\n",
       "}\n",
       "\n",
       "mpl.figure.prototype._init_toolbar = function() {\n",
       "    var fig = this;\n",
       "\n",
       "    var nav_element = $('<div/>')\n",
       "    nav_element.attr('style', 'width: 100%');\n",
       "    this.root.append(nav_element);\n",
       "\n",
       "    // Define a callback function for later on.\n",
       "    function toolbar_event(event) {\n",
       "        return fig.toolbar_button_onclick(event['data']);\n",
       "    }\n",
       "    function toolbar_mouse_event(event) {\n",
       "        return fig.toolbar_button_onmouseover(event['data']);\n",
       "    }\n",
       "\n",
       "    for(var toolbar_ind in mpl.toolbar_items) {\n",
       "        var name = mpl.toolbar_items[toolbar_ind][0];\n",
       "        var tooltip = mpl.toolbar_items[toolbar_ind][1];\n",
       "        var image = mpl.toolbar_items[toolbar_ind][2];\n",
       "        var method_name = mpl.toolbar_items[toolbar_ind][3];\n",
       "\n",
       "        if (!name) {\n",
       "            // put a spacer in here.\n",
       "            continue;\n",
       "        }\n",
       "        var button = $('<button/>');\n",
       "        button.addClass('ui-button ui-widget ui-state-default ui-corner-all ' +\n",
       "                        'ui-button-icon-only');\n",
       "        button.attr('role', 'button');\n",
       "        button.attr('aria-disabled', 'false');\n",
       "        button.click(method_name, toolbar_event);\n",
       "        button.mouseover(tooltip, toolbar_mouse_event);\n",
       "\n",
       "        var icon_img = $('<span/>');\n",
       "        icon_img.addClass('ui-button-icon-primary ui-icon');\n",
       "        icon_img.addClass(image);\n",
       "        icon_img.addClass('ui-corner-all');\n",
       "\n",
       "        var tooltip_span = $('<span/>');\n",
       "        tooltip_span.addClass('ui-button-text');\n",
       "        tooltip_span.html(tooltip);\n",
       "\n",
       "        button.append(icon_img);\n",
       "        button.append(tooltip_span);\n",
       "\n",
       "        nav_element.append(button);\n",
       "    }\n",
       "\n",
       "    var fmt_picker_span = $('<span/>');\n",
       "\n",
       "    var fmt_picker = $('<select/>');\n",
       "    fmt_picker.addClass('mpl-toolbar-option ui-widget ui-widget-content');\n",
       "    fmt_picker_span.append(fmt_picker);\n",
       "    nav_element.append(fmt_picker_span);\n",
       "    this.format_dropdown = fmt_picker[0];\n",
       "\n",
       "    for (var ind in mpl.extensions) {\n",
       "        var fmt = mpl.extensions[ind];\n",
       "        var option = $(\n",
       "            '<option/>', {selected: fmt === mpl.default_extension}).html(fmt);\n",
       "        fmt_picker.append(option)\n",
       "    }\n",
       "\n",
       "    // Add hover states to the ui-buttons\n",
       "    $( \".ui-button\" ).hover(\n",
       "        function() { $(this).addClass(\"ui-state-hover\");},\n",
       "        function() { $(this).removeClass(\"ui-state-hover\");}\n",
       "    );\n",
       "\n",
       "    var status_bar = $('<span class=\"mpl-message\"/>');\n",
       "    nav_element.append(status_bar);\n",
       "    this.message = status_bar[0];\n",
       "}\n",
       "\n",
       "mpl.figure.prototype.request_resize = function(x_pixels, y_pixels) {\n",
       "    // Request matplotlib to resize the figure. Matplotlib will then trigger a resize in the client,\n",
       "    // which will in turn request a refresh of the image.\n",
       "    this.send_message('resize', {'width': x_pixels, 'height': y_pixels});\n",
       "}\n",
       "\n",
       "mpl.figure.prototype.send_message = function(type, properties) {\n",
       "    properties['type'] = type;\n",
       "    properties['figure_id'] = this.id;\n",
       "    this.ws.send(JSON.stringify(properties));\n",
       "}\n",
       "\n",
       "mpl.figure.prototype.send_draw_message = function() {\n",
       "    if (!this.waiting) {\n",
       "        this.waiting = true;\n",
       "        this.ws.send(JSON.stringify({type: \"draw\", figure_id: this.id}));\n",
       "    }\n",
       "}\n",
       "\n",
       "\n",
       "mpl.figure.prototype.handle_save = function(fig, msg) {\n",
       "    var format_dropdown = fig.format_dropdown;\n",
       "    var format = format_dropdown.options[format_dropdown.selectedIndex].value;\n",
       "    fig.ondownload(fig, format);\n",
       "}\n",
       "\n",
       "\n",
       "mpl.figure.prototype.handle_resize = function(fig, msg) {\n",
       "    var size = msg['size'];\n",
       "    if (size[0] != fig.canvas.width || size[1] != fig.canvas.height) {\n",
       "        fig._resize_canvas(size[0], size[1]);\n",
       "        fig.send_message(\"refresh\", {});\n",
       "    };\n",
       "}\n",
       "\n",
       "mpl.figure.prototype.handle_rubberband = function(fig, msg) {\n",
       "    var x0 = msg['x0'] / mpl.ratio;\n",
       "    var y0 = (fig.canvas.height - msg['y0']) / mpl.ratio;\n",
       "    var x1 = msg['x1'] / mpl.ratio;\n",
       "    var y1 = (fig.canvas.height - msg['y1']) / mpl.ratio;\n",
       "    x0 = Math.floor(x0) + 0.5;\n",
       "    y0 = Math.floor(y0) + 0.5;\n",
       "    x1 = Math.floor(x1) + 0.5;\n",
       "    y1 = Math.floor(y1) + 0.5;\n",
       "    var min_x = Math.min(x0, x1);\n",
       "    var min_y = Math.min(y0, y1);\n",
       "    var width = Math.abs(x1 - x0);\n",
       "    var height = Math.abs(y1 - y0);\n",
       "\n",
       "    fig.rubberband_context.clearRect(\n",
       "        0, 0, fig.canvas.width, fig.canvas.height);\n",
       "\n",
       "    fig.rubberband_context.strokeRect(min_x, min_y, width, height);\n",
       "}\n",
       "\n",
       "mpl.figure.prototype.handle_figure_label = function(fig, msg) {\n",
       "    // Updates the figure title.\n",
       "    fig.header.textContent = msg['label'];\n",
       "}\n",
       "\n",
       "mpl.figure.prototype.handle_cursor = function(fig, msg) {\n",
       "    var cursor = msg['cursor'];\n",
       "    switch(cursor)\n",
       "    {\n",
       "    case 0:\n",
       "        cursor = 'pointer';\n",
       "        break;\n",
       "    case 1:\n",
       "        cursor = 'default';\n",
       "        break;\n",
       "    case 2:\n",
       "        cursor = 'crosshair';\n",
       "        break;\n",
       "    case 3:\n",
       "        cursor = 'move';\n",
       "        break;\n",
       "    }\n",
       "    fig.rubberband_canvas.style.cursor = cursor;\n",
       "}\n",
       "\n",
       "mpl.figure.prototype.handle_message = function(fig, msg) {\n",
       "    fig.message.textContent = msg['message'];\n",
       "}\n",
       "\n",
       "mpl.figure.prototype.handle_draw = function(fig, msg) {\n",
       "    // Request the server to send over a new figure.\n",
       "    fig.send_draw_message();\n",
       "}\n",
       "\n",
       "mpl.figure.prototype.handle_image_mode = function(fig, msg) {\n",
       "    fig.image_mode = msg['mode'];\n",
       "}\n",
       "\n",
       "mpl.figure.prototype.updated_canvas_event = function() {\n",
       "    // Called whenever the canvas gets updated.\n",
       "    this.send_message(\"ack\", {});\n",
       "}\n",
       "\n",
       "// A function to construct a web socket function for onmessage handling.\n",
       "// Called in the figure constructor.\n",
       "mpl.figure.prototype._make_on_message_function = function(fig) {\n",
       "    return function socket_on_message(evt) {\n",
       "        if (evt.data instanceof Blob) {\n",
       "            /* FIXME: We get \"Resource interpreted as Image but\n",
       "             * transferred with MIME type text/plain:\" errors on\n",
       "             * Chrome.  But how to set the MIME type?  It doesn't seem\n",
       "             * to be part of the websocket stream */\n",
       "            evt.data.type = \"image/png\";\n",
       "\n",
       "            /* Free the memory for the previous frames */\n",
       "            if (fig.imageObj.src) {\n",
       "                (window.URL || window.webkitURL).revokeObjectURL(\n",
       "                    fig.imageObj.src);\n",
       "            }\n",
       "\n",
       "            fig.imageObj.src = (window.URL || window.webkitURL).createObjectURL(\n",
       "                evt.data);\n",
       "            fig.updated_canvas_event();\n",
       "            fig.waiting = false;\n",
       "            return;\n",
       "        }\n",
       "        else if (typeof evt.data === 'string' && evt.data.slice(0, 21) == \"data:image/png;base64\") {\n",
       "            fig.imageObj.src = evt.data;\n",
       "            fig.updated_canvas_event();\n",
       "            fig.waiting = false;\n",
       "            return;\n",
       "        }\n",
       "\n",
       "        var msg = JSON.parse(evt.data);\n",
       "        var msg_type = msg['type'];\n",
       "\n",
       "        // Call the  \"handle_{type}\" callback, which takes\n",
       "        // the figure and JSON message as its only arguments.\n",
       "        try {\n",
       "            var callback = fig[\"handle_\" + msg_type];\n",
       "        } catch (e) {\n",
       "            console.log(\"No handler for the '\" + msg_type + \"' message type: \", msg);\n",
       "            return;\n",
       "        }\n",
       "\n",
       "        if (callback) {\n",
       "            try {\n",
       "                // console.log(\"Handling '\" + msg_type + \"' message: \", msg);\n",
       "                callback(fig, msg);\n",
       "            } catch (e) {\n",
       "                console.log(\"Exception inside the 'handler_\" + msg_type + \"' callback:\", e, e.stack, msg);\n",
       "            }\n",
       "        }\n",
       "    };\n",
       "}\n",
       "\n",
       "// from http://stackoverflow.com/questions/1114465/getting-mouse-location-in-canvas\n",
       "mpl.findpos = function(e) {\n",
       "    //this section is from http://www.quirksmode.org/js/events_properties.html\n",
       "    var targ;\n",
       "    if (!e)\n",
       "        e = window.event;\n",
       "    if (e.target)\n",
       "        targ = e.target;\n",
       "    else if (e.srcElement)\n",
       "        targ = e.srcElement;\n",
       "    if (targ.nodeType == 3) // defeat Safari bug\n",
       "        targ = targ.parentNode;\n",
       "\n",
       "    // jQuery normalizes the pageX and pageY\n",
       "    // pageX,Y are the mouse positions relative to the document\n",
       "    // offset() returns the position of the element relative to the document\n",
       "    var x = e.pageX - $(targ).offset().left;\n",
       "    var y = e.pageY - $(targ).offset().top;\n",
       "\n",
       "    return {\"x\": x, \"y\": y};\n",
       "};\n",
       "\n",
       "/*\n",
       " * return a copy of an object with only non-object keys\n",
       " * we need this to avoid circular references\n",
       " * http://stackoverflow.com/a/24161582/3208463\n",
       " */\n",
       "function simpleKeys (original) {\n",
       "  return Object.keys(original).reduce(function (obj, key) {\n",
       "    if (typeof original[key] !== 'object')\n",
       "        obj[key] = original[key]\n",
       "    return obj;\n",
       "  }, {});\n",
       "}\n",
       "\n",
       "mpl.figure.prototype.mouse_event = function(event, name) {\n",
       "    var canvas_pos = mpl.findpos(event)\n",
       "\n",
       "    if (name === 'button_press')\n",
       "    {\n",
       "        this.canvas.focus();\n",
       "        this.canvas_div.focus();\n",
       "    }\n",
       "\n",
       "    var x = canvas_pos.x * mpl.ratio;\n",
       "    var y = canvas_pos.y * mpl.ratio;\n",
       "\n",
       "    this.send_message(name, {x: x, y: y, button: event.button,\n",
       "                             step: event.step,\n",
       "                             guiEvent: simpleKeys(event)});\n",
       "\n",
       "    /* This prevents the web browser from automatically changing to\n",
       "     * the text insertion cursor when the button is pressed.  We want\n",
       "     * to control all of the cursor setting manually through the\n",
       "     * 'cursor' event from matplotlib */\n",
       "    event.preventDefault();\n",
       "    return false;\n",
       "}\n",
       "\n",
       "mpl.figure.prototype._key_event_extra = function(event, name) {\n",
       "    // Handle any extra behaviour associated with a key event\n",
       "}\n",
       "\n",
       "mpl.figure.prototype.key_event = function(event, name) {\n",
       "\n",
       "    // Prevent repeat events\n",
       "    if (name == 'key_press')\n",
       "    {\n",
       "        if (event.which === this._key)\n",
       "            return;\n",
       "        else\n",
       "            this._key = event.which;\n",
       "    }\n",
       "    if (name == 'key_release')\n",
       "        this._key = null;\n",
       "\n",
       "    var value = '';\n",
       "    if (event.ctrlKey && event.which != 17)\n",
       "        value += \"ctrl+\";\n",
       "    if (event.altKey && event.which != 18)\n",
       "        value += \"alt+\";\n",
       "    if (event.shiftKey && event.which != 16)\n",
       "        value += \"shift+\";\n",
       "\n",
       "    value += 'k';\n",
       "    value += event.which.toString();\n",
       "\n",
       "    this._key_event_extra(event, name);\n",
       "\n",
       "    this.send_message(name, {key: value,\n",
       "                             guiEvent: simpleKeys(event)});\n",
       "    return false;\n",
       "}\n",
       "\n",
       "mpl.figure.prototype.toolbar_button_onclick = function(name) {\n",
       "    if (name == 'download') {\n",
       "        this.handle_save(this, null);\n",
       "    } else {\n",
       "        this.send_message(\"toolbar_button\", {name: name});\n",
       "    }\n",
       "};\n",
       "\n",
       "mpl.figure.prototype.toolbar_button_onmouseover = function(tooltip) {\n",
       "    this.message.textContent = tooltip;\n",
       "};\n",
       "mpl.toolbar_items = [[\"Home\", \"Reset original view\", \"fa fa-home icon-home\", \"home\"], [\"Back\", \"Back to  previous view\", \"fa fa-arrow-left icon-arrow-left\", \"back\"], [\"Forward\", \"Forward to next view\", \"fa fa-arrow-right icon-arrow-right\", \"forward\"], [\"\", \"\", \"\", \"\"], [\"Pan\", \"Pan axes with left mouse, zoom with right\", \"fa fa-arrows icon-move\", \"pan\"], [\"Zoom\", \"Zoom to rectangle\", \"fa fa-square-o icon-check-empty\", \"zoom\"], [\"\", \"\", \"\", \"\"], [\"Download\", \"Download plot\", \"fa fa-floppy-o icon-save\", \"download\"]];\n",
       "\n",
       "mpl.extensions = [\"eps\", \"pdf\", \"png\", \"ps\", \"raw\", \"svg\"];\n",
       "\n",
       "mpl.default_extension = \"png\";var comm_websocket_adapter = function(comm) {\n",
       "    // Create a \"websocket\"-like object which calls the given IPython comm\n",
       "    // object with the appropriate methods. Currently this is a non binary\n",
       "    // socket, so there is still some room for performance tuning.\n",
       "    var ws = {};\n",
       "\n",
       "    ws.close = function() {\n",
       "        comm.close()\n",
       "    };\n",
       "    ws.send = function(m) {\n",
       "        //console.log('sending', m);\n",
       "        comm.send(m);\n",
       "    };\n",
       "    // Register the callback with on_msg.\n",
       "    comm.on_msg(function(msg) {\n",
       "        //console.log('receiving', msg['content']['data'], msg);\n",
       "        // Pass the mpl event to the overridden (by mpl) onmessage function.\n",
       "        ws.onmessage(msg['content']['data'])\n",
       "    });\n",
       "    return ws;\n",
       "}\n",
       "\n",
       "mpl.mpl_figure_comm = function(comm, msg) {\n",
       "    // This is the function which gets called when the mpl process\n",
       "    // starts-up an IPython Comm through the \"matplotlib\" channel.\n",
       "\n",
       "    var id = msg.content.data.id;\n",
       "    // Get hold of the div created by the display call when the Comm\n",
       "    // socket was opened in Python.\n",
       "    var element = $(\"#\" + id);\n",
       "    var ws_proxy = comm_websocket_adapter(comm)\n",
       "\n",
       "    function ondownload(figure, format) {\n",
       "        window.open(figure.imageObj.src);\n",
       "    }\n",
       "\n",
       "    var fig = new mpl.figure(id, ws_proxy,\n",
       "                           ondownload,\n",
       "                           element.get(0));\n",
       "\n",
       "    // Call onopen now - mpl needs it, as it is assuming we've passed it a real\n",
       "    // web socket which is closed, not our websocket->open comm proxy.\n",
       "    ws_proxy.onopen();\n",
       "\n",
       "    fig.parent_element = element.get(0);\n",
       "    fig.cell_info = mpl.find_output_cell(\"<div id='\" + id + \"'></div>\");\n",
       "    if (!fig.cell_info) {\n",
       "        console.error(\"Failed to find cell for figure\", id, fig);\n",
       "        return;\n",
       "    }\n",
       "\n",
       "    var output_index = fig.cell_info[2]\n",
       "    var cell = fig.cell_info[0];\n",
       "\n",
       "};\n",
       "\n",
       "mpl.figure.prototype.handle_close = function(fig, msg) {\n",
       "    var width = fig.canvas.width/mpl.ratio\n",
       "    fig.root.unbind('remove')\n",
       "\n",
       "    // Update the output cell to use the data from the current canvas.\n",
       "    fig.push_to_output();\n",
       "    var dataURL = fig.canvas.toDataURL();\n",
       "    // Re-enable the keyboard manager in IPython - without this line, in FF,\n",
       "    // the notebook keyboard shortcuts fail.\n",
       "    IPython.keyboard_manager.enable()\n",
       "    $(fig.parent_element).html('<img src=\"' + dataURL + '\" width=\"' + width + '\">');\n",
       "    fig.close_ws(fig, msg);\n",
       "}\n",
       "\n",
       "mpl.figure.prototype.close_ws = function(fig, msg){\n",
       "    fig.send_message('closing', msg);\n",
       "    // fig.ws.close()\n",
       "}\n",
       "\n",
       "mpl.figure.prototype.push_to_output = function(remove_interactive) {\n",
       "    // Turn the data on the canvas into data in the output cell.\n",
       "    var width = this.canvas.width/mpl.ratio\n",
       "    var dataURL = this.canvas.toDataURL();\n",
       "    this.cell_info[1]['text/html'] = '<img src=\"' + dataURL + '\" width=\"' + width + '\">';\n",
       "}\n",
       "\n",
       "mpl.figure.prototype.updated_canvas_event = function() {\n",
       "    // Tell IPython that the notebook contents must change.\n",
       "    IPython.notebook.set_dirty(true);\n",
       "    this.send_message(\"ack\", {});\n",
       "    var fig = this;\n",
       "    // Wait a second, then push the new image to the DOM so\n",
       "    // that it is saved nicely (might be nice to debounce this).\n",
       "    setTimeout(function () { fig.push_to_output() }, 1000);\n",
       "}\n",
       "\n",
       "mpl.figure.prototype._init_toolbar = function() {\n",
       "    var fig = this;\n",
       "\n",
       "    var nav_element = $('<div/>')\n",
       "    nav_element.attr('style', 'width: 100%');\n",
       "    this.root.append(nav_element);\n",
       "\n",
       "    // Define a callback function for later on.\n",
       "    function toolbar_event(event) {\n",
       "        return fig.toolbar_button_onclick(event['data']);\n",
       "    }\n",
       "    function toolbar_mouse_event(event) {\n",
       "        return fig.toolbar_button_onmouseover(event['data']);\n",
       "    }\n",
       "\n",
       "    for(var toolbar_ind in mpl.toolbar_items){\n",
       "        var name = mpl.toolbar_items[toolbar_ind][0];\n",
       "        var tooltip = mpl.toolbar_items[toolbar_ind][1];\n",
       "        var image = mpl.toolbar_items[toolbar_ind][2];\n",
       "        var method_name = mpl.toolbar_items[toolbar_ind][3];\n",
       "\n",
       "        if (!name) { continue; };\n",
       "\n",
       "        var button = $('<button class=\"btn btn-default\" href=\"#\" title=\"' + name + '\"><i class=\"fa ' + image + ' fa-lg\"></i></button>');\n",
       "        button.click(method_name, toolbar_event);\n",
       "        button.mouseover(tooltip, toolbar_mouse_event);\n",
       "        nav_element.append(button);\n",
       "    }\n",
       "\n",
       "    // Add the status bar.\n",
       "    var status_bar = $('<span class=\"mpl-message\" style=\"text-align:right; float: right;\"/>');\n",
       "    nav_element.append(status_bar);\n",
       "    this.message = status_bar[0];\n",
       "\n",
       "    // Add the close button to the window.\n",
       "    var buttongrp = $('<div class=\"btn-group inline pull-right\"></div>');\n",
       "    var button = $('<button class=\"btn btn-mini btn-primary\" href=\"#\" title=\"Stop Interaction\"><i class=\"fa fa-power-off icon-remove icon-large\"></i></button>');\n",
       "    button.click(function (evt) { fig.handle_close(fig, {}); } );\n",
       "    button.mouseover('Stop Interaction', toolbar_mouse_event);\n",
       "    buttongrp.append(button);\n",
       "    var titlebar = this.root.find($('.ui-dialog-titlebar'));\n",
       "    titlebar.prepend(buttongrp);\n",
       "}\n",
       "\n",
       "mpl.figure.prototype._root_extra_style = function(el){\n",
       "    var fig = this\n",
       "    el.on(\"remove\", function(){\n",
       "\tfig.close_ws(fig, {});\n",
       "    });\n",
       "}\n",
       "\n",
       "mpl.figure.prototype._canvas_extra_style = function(el){\n",
       "    // this is important to make the div 'focusable\n",
       "    el.attr('tabindex', 0)\n",
       "    // reach out to IPython and tell the keyboard manager to turn it's self\n",
       "    // off when our div gets focus\n",
       "\n",
       "    // location in version 3\n",
       "    if (IPython.notebook.keyboard_manager) {\n",
       "        IPython.notebook.keyboard_manager.register_events(el);\n",
       "    }\n",
       "    else {\n",
       "        // location in version 2\n",
       "        IPython.keyboard_manager.register_events(el);\n",
       "    }\n",
       "\n",
       "}\n",
       "\n",
       "mpl.figure.prototype._key_event_extra = function(event, name) {\n",
       "    var manager = IPython.notebook.keyboard_manager;\n",
       "    if (!manager)\n",
       "        manager = IPython.keyboard_manager;\n",
       "\n",
       "    // Check for shift+enter\n",
       "    if (event.shiftKey && event.which == 13) {\n",
       "        this.canvas_div.blur();\n",
       "        event.shiftKey = false;\n",
       "        // Send a \"J\" for go to next cell\n",
       "        event.which = 74;\n",
       "        event.keyCode = 74;\n",
       "        manager.command_mode();\n",
       "        manager.handle_keydown(event);\n",
       "    }\n",
       "}\n",
       "\n",
       "mpl.figure.prototype.handle_save = function(fig, msg) {\n",
       "    fig.ondownload(fig, null);\n",
       "}\n",
       "\n",
       "\n",
       "mpl.find_output_cell = function(html_output) {\n",
       "    // Return the cell and output element which can be found *uniquely* in the notebook.\n",
       "    // Note - this is a bit hacky, but it is done because the \"notebook_saving.Notebook\"\n",
       "    // IPython event is triggered only after the cells have been serialised, which for\n",
       "    // our purposes (turning an active figure into a static one), is too late.\n",
       "    var cells = IPython.notebook.get_cells();\n",
       "    var ncells = cells.length;\n",
       "    for (var i=0; i<ncells; i++) {\n",
       "        var cell = cells[i];\n",
       "        if (cell.cell_type === 'code'){\n",
       "            for (var j=0; j<cell.output_area.outputs.length; j++) {\n",
       "                var data = cell.output_area.outputs[j];\n",
       "                if (data.data) {\n",
       "                    // IPython >= 3 moved mimebundle to data attribute of output\n",
       "                    data = data.data;\n",
       "                }\n",
       "                if (data['text/html'] == html_output) {\n",
       "                    return [cell, data, j];\n",
       "                }\n",
       "            }\n",
       "        }\n",
       "    }\n",
       "}\n",
       "\n",
       "// Register the function which deals with the matplotlib target/channel.\n",
       "// The kernel may be null if the page has been refreshed.\n",
       "if (IPython.notebook.kernel != null) {\n",
       "    IPython.notebook.kernel.comm_manager.register_target('matplotlib', mpl.mpl_figure_comm);\n",
       "}\n"
      ],
      "text/plain": [
       "<IPython.core.display.Javascript object>"
      ]
     },
     "metadata": {},
     "output_type": "display_data"
    },
    {
     "data": {
      "text/html": [
       "<img src=\"data:image/png;base64,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\" width=\"799.5\">"
      ],
      "text/plain": [
       "<IPython.core.display.HTML object>"
      ]
     },
     "metadata": {},
     "output_type": "display_data"
    }
   ],
   "source": [
    "# Omega = Cauchy(2,1) so that K_c = 2\n",
    "p = KuramotoModel(omega=omega, scale=scale)\n",
    "plt.show()"
   ]
  },
  {
   "cell_type": "markdown",
   "metadata": {
    "slideshow": {
     "slide_type": "notes"
    }
   },
   "source": [
    "Points:\n",
    "- Wiener -> Winfree -> Kuramoto\n",
    "- Comes from studying BZ reaction\n",
    "- Motion on a strongly attracive limit cycle (invariant manifold) such that coupling\n",
    "- All-to-all coupling on a complete graph.\n",
    "- sinusoidal in phase -> linear in complex co-ordinates.\n",
    "- Kuramoto showed that at $K_c=2$ a Hopf bifurcation creates a synchronised state, that becomes progressive more stable as $K_c$ increases."
   ]
  },
  {
   "cell_type": "markdown",
   "metadata": {
    "slideshow": {
     "slide_type": "subslide"
    }
   },
   "source": [
    "## The Kuramoto Model (Cont.)"
   ]
  },
  {
   "cell_type": "markdown",
   "metadata": {
    "cell_style": "split",
    "slideshow": {
     "slide_type": "-"
    }
   },
   "source": [
    "Kuramoto introduced an 'order parameter' $r$ to measure phase coherence\n",
    "\\begin{equation}\n",
    "z = r\\mathrm{e}^{\\mathrm{i}\\Theta} = \\frac{1}{n}\\sum_{k=1}^n \\exp{\\mathrm{i}\\theta_k} \\implies r = \\frac{1}{n}\\sum_{k=1}^n \\exp\\mathrm{i}(\\theta_k-\\Theta)\n",
    "\\end{equation}\n",
    "It follows that\n",
    "$$\n",
    "\\Im\\left[\\frac{1}{n}\\sum_{k=1}^n\\exp i(\\theta_k - \\theta_j)\\right] = \n",
    "\\Im\\left[r\\exp i(\\Theta - \\theta_j)\\right] \n",
    "$$\n",
    "\n",
    "\n",
    "Hence\n",
    "$$\n",
    "\\dot{\\theta}_j =  \\omega_j + \\frac{K}{n}\\sum_{k=1}^n\\sin(\\theta_k - \\theta_j)$$\n",
    "\n",
    "becomes \n",
    "$$\n",
    "\\dot{\\theta}_j =  \\omega_j + rK\\sin(\\Theta - \\theta_j).\n",
    "$$"
   ]
  },
  {
   "cell_type": "code",
   "execution_count": 4,
   "metadata": {
    "cell_style": "split",
    "slideshow": {
     "slide_type": "-"
    }
   },
   "outputs": [
    {
     "data": {
      "application/javascript": [
       "/* Put everything inside the global mpl namespace */\n",
       "window.mpl = {};\n",
       "\n",
       "\n",
       "mpl.get_websocket_type = function() {\n",
       "    if (typeof(WebSocket) !== 'undefined') {\n",
       "        return WebSocket;\n",
       "    } else if (typeof(MozWebSocket) !== 'undefined') {\n",
       "        return MozWebSocket;\n",
       "    } else {\n",
       "        alert('Your browser does not have WebSocket support.' +\n",
       "              'Please try Chrome, Safari or Firefox ≥ 6. ' +\n",
       "              'Firefox 4 and 5 are also supported but you ' +\n",
       "              'have to enable WebSockets in about:config.');\n",
       "    };\n",
       "}\n",
       "\n",
       "mpl.figure = function(figure_id, websocket, ondownload, parent_element) {\n",
       "    this.id = figure_id;\n",
       "\n",
       "    this.ws = websocket;\n",
       "\n",
       "    this.supports_binary = (this.ws.binaryType != undefined);\n",
       "\n",
       "    if (!this.supports_binary) {\n",
       "        var warnings = document.getElementById(\"mpl-warnings\");\n",
       "        if (warnings) {\n",
       "            warnings.style.display = 'block';\n",
       "            warnings.textContent = (\n",
       "                \"This browser does not support binary websocket messages. \" +\n",
       "                    \"Performance may be slow.\");\n",
       "        }\n",
       "    }\n",
       "\n",
       "    this.imageObj = new Image();\n",
       "\n",
       "    this.context = undefined;\n",
       "    this.message = undefined;\n",
       "    this.canvas = undefined;\n",
       "    this.rubberband_canvas = undefined;\n",
       "    this.rubberband_context = undefined;\n",
       "    this.format_dropdown = undefined;\n",
       "\n",
       "    this.image_mode = 'full';\n",
       "\n",
       "    this.root = $('<div/>');\n",
       "    this._root_extra_style(this.root)\n",
       "    this.root.attr('style', 'display: inline-block');\n",
       "\n",
       "    $(parent_element).append(this.root);\n",
       "\n",
       "    this._init_header(this);\n",
       "    this._init_canvas(this);\n",
       "    this._init_toolbar(this);\n",
       "\n",
       "    var fig = this;\n",
       "\n",
       "    this.waiting = false;\n",
       "\n",
       "    this.ws.onopen =  function () {\n",
       "            fig.send_message(\"supports_binary\", {value: fig.supports_binary});\n",
       "            fig.send_message(\"send_image_mode\", {});\n",
       "            if (mpl.ratio != 1) {\n",
       "                fig.send_message(\"set_dpi_ratio\", {'dpi_ratio': mpl.ratio});\n",
       "            }\n",
       "            fig.send_message(\"refresh\", {});\n",
       "        }\n",
       "\n",
       "    this.imageObj.onload = function() {\n",
       "            if (fig.image_mode == 'full') {\n",
       "                // Full images could contain transparency (where diff images\n",
       "                // almost always do), so we need to clear the canvas so that\n",
       "                // there is no ghosting.\n",
       "                fig.context.clearRect(0, 0, fig.canvas.width, fig.canvas.height);\n",
       "            }\n",
       "            fig.context.drawImage(fig.imageObj, 0, 0);\n",
       "        };\n",
       "\n",
       "    this.imageObj.onunload = function() {\n",
       "        fig.ws.close();\n",
       "    }\n",
       "\n",
       "    this.ws.onmessage = this._make_on_message_function(this);\n",
       "\n",
       "    this.ondownload = ondownload;\n",
       "}\n",
       "\n",
       "mpl.figure.prototype._init_header = function() {\n",
       "    var titlebar = $(\n",
       "        '<div class=\"ui-dialog-titlebar ui-widget-header ui-corner-all ' +\n",
       "        'ui-helper-clearfix\"/>');\n",
       "    var titletext = $(\n",
       "        '<div class=\"ui-dialog-title\" style=\"width: 100%; ' +\n",
       "        'text-align: center; padding: 3px;\"/>');\n",
       "    titlebar.append(titletext)\n",
       "    this.root.append(titlebar);\n",
       "    this.header = titletext[0];\n",
       "}\n",
       "\n",
       "\n",
       "\n",
       "mpl.figure.prototype._canvas_extra_style = function(canvas_div) {\n",
       "\n",
       "}\n",
       "\n",
       "\n",
       "mpl.figure.prototype._root_extra_style = function(canvas_div) {\n",
       "\n",
       "}\n",
       "\n",
       "mpl.figure.prototype._init_canvas = function() {\n",
       "    var fig = this;\n",
       "\n",
       "    var canvas_div = $('<div/>');\n",
       "\n",
       "    canvas_div.attr('style', 'position: relative; clear: both; outline: 0');\n",
       "\n",
       "    function canvas_keyboard_event(event) {\n",
       "        return fig.key_event(event, event['data']);\n",
       "    }\n",
       "\n",
       "    canvas_div.keydown('key_press', canvas_keyboard_event);\n",
       "    canvas_div.keyup('key_release', canvas_keyboard_event);\n",
       "    this.canvas_div = canvas_div\n",
       "    this._canvas_extra_style(canvas_div)\n",
       "    this.root.append(canvas_div);\n",
       "\n",
       "    var canvas = $('<canvas/>');\n",
       "    canvas.addClass('mpl-canvas');\n",
       "    canvas.attr('style', \"left: 0; top: 0; z-index: 0; outline: 0\")\n",
       "\n",
       "    this.canvas = canvas[0];\n",
       "    this.context = canvas[0].getContext(\"2d\");\n",
       "\n",
       "    var backingStore = this.context.backingStorePixelRatio ||\n",
       "\tthis.context.webkitBackingStorePixelRatio ||\n",
       "\tthis.context.mozBackingStorePixelRatio ||\n",
       "\tthis.context.msBackingStorePixelRatio ||\n",
       "\tthis.context.oBackingStorePixelRatio ||\n",
       "\tthis.context.backingStorePixelRatio || 1;\n",
       "\n",
       "    mpl.ratio = (window.devicePixelRatio || 1) / backingStore;\n",
       "\n",
       "    var rubberband = $('<canvas/>');\n",
       "    rubberband.attr('style', \"position: absolute; left: 0; top: 0; z-index: 1;\")\n",
       "\n",
       "    var pass_mouse_events = true;\n",
       "\n",
       "    canvas_div.resizable({\n",
       "        start: function(event, ui) {\n",
       "            pass_mouse_events = false;\n",
       "        },\n",
       "        resize: function(event, ui) {\n",
       "            fig.request_resize(ui.size.width, ui.size.height);\n",
       "        },\n",
       "        stop: function(event, ui) {\n",
       "            pass_mouse_events = true;\n",
       "            fig.request_resize(ui.size.width, ui.size.height);\n",
       "        },\n",
       "    });\n",
       "\n",
       "    function mouse_event_fn(event) {\n",
       "        if (pass_mouse_events)\n",
       "            return fig.mouse_event(event, event['data']);\n",
       "    }\n",
       "\n",
       "    rubberband.mousedown('button_press', mouse_event_fn);\n",
       "    rubberband.mouseup('button_release', mouse_event_fn);\n",
       "    // Throttle sequential mouse events to 1 every 20ms.\n",
       "    rubberband.mousemove('motion_notify', mouse_event_fn);\n",
       "\n",
       "    rubberband.mouseenter('figure_enter', mouse_event_fn);\n",
       "    rubberband.mouseleave('figure_leave', mouse_event_fn);\n",
       "\n",
       "    canvas_div.on(\"wheel\", function (event) {\n",
       "        event = event.originalEvent;\n",
       "        event['data'] = 'scroll'\n",
       "        if (event.deltaY < 0) {\n",
       "            event.step = 1;\n",
       "        } else {\n",
       "            event.step = -1;\n",
       "        }\n",
       "        mouse_event_fn(event);\n",
       "    });\n",
       "\n",
       "    canvas_div.append(canvas);\n",
       "    canvas_div.append(rubberband);\n",
       "\n",
       "    this.rubberband = rubberband;\n",
       "    this.rubberband_canvas = rubberband[0];\n",
       "    this.rubberband_context = rubberband[0].getContext(\"2d\");\n",
       "    this.rubberband_context.strokeStyle = \"#000000\";\n",
       "\n",
       "    this._resize_canvas = function(width, height) {\n",
       "        // Keep the size of the canvas, canvas container, and rubber band\n",
       "        // canvas in synch.\n",
       "        canvas_div.css('width', width)\n",
       "        canvas_div.css('height', height)\n",
       "\n",
       "        canvas.attr('width', width * mpl.ratio);\n",
       "        canvas.attr('height', height * mpl.ratio);\n",
       "        canvas.attr('style', 'width: ' + width + 'px; height: ' + height + 'px;');\n",
       "\n",
       "        rubberband.attr('width', width);\n",
       "        rubberband.attr('height', height);\n",
       "    }\n",
       "\n",
       "    // Set the figure to an initial 600x600px, this will subsequently be updated\n",
       "    // upon first draw.\n",
       "    this._resize_canvas(600, 600);\n",
       "\n",
       "    // Disable right mouse context menu.\n",
       "    $(this.rubberband_canvas).bind(\"contextmenu\",function(e){\n",
       "        return false;\n",
       "    });\n",
       "\n",
       "    function set_focus () {\n",
       "        canvas.focus();\n",
       "        canvas_div.focus();\n",
       "    }\n",
       "\n",
       "    window.setTimeout(set_focus, 100);\n",
       "}\n",
       "\n",
       "mpl.figure.prototype._init_toolbar = function() {\n",
       "    var fig = this;\n",
       "\n",
       "    var nav_element = $('<div/>')\n",
       "    nav_element.attr('style', 'width: 100%');\n",
       "    this.root.append(nav_element);\n",
       "\n",
       "    // Define a callback function for later on.\n",
       "    function toolbar_event(event) {\n",
       "        return fig.toolbar_button_onclick(event['data']);\n",
       "    }\n",
       "    function toolbar_mouse_event(event) {\n",
       "        return fig.toolbar_button_onmouseover(event['data']);\n",
       "    }\n",
       "\n",
       "    for(var toolbar_ind in mpl.toolbar_items) {\n",
       "        var name = mpl.toolbar_items[toolbar_ind][0];\n",
       "        var tooltip = mpl.toolbar_items[toolbar_ind][1];\n",
       "        var image = mpl.toolbar_items[toolbar_ind][2];\n",
       "        var method_name = mpl.toolbar_items[toolbar_ind][3];\n",
       "\n",
       "        if (!name) {\n",
       "            // put a spacer in here.\n",
       "            continue;\n",
       "        }\n",
       "        var button = $('<button/>');\n",
       "        button.addClass('ui-button ui-widget ui-state-default ui-corner-all ' +\n",
       "                        'ui-button-icon-only');\n",
       "        button.attr('role', 'button');\n",
       "        button.attr('aria-disabled', 'false');\n",
       "        button.click(method_name, toolbar_event);\n",
       "        button.mouseover(tooltip, toolbar_mouse_event);\n",
       "\n",
       "        var icon_img = $('<span/>');\n",
       "        icon_img.addClass('ui-button-icon-primary ui-icon');\n",
       "        icon_img.addClass(image);\n",
       "        icon_img.addClass('ui-corner-all');\n",
       "\n",
       "        var tooltip_span = $('<span/>');\n",
       "        tooltip_span.addClass('ui-button-text');\n",
       "        tooltip_span.html(tooltip);\n",
       "\n",
       "        button.append(icon_img);\n",
       "        button.append(tooltip_span);\n",
       "\n",
       "        nav_element.append(button);\n",
       "    }\n",
       "\n",
       "    var fmt_picker_span = $('<span/>');\n",
       "\n",
       "    var fmt_picker = $('<select/>');\n",
       "    fmt_picker.addClass('mpl-toolbar-option ui-widget ui-widget-content');\n",
       "    fmt_picker_span.append(fmt_picker);\n",
       "    nav_element.append(fmt_picker_span);\n",
       "    this.format_dropdown = fmt_picker[0];\n",
       "\n",
       "    for (var ind in mpl.extensions) {\n",
       "        var fmt = mpl.extensions[ind];\n",
       "        var option = $(\n",
       "            '<option/>', {selected: fmt === mpl.default_extension}).html(fmt);\n",
       "        fmt_picker.append(option)\n",
       "    }\n",
       "\n",
       "    // Add hover states to the ui-buttons\n",
       "    $( \".ui-button\" ).hover(\n",
       "        function() { $(this).addClass(\"ui-state-hover\");},\n",
       "        function() { $(this).removeClass(\"ui-state-hover\");}\n",
       "    );\n",
       "\n",
       "    var status_bar = $('<span class=\"mpl-message\"/>');\n",
       "    nav_element.append(status_bar);\n",
       "    this.message = status_bar[0];\n",
       "}\n",
       "\n",
       "mpl.figure.prototype.request_resize = function(x_pixels, y_pixels) {\n",
       "    // Request matplotlib to resize the figure. Matplotlib will then trigger a resize in the client,\n",
       "    // which will in turn request a refresh of the image.\n",
       "    this.send_message('resize', {'width': x_pixels, 'height': y_pixels});\n",
       "}\n",
       "\n",
       "mpl.figure.prototype.send_message = function(type, properties) {\n",
       "    properties['type'] = type;\n",
       "    properties['figure_id'] = this.id;\n",
       "    this.ws.send(JSON.stringify(properties));\n",
       "}\n",
       "\n",
       "mpl.figure.prototype.send_draw_message = function() {\n",
       "    if (!this.waiting) {\n",
       "        this.waiting = true;\n",
       "        this.ws.send(JSON.stringify({type: \"draw\", figure_id: this.id}));\n",
       "    }\n",
       "}\n",
       "\n",
       "\n",
       "mpl.figure.prototype.handle_save = function(fig, msg) {\n",
       "    var format_dropdown = fig.format_dropdown;\n",
       "    var format = format_dropdown.options[format_dropdown.selectedIndex].value;\n",
       "    fig.ondownload(fig, format);\n",
       "}\n",
       "\n",
       "\n",
       "mpl.figure.prototype.handle_resize = function(fig, msg) {\n",
       "    var size = msg['size'];\n",
       "    if (size[0] != fig.canvas.width || size[1] != fig.canvas.height) {\n",
       "        fig._resize_canvas(size[0], size[1]);\n",
       "        fig.send_message(\"refresh\", {});\n",
       "    };\n",
       "}\n",
       "\n",
       "mpl.figure.prototype.handle_rubberband = function(fig, msg) {\n",
       "    var x0 = msg['x0'] / mpl.ratio;\n",
       "    var y0 = (fig.canvas.height - msg['y0']) / mpl.ratio;\n",
       "    var x1 = msg['x1'] / mpl.ratio;\n",
       "    var y1 = (fig.canvas.height - msg['y1']) / mpl.ratio;\n",
       "    x0 = Math.floor(x0) + 0.5;\n",
       "    y0 = Math.floor(y0) + 0.5;\n",
       "    x1 = Math.floor(x1) + 0.5;\n",
       "    y1 = Math.floor(y1) + 0.5;\n",
       "    var min_x = Math.min(x0, x1);\n",
       "    var min_y = Math.min(y0, y1);\n",
       "    var width = Math.abs(x1 - x0);\n",
       "    var height = Math.abs(y1 - y0);\n",
       "\n",
       "    fig.rubberband_context.clearRect(\n",
       "        0, 0, fig.canvas.width, fig.canvas.height);\n",
       "\n",
       "    fig.rubberband_context.strokeRect(min_x, min_y, width, height);\n",
       "}\n",
       "\n",
       "mpl.figure.prototype.handle_figure_label = function(fig, msg) {\n",
       "    // Updates the figure title.\n",
       "    fig.header.textContent = msg['label'];\n",
       "}\n",
       "\n",
       "mpl.figure.prototype.handle_cursor = function(fig, msg) {\n",
       "    var cursor = msg['cursor'];\n",
       "    switch(cursor)\n",
       "    {\n",
       "    case 0:\n",
       "        cursor = 'pointer';\n",
       "        break;\n",
       "    case 1:\n",
       "        cursor = 'default';\n",
       "        break;\n",
       "    case 2:\n",
       "        cursor = 'crosshair';\n",
       "        break;\n",
       "    case 3:\n",
       "        cursor = 'move';\n",
       "        break;\n",
       "    }\n",
       "    fig.rubberband_canvas.style.cursor = cursor;\n",
       "}\n",
       "\n",
       "mpl.figure.prototype.handle_message = function(fig, msg) {\n",
       "    fig.message.textContent = msg['message'];\n",
       "}\n",
       "\n",
       "mpl.figure.prototype.handle_draw = function(fig, msg) {\n",
       "    // Request the server to send over a new figure.\n",
       "    fig.send_draw_message();\n",
       "}\n",
       "\n",
       "mpl.figure.prototype.handle_image_mode = function(fig, msg) {\n",
       "    fig.image_mode = msg['mode'];\n",
       "}\n",
       "\n",
       "mpl.figure.prototype.updated_canvas_event = function() {\n",
       "    // Called whenever the canvas gets updated.\n",
       "    this.send_message(\"ack\", {});\n",
       "}\n",
       "\n",
       "// A function to construct a web socket function for onmessage handling.\n",
       "// Called in the figure constructor.\n",
       "mpl.figure.prototype._make_on_message_function = function(fig) {\n",
       "    return function socket_on_message(evt) {\n",
       "        if (evt.data instanceof Blob) {\n",
       "            /* FIXME: We get \"Resource interpreted as Image but\n",
       "             * transferred with MIME type text/plain:\" errors on\n",
       "             * Chrome.  But how to set the MIME type?  It doesn't seem\n",
       "             * to be part of the websocket stream */\n",
       "            evt.data.type = \"image/png\";\n",
       "\n",
       "            /* Free the memory for the previous frames */\n",
       "            if (fig.imageObj.src) {\n",
       "                (window.URL || window.webkitURL).revokeObjectURL(\n",
       "                    fig.imageObj.src);\n",
       "            }\n",
       "\n",
       "            fig.imageObj.src = (window.URL || window.webkitURL).createObjectURL(\n",
       "                evt.data);\n",
       "            fig.updated_canvas_event();\n",
       "            fig.waiting = false;\n",
       "            return;\n",
       "        }\n",
       "        else if (typeof evt.data === 'string' && evt.data.slice(0, 21) == \"data:image/png;base64\") {\n",
       "            fig.imageObj.src = evt.data;\n",
       "            fig.updated_canvas_event();\n",
       "            fig.waiting = false;\n",
       "            return;\n",
       "        }\n",
       "\n",
       "        var msg = JSON.parse(evt.data);\n",
       "        var msg_type = msg['type'];\n",
       "\n",
       "        // Call the  \"handle_{type}\" callback, which takes\n",
       "        // the figure and JSON message as its only arguments.\n",
       "        try {\n",
       "            var callback = fig[\"handle_\" + msg_type];\n",
       "        } catch (e) {\n",
       "            console.log(\"No handler for the '\" + msg_type + \"' message type: \", msg);\n",
       "            return;\n",
       "        }\n",
       "\n",
       "        if (callback) {\n",
       "            try {\n",
       "                // console.log(\"Handling '\" + msg_type + \"' message: \", msg);\n",
       "                callback(fig, msg);\n",
       "            } catch (e) {\n",
       "                console.log(\"Exception inside the 'handler_\" + msg_type + \"' callback:\", e, e.stack, msg);\n",
       "            }\n",
       "        }\n",
       "    };\n",
       "}\n",
       "\n",
       "// from http://stackoverflow.com/questions/1114465/getting-mouse-location-in-canvas\n",
       "mpl.findpos = function(e) {\n",
       "    //this section is from http://www.quirksmode.org/js/events_properties.html\n",
       "    var targ;\n",
       "    if (!e)\n",
       "        e = window.event;\n",
       "    if (e.target)\n",
       "        targ = e.target;\n",
       "    else if (e.srcElement)\n",
       "        targ = e.srcElement;\n",
       "    if (targ.nodeType == 3) // defeat Safari bug\n",
       "        targ = targ.parentNode;\n",
       "\n",
       "    // jQuery normalizes the pageX and pageY\n",
       "    // pageX,Y are the mouse positions relative to the document\n",
       "    // offset() returns the position of the element relative to the document\n",
       "    var x = e.pageX - $(targ).offset().left;\n",
       "    var y = e.pageY - $(targ).offset().top;\n",
       "\n",
       "    return {\"x\": x, \"y\": y};\n",
       "};\n",
       "\n",
       "/*\n",
       " * return a copy of an object with only non-object keys\n",
       " * we need this to avoid circular references\n",
       " * http://stackoverflow.com/a/24161582/3208463\n",
       " */\n",
       "function simpleKeys (original) {\n",
       "  return Object.keys(original).reduce(function (obj, key) {\n",
       "    if (typeof original[key] !== 'object')\n",
       "        obj[key] = original[key]\n",
       "    return obj;\n",
       "  }, {});\n",
       "}\n",
       "\n",
       "mpl.figure.prototype.mouse_event = function(event, name) {\n",
       "    var canvas_pos = mpl.findpos(event)\n",
       "\n",
       "    if (name === 'button_press')\n",
       "    {\n",
       "        this.canvas.focus();\n",
       "        this.canvas_div.focus();\n",
       "    }\n",
       "\n",
       "    var x = canvas_pos.x * mpl.ratio;\n",
       "    var y = canvas_pos.y * mpl.ratio;\n",
       "\n",
       "    this.send_message(name, {x: x, y: y, button: event.button,\n",
       "                             step: event.step,\n",
       "                             guiEvent: simpleKeys(event)});\n",
       "\n",
       "    /* This prevents the web browser from automatically changing to\n",
       "     * the text insertion cursor when the button is pressed.  We want\n",
       "     * to control all of the cursor setting manually through the\n",
       "     * 'cursor' event from matplotlib */\n",
       "    event.preventDefault();\n",
       "    return false;\n",
       "}\n",
       "\n",
       "mpl.figure.prototype._key_event_extra = function(event, name) {\n",
       "    // Handle any extra behaviour associated with a key event\n",
       "}\n",
       "\n",
       "mpl.figure.prototype.key_event = function(event, name) {\n",
       "\n",
       "    // Prevent repeat events\n",
       "    if (name == 'key_press')\n",
       "    {\n",
       "        if (event.which === this._key)\n",
       "            return;\n",
       "        else\n",
       "            this._key = event.which;\n",
       "    }\n",
       "    if (name == 'key_release')\n",
       "        this._key = null;\n",
       "\n",
       "    var value = '';\n",
       "    if (event.ctrlKey && event.which != 17)\n",
       "        value += \"ctrl+\";\n",
       "    if (event.altKey && event.which != 18)\n",
       "        value += \"alt+\";\n",
       "    if (event.shiftKey && event.which != 16)\n",
       "        value += \"shift+\";\n",
       "\n",
       "    value += 'k';\n",
       "    value += event.which.toString();\n",
       "\n",
       "    this._key_event_extra(event, name);\n",
       "\n",
       "    this.send_message(name, {key: value,\n",
       "                             guiEvent: simpleKeys(event)});\n",
       "    return false;\n",
       "}\n",
       "\n",
       "mpl.figure.prototype.toolbar_button_onclick = function(name) {\n",
       "    if (name == 'download') {\n",
       "        this.handle_save(this, null);\n",
       "    } else {\n",
       "        this.send_message(\"toolbar_button\", {name: name});\n",
       "    }\n",
       "};\n",
       "\n",
       "mpl.figure.prototype.toolbar_button_onmouseover = function(tooltip) {\n",
       "    this.message.textContent = tooltip;\n",
       "};\n",
       "mpl.toolbar_items = [[\"Home\", \"Reset original view\", \"fa fa-home icon-home\", \"home\"], [\"Back\", \"Back to  previous view\", \"fa fa-arrow-left icon-arrow-left\", \"back\"], [\"Forward\", \"Forward to next view\", \"fa fa-arrow-right icon-arrow-right\", \"forward\"], [\"\", \"\", \"\", \"\"], [\"Pan\", \"Pan axes with left mouse, zoom with right\", \"fa fa-arrows icon-move\", \"pan\"], [\"Zoom\", \"Zoom to rectangle\", \"fa fa-square-o icon-check-empty\", \"zoom\"], [\"\", \"\", \"\", \"\"], [\"Download\", \"Download plot\", \"fa fa-floppy-o icon-save\", \"download\"]];\n",
       "\n",
       "mpl.extensions = [\"eps\", \"pdf\", \"png\", \"ps\", \"raw\", \"svg\"];\n",
       "\n",
       "mpl.default_extension = \"png\";var comm_websocket_adapter = function(comm) {\n",
       "    // Create a \"websocket\"-like object which calls the given IPython comm\n",
       "    // object with the appropriate methods. Currently this is a non binary\n",
       "    // socket, so there is still some room for performance tuning.\n",
       "    var ws = {};\n",
       "\n",
       "    ws.close = function() {\n",
       "        comm.close()\n",
       "    };\n",
       "    ws.send = function(m) {\n",
       "        //console.log('sending', m);\n",
       "        comm.send(m);\n",
       "    };\n",
       "    // Register the callback with on_msg.\n",
       "    comm.on_msg(function(msg) {\n",
       "        //console.log('receiving', msg['content']['data'], msg);\n",
       "        // Pass the mpl event to the overridden (by mpl) onmessage function.\n",
       "        ws.onmessage(msg['content']['data'])\n",
       "    });\n",
       "    return ws;\n",
       "}\n",
       "\n",
       "mpl.mpl_figure_comm = function(comm, msg) {\n",
       "    // This is the function which gets called when the mpl process\n",
       "    // starts-up an IPython Comm through the \"matplotlib\" channel.\n",
       "\n",
       "    var id = msg.content.data.id;\n",
       "    // Get hold of the div created by the display call when the Comm\n",
       "    // socket was opened in Python.\n",
       "    var element = $(\"#\" + id);\n",
       "    var ws_proxy = comm_websocket_adapter(comm)\n",
       "\n",
       "    function ondownload(figure, format) {\n",
       "        window.open(figure.imageObj.src);\n",
       "    }\n",
       "\n",
       "    var fig = new mpl.figure(id, ws_proxy,\n",
       "                           ondownload,\n",
       "                           element.get(0));\n",
       "\n",
       "    // Call onopen now - mpl needs it, as it is assuming we've passed it a real\n",
       "    // web socket which is closed, not our websocket->open comm proxy.\n",
       "    ws_proxy.onopen();\n",
       "\n",
       "    fig.parent_element = element.get(0);\n",
       "    fig.cell_info = mpl.find_output_cell(\"<div id='\" + id + \"'></div>\");\n",
       "    if (!fig.cell_info) {\n",
       "        console.error(\"Failed to find cell for figure\", id, fig);\n",
       "        return;\n",
       "    }\n",
       "\n",
       "    var output_index = fig.cell_info[2]\n",
       "    var cell = fig.cell_info[0];\n",
       "\n",
       "};\n",
       "\n",
       "mpl.figure.prototype.handle_close = function(fig, msg) {\n",
       "    var width = fig.canvas.width/mpl.ratio\n",
       "    fig.root.unbind('remove')\n",
       "\n",
       "    // Update the output cell to use the data from the current canvas.\n",
       "    fig.push_to_output();\n",
       "    var dataURL = fig.canvas.toDataURL();\n",
       "    // Re-enable the keyboard manager in IPython - without this line, in FF,\n",
       "    // the notebook keyboard shortcuts fail.\n",
       "    IPython.keyboard_manager.enable()\n",
       "    $(fig.parent_element).html('<img src=\"' + dataURL + '\" width=\"' + width + '\">');\n",
       "    fig.close_ws(fig, msg);\n",
       "}\n",
       "\n",
       "mpl.figure.prototype.close_ws = function(fig, msg){\n",
       "    fig.send_message('closing', msg);\n",
       "    // fig.ws.close()\n",
       "}\n",
       "\n",
       "mpl.figure.prototype.push_to_output = function(remove_interactive) {\n",
       "    // Turn the data on the canvas into data in the output cell.\n",
       "    var width = this.canvas.width/mpl.ratio\n",
       "    var dataURL = this.canvas.toDataURL();\n",
       "    this.cell_info[1]['text/html'] = '<img src=\"' + dataURL + '\" width=\"' + width + '\">';\n",
       "}\n",
       "\n",
       "mpl.figure.prototype.updated_canvas_event = function() {\n",
       "    // Tell IPython that the notebook contents must change.\n",
       "    IPython.notebook.set_dirty(true);\n",
       "    this.send_message(\"ack\", {});\n",
       "    var fig = this;\n",
       "    // Wait a second, then push the new image to the DOM so\n",
       "    // that it is saved nicely (might be nice to debounce this).\n",
       "    setTimeout(function () { fig.push_to_output() }, 1000);\n",
       "}\n",
       "\n",
       "mpl.figure.prototype._init_toolbar = function() {\n",
       "    var fig = this;\n",
       "\n",
       "    var nav_element = $('<div/>')\n",
       "    nav_element.attr('style', 'width: 100%');\n",
       "    this.root.append(nav_element);\n",
       "\n",
       "    // Define a callback function for later on.\n",
       "    function toolbar_event(event) {\n",
       "        return fig.toolbar_button_onclick(event['data']);\n",
       "    }\n",
       "    function toolbar_mouse_event(event) {\n",
       "        return fig.toolbar_button_onmouseover(event['data']);\n",
       "    }\n",
       "\n",
       "    for(var toolbar_ind in mpl.toolbar_items){\n",
       "        var name = mpl.toolbar_items[toolbar_ind][0];\n",
       "        var tooltip = mpl.toolbar_items[toolbar_ind][1];\n",
       "        var image = mpl.toolbar_items[toolbar_ind][2];\n",
       "        var method_name = mpl.toolbar_items[toolbar_ind][3];\n",
       "\n",
       "        if (!name) { continue; };\n",
       "\n",
       "        var button = $('<button class=\"btn btn-default\" href=\"#\" title=\"' + name + '\"><i class=\"fa ' + image + ' fa-lg\"></i></button>');\n",
       "        button.click(method_name, toolbar_event);\n",
       "        button.mouseover(tooltip, toolbar_mouse_event);\n",
       "        nav_element.append(button);\n",
       "    }\n",
       "\n",
       "    // Add the status bar.\n",
       "    var status_bar = $('<span class=\"mpl-message\" style=\"text-align:right; float: right;\"/>');\n",
       "    nav_element.append(status_bar);\n",
       "    this.message = status_bar[0];\n",
       "\n",
       "    // Add the close button to the window.\n",
       "    var buttongrp = $('<div class=\"btn-group inline pull-right\"></div>');\n",
       "    var button = $('<button class=\"btn btn-mini btn-primary\" href=\"#\" title=\"Stop Interaction\"><i class=\"fa fa-power-off icon-remove icon-large\"></i></button>');\n",
       "    button.click(function (evt) { fig.handle_close(fig, {}); } );\n",
       "    button.mouseover('Stop Interaction', toolbar_mouse_event);\n",
       "    buttongrp.append(button);\n",
       "    var titlebar = this.root.find($('.ui-dialog-titlebar'));\n",
       "    titlebar.prepend(buttongrp);\n",
       "}\n",
       "\n",
       "mpl.figure.prototype._root_extra_style = function(el){\n",
       "    var fig = this\n",
       "    el.on(\"remove\", function(){\n",
       "\tfig.close_ws(fig, {});\n",
       "    });\n",
       "}\n",
       "\n",
       "mpl.figure.prototype._canvas_extra_style = function(el){\n",
       "    // this is important to make the div 'focusable\n",
       "    el.attr('tabindex', 0)\n",
       "    // reach out to IPython and tell the keyboard manager to turn it's self\n",
       "    // off when our div gets focus\n",
       "\n",
       "    // location in version 3\n",
       "    if (IPython.notebook.keyboard_manager) {\n",
       "        IPython.notebook.keyboard_manager.register_events(el);\n",
       "    }\n",
       "    else {\n",
       "        // location in version 2\n",
       "        IPython.keyboard_manager.register_events(el);\n",
       "    }\n",
       "\n",
       "}\n",
       "\n",
       "mpl.figure.prototype._key_event_extra = function(event, name) {\n",
       "    var manager = IPython.notebook.keyboard_manager;\n",
       "    if (!manager)\n",
       "        manager = IPython.keyboard_manager;\n",
       "\n",
       "    // Check for shift+enter\n",
       "    if (event.shiftKey && event.which == 13) {\n",
       "        this.canvas_div.blur();\n",
       "        event.shiftKey = false;\n",
       "        // Send a \"J\" for go to next cell\n",
       "        event.which = 74;\n",
       "        event.keyCode = 74;\n",
       "        manager.command_mode();\n",
       "        manager.handle_keydown(event);\n",
       "    }\n",
       "}\n",
       "\n",
       "mpl.figure.prototype.handle_save = function(fig, msg) {\n",
       "    fig.ondownload(fig, null);\n",
       "}\n",
       "\n",
       "\n",
       "mpl.find_output_cell = function(html_output) {\n",
       "    // Return the cell and output element which can be found *uniquely* in the notebook.\n",
       "    // Note - this is a bit hacky, but it is done because the \"notebook_saving.Notebook\"\n",
       "    // IPython event is triggered only after the cells have been serialised, which for\n",
       "    // our purposes (turning an active figure into a static one), is too late.\n",
       "    var cells = IPython.notebook.get_cells();\n",
       "    var ncells = cells.length;\n",
       "    for (var i=0; i<ncells; i++) {\n",
       "        var cell = cells[i];\n",
       "        if (cell.cell_type === 'code'){\n",
       "            for (var j=0; j<cell.output_area.outputs.length; j++) {\n",
       "                var data = cell.output_area.outputs[j];\n",
       "                if (data.data) {\n",
       "                    // IPython >= 3 moved mimebundle to data attribute of output\n",
       "                    data = data.data;\n",
       "                }\n",
       "                if (data['text/html'] == html_output) {\n",
       "                    return [cell, data, j];\n",
       "                }\n",
       "            }\n",
       "        }\n",
       "    }\n",
       "}\n",
       "\n",
       "// Register the function which deals with the matplotlib target/channel.\n",
       "// The kernel may be null if the page has been refreshed.\n",
       "if (IPython.notebook.kernel != null) {\n",
       "    IPython.notebook.kernel.comm_manager.register_target('matplotlib', mpl.mpl_figure_comm);\n",
       "}\n"
      ],
      "text/plain": [
       "<IPython.core.display.Javascript object>"
      ]
     },
     "metadata": {},
     "output_type": "display_data"
    },
    {
     "data": {
      "text/html": [
       "<img src=\"data:image/png;base64,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\" width=\"799.5\">"
      ],
      "text/plain": [
       "<IPython.core.display.HTML object>"
      ]
     },
     "metadata": {},
     "output_type": "display_data"
    }
   ],
   "source": [
    "p = KuramotoOrderModel(omega,scale=scale)\n",
    "plt.show()"
   ]
  },
  {
   "cell_type": "markdown",
   "metadata": {
    "slideshow": {
     "slide_type": "notes"
    }
   },
   "source": [
    "Points:\n",
    "- Mean phase is a kind of coordinate for the synchronous manifold.\n",
    "- Weak interactions with entire populations <=> strong coupling to collective statistics\n",
    "- Feedback look means that if coupling increases coherence, then $r$ increases asymptotically to $r_\\infty = \\sqrt{1-K_c/K}$$."
   ]
  },
  {
   "cell_type": "markdown",
   "metadata": {
    "cell_style": "center",
    "slideshow": {
     "slide_type": "subslide"
    }
   },
   "source": [
    "## The Status of the Kuramoto Model \n",
    "\n",
    "$$\n",
    "\\dot{\\theta}_j =  \\omega_j + rK\\sin(\\Theta - \\theta_j),\\qquad j = 1,\\ldots n.\\qquad r = \\frac{1}{n}\\sum_{k=1}^n \\exp i (\\theta_k - \\Theta).\n",
    "$$\n",
    "\n",
    "- Identical oscillators evolve on a 3 dimensional manifold (Watanabe and Strogatz, Physica D 1994. Ott and Antonsen, Chaos 2008).\n",
    "- Heterogenous oscillator dynamics represented in terms of collective co-ordinates in the thermodynamic limit (Pikovsky and Rosenblum, Physica D, 2011) and for finite-n (Gottwald, Chaos 2015).\n",
    "- Active research into applications in biology (particuarly neuroscience), physics and chemsitry.\n",
    "- Extensions to noisy, graph coupled and with various different coupling mechanisms.\n",
    "- Very few global results for heterogenous oscillators (Dietert, J. Math. Pures Appl. 2016).\n",
    "- _No results as yet for geometrical interpretation of transtion to synchrony._"
   ]
  },
  {
   "cell_type": "markdown",
   "metadata": {
    "slideshow": {
     "slide_type": "subslide"
    }
   },
   "source": [
    "## Some Takeaways\n",
    "\n",
    "$$\n",
    "\\dot{\\theta}_j =  \\omega_j + rK\\sin(\\Theta - \\theta_j),\\qquad j = 1,\\ldots n.\\qquad r = \\frac{1}{n}\\sum_{k=1}^n \\exp i (\\theta_k - \\Theta).\n",
    "$$\n"
   ]
  },
  {
   "cell_type": "markdown",
   "metadata": {
    "slideshow": {
     "slide_type": "fragment"
    }
   },
   "source": [
    "1. When thinking about emergence, we want to think about mutual coupling between population statistics and individuals."
   ]
  },
  {
   "cell_type": "markdown",
   "metadata": {
    "slideshow": {
     "slide_type": "fragment"
    }
   },
   "source": [
    "2. This means that, for a given system, we need to understand both the individual dynamics _and_ population level dynamics."
   ]
  },
  {
   "cell_type": "markdown",
   "metadata": {},
   "source": []
  },
  {
   "cell_type": "markdown",
   "metadata": {
    "slideshow": {
     "slide_type": "slide"
    }
   },
   "source": [
    "# Part 2: Coupled Optomechanical Systems "
   ]
  },
  {
   "cell_type": "markdown",
   "metadata": {
    "slideshow": {
     "slide_type": "subslide"
    }
   },
   "source": [
    "## Physics of Many-Body Quantum Optomechanics"
   ]
  },
  {
   "cell_type": "markdown",
   "metadata": {
    "cell_style": "split"
   },
   "source": [
    "![Optomechanial experiment](images/experiment.svg)"
   ]
  },
  {
   "cell_type": "markdown",
   "metadata": {
    "cell_style": "split"
   },
   "source": [
    "The Quantum Hamiltonain for the system is  \n",
    "$$\n",
    "H = H_\\text{cavity}+H_\\text{drive}+H_\\text{beams}\n",
    "+H_\\text{coupling} + \\mathcal{H}_\\text{diss}\n",
    "$$\n",
    "where\n",
    "$$\n",
    "\\begin{align}\n",
    "H_\\text{cavity} =&\\ \\frac{\\omega_c}{2} a^\\dagger a\\\\\n",
    "H_\\text{drive} =&\\ u^\\dagger a + a^\\dagger u\\\\\n",
    "H_\\text{beams} =&\\ \\sum_j \\frac{\\omega_j}{2}b_j^\\dagger b\\\\\n",
    "H_\\text{coupling} =&\\ \\sum_j \\frac{G}{4}\n",
    "(b_j+b^\\dagger_j)a^\\dagger a\\\\\n",
    "\\end{align}\n",
    "$$\n",
    "where $a^\\dagger,a ,b_j^\\dagger,b_j,u^\\dagger,u$ are the creation and annihilaton operators of the \n",
    "optical mode, vibrational modes and optical forcing respectively.\n",
    "\n",
    "Also:\n",
    "- $\\omega_c$ is the resonant frequency of the optical cavity\n",
    "- $\\omega_j$ is the mechanical resonance of the $j$th beam\n",
    "- $G$ is the strengh of opto-mechanical coupling\n",
    "- $\\mathcal{H}_\\text{diss}$ is the 'dissipative structure'..."
   ]
  },
  {
   "cell_type": "markdown",
   "metadata": {
    "slideshow": {
     "slide_type": "subslide"
    }
   },
   "source": [
    "## From Quantum Physics to Semiclassical Dynamics"
   ]
  },
  {
   "cell_type": "markdown",
   "metadata": {
    "cell_style": "split"
   },
   "source": [
    "![Optomechanial experiment](images/experiment.svg)"
   ]
  },
  {
   "cell_type": "markdown",
   "metadata": {
    "cell_style": "split"
   },
   "source": [
    "1. Derive/produce the (generalised) Langevin equations.\n",
    "2. Use the semiclassical approximation to replace operators with averages, so that $a \\rightarrow \\alpha$ and $a^\\dagger \\rightarrow \\alpha^*$\n",
    "3. Assume the optical forcing is $\\left<u\\right> = \\nu\\exp[i\\omega_ft]$ and define $\\delta =\\omega_c - \\omega_f$\n",
    "4. Perform some rescaling and non-dimensionlisation to get \n",
    "$$\n",
    "\\begin{align}\n",
    "\\dot{\\alpha}&= - (1+i\\delta)\\alpha - i\\alpha \\frac{1}{n}\\sum_{j=1}^n\\Re \\left[\\beta_j\\right] -i\\nu \\\\\n",
    "\\dot{\\beta_j} +  i\\bar{\\omega}\\beta_j &= -\\gamma \\left[(1+i\\omega'_j)\\beta_j + i\\frac{G}{2}|\\alpha|^2\\right], \\quad j=1,\\ldots, n\n",
    "\\end{align}\n",
    "$$\n",
    "where $\\gamma \\ll1$ and $\\omega_j = \\bar{\\omega} + \\gamma\\omega_j'$\n",
    "5. Apply the 'method of multiple scales' with $\\tau = \\gamma t$ to get $\\beta(t,\n",
    "\\tau) = z(\\tau)\\exp[-i\\bar{\\omega}t]$.\n",
    "6. Notice that $\\Re[\\beta] = \\cos(\\omega t +\\phi)$ makes $\\alpha$ look like a F.M oscillator, so has a basis in terms of Bessel functions.\n",
    "7. More algebra..."
   ]
  },
  {
   "cell_type": "markdown",
   "metadata": {
    "slideshow": {
     "slide_type": "fragment"
    }
   },
   "source": [
    "<center><b><i>...how much of this can be automated?</i></b></center>"
   ]
  },
  {
   "cell_type": "markdown",
   "metadata": {
    "slideshow": {
     "slide_type": "subslide"
    }
   },
   "source": [
    "## On the other side"
   ]
  },
  {
   "cell_type": "markdown",
   "metadata": {
    "cell_style": "split"
   },
   "source": [
    "![Optomechanial experiment](images/experiment.svg)"
   ]
  },
  {
   "cell_type": "markdown",
   "metadata": {
    "cell_style": "split"
   },
   "source": [
    "&nbsp;\n",
    "The fast time system (for the cavity $\\alpha$):\n",
    "\n",
    "$$\n",
    "\\frac{d\\alpha}{dt} = \n",
    "-\\alpha  - i(\\delta + r(\\tau)\\cos[\\bar{\\omega}t + \\Theta(\\tau)])\\alpha - i\\nu\n",
    "$$\n",
    "\n",
    "\n",
    "&nbsp;\n",
    "The slow time system (coupling induced frequency shift $z_j$):\n",
    "\n",
    "$$\n",
    "\\frac{d z_j}{d\\tau} \n",
    "= -(1- i\\omega'_j)z_j + zF(|z|), \\qquad z = re^{i\\Theta} = \\frac{1}{n}\\sum_{j=1}^n z_j\n",
    "$$\n",
    "\n",
    "With $F:[0,\\infty) \\rightarrow \\mathbb{C}$ a complicated but known and computable function."
   ]
  },
  {
   "cell_type": "markdown",
   "metadata": {
    "slideshow": {
     "slide_type": "subslide"
    }
   },
   "source": [
    "## Collective motion on the slow time scale"
   ]
  },
  {
   "cell_type": "markdown",
   "metadata": {
    "cell_style": "split"
   },
   "source": [
    "**Theorem (PC & Holmes. 2015)**  \n",
    "Define the _dispersion function_\n",
    "$$\n",
    "f(\\mu) = \\int_{-\\infty}^\\infty \\frac{g(\\omega)d\\omega}{\\mu - i\\omega}.\n",
    "$$\n",
    "\n",
    "(1) For sufficiently large $n$, the system\n",
    "$$\\dot{z}_j\n",
    "= -(1- i\\omega_j)z_j + zF(|z|), \\qquad z = \\frac{1}{n}\\sum_{j=1}^n z_j$$\n",
    "has coherent motion on (possibly many multi-stable) invariant manifold(s) characterised by \n",
    "$$\n",
    "z = re^{i\\Theta},\\quad \\dot{r} = 0, \\qquad \\dot{\\Theta} = \\Omega\n",
    "$$\n",
    "and \n",
    "$$r\\left[F(r) - \\frac{1}{f(1+i\\Omega)}\\right] = 0.$$\n",
    "\n",
    "(2) For symmetric $g$ solutions are strictly unsable iff   \n",
    "\n",
    "$$\n",
    "\\left\\langle\\frac{dF}{dr},\\frac{d}{d\\mu}\\frac{1}{f(\\mu)}\\bigg|_{1+i\\Omega}\\right\\rangle >0,\n",
    "$$  \n",
    "where $\\langle x,y\\rangle = \\Re[xy^*]$ is the geometric inner product for $x,y\\in \\mathbb{C}$. "
   ]
  },
  {
   "cell_type": "code",
   "execution_count": 5,
   "metadata": {
    "cell_style": "split",
    "slideshow": {
     "slide_type": "fragment"
    }
   },
   "outputs": [
    {
     "data": {
      "application/javascript": [
       "/* Put everything inside the global mpl namespace */\n",
       "window.mpl = {};\n",
       "\n",
       "\n",
       "mpl.get_websocket_type = function() {\n",
       "    if (typeof(WebSocket) !== 'undefined') {\n",
       "        return WebSocket;\n",
       "    } else if (typeof(MozWebSocket) !== 'undefined') {\n",
       "        return MozWebSocket;\n",
       "    } else {\n",
       "        alert('Your browser does not have WebSocket support.' +\n",
       "              'Please try Chrome, Safari or Firefox ≥ 6. ' +\n",
       "              'Firefox 4 and 5 are also supported but you ' +\n",
       "              'have to enable WebSockets in about:config.');\n",
       "    };\n",
       "}\n",
       "\n",
       "mpl.figure = function(figure_id, websocket, ondownload, parent_element) {\n",
       "    this.id = figure_id;\n",
       "\n",
       "    this.ws = websocket;\n",
       "\n",
       "    this.supports_binary = (this.ws.binaryType != undefined);\n",
       "\n",
       "    if (!this.supports_binary) {\n",
       "        var warnings = document.getElementById(\"mpl-warnings\");\n",
       "        if (warnings) {\n",
       "            warnings.style.display = 'block';\n",
       "            warnings.textContent = (\n",
       "                \"This browser does not support binary websocket messages. \" +\n",
       "                    \"Performance may be slow.\");\n",
       "        }\n",
       "    }\n",
       "\n",
       "    this.imageObj = new Image();\n",
       "\n",
       "    this.context = undefined;\n",
       "    this.message = undefined;\n",
       "    this.canvas = undefined;\n",
       "    this.rubberband_canvas = undefined;\n",
       "    this.rubberband_context = undefined;\n",
       "    this.format_dropdown = undefined;\n",
       "\n",
       "    this.image_mode = 'full';\n",
       "\n",
       "    this.root = $('<div/>');\n",
       "    this._root_extra_style(this.root)\n",
       "    this.root.attr('style', 'display: inline-block');\n",
       "\n",
       "    $(parent_element).append(this.root);\n",
       "\n",
       "    this._init_header(this);\n",
       "    this._init_canvas(this);\n",
       "    this._init_toolbar(this);\n",
       "\n",
       "    var fig = this;\n",
       "\n",
       "    this.waiting = false;\n",
       "\n",
       "    this.ws.onopen =  function () {\n",
       "            fig.send_message(\"supports_binary\", {value: fig.supports_binary});\n",
       "            fig.send_message(\"send_image_mode\", {});\n",
       "            if (mpl.ratio != 1) {\n",
       "                fig.send_message(\"set_dpi_ratio\", {'dpi_ratio': mpl.ratio});\n",
       "            }\n",
       "            fig.send_message(\"refresh\", {});\n",
       "        }\n",
       "\n",
       "    this.imageObj.onload = function() {\n",
       "            if (fig.image_mode == 'full') {\n",
       "                // Full images could contain transparency (where diff images\n",
       "                // almost always do), so we need to clear the canvas so that\n",
       "                // there is no ghosting.\n",
       "                fig.context.clearRect(0, 0, fig.canvas.width, fig.canvas.height);\n",
       "            }\n",
       "            fig.context.drawImage(fig.imageObj, 0, 0);\n",
       "        };\n",
       "\n",
       "    this.imageObj.onunload = function() {\n",
       "        fig.ws.close();\n",
       "    }\n",
       "\n",
       "    this.ws.onmessage = this._make_on_message_function(this);\n",
       "\n",
       "    this.ondownload = ondownload;\n",
       "}\n",
       "\n",
       "mpl.figure.prototype._init_header = function() {\n",
       "    var titlebar = $(\n",
       "        '<div class=\"ui-dialog-titlebar ui-widget-header ui-corner-all ' +\n",
       "        'ui-helper-clearfix\"/>');\n",
       "    var titletext = $(\n",
       "        '<div class=\"ui-dialog-title\" style=\"width: 100%; ' +\n",
       "        'text-align: center; padding: 3px;\"/>');\n",
       "    titlebar.append(titletext)\n",
       "    this.root.append(titlebar);\n",
       "    this.header = titletext[0];\n",
       "}\n",
       "\n",
       "\n",
       "\n",
       "mpl.figure.prototype._canvas_extra_style = function(canvas_div) {\n",
       "\n",
       "}\n",
       "\n",
       "\n",
       "mpl.figure.prototype._root_extra_style = function(canvas_div) {\n",
       "\n",
       "}\n",
       "\n",
       "mpl.figure.prototype._init_canvas = function() {\n",
       "    var fig = this;\n",
       "\n",
       "    var canvas_div = $('<div/>');\n",
       "\n",
       "    canvas_div.attr('style', 'position: relative; clear: both; outline: 0');\n",
       "\n",
       "    function canvas_keyboard_event(event) {\n",
       "        return fig.key_event(event, event['data']);\n",
       "    }\n",
       "\n",
       "    canvas_div.keydown('key_press', canvas_keyboard_event);\n",
       "    canvas_div.keyup('key_release', canvas_keyboard_event);\n",
       "    this.canvas_div = canvas_div\n",
       "    this._canvas_extra_style(canvas_div)\n",
       "    this.root.append(canvas_div);\n",
       "\n",
       "    var canvas = $('<canvas/>');\n",
       "    canvas.addClass('mpl-canvas');\n",
       "    canvas.attr('style', \"left: 0; top: 0; z-index: 0; outline: 0\")\n",
       "\n",
       "    this.canvas = canvas[0];\n",
       "    this.context = canvas[0].getContext(\"2d\");\n",
       "\n",
       "    var backingStore = this.context.backingStorePixelRatio ||\n",
       "\tthis.context.webkitBackingStorePixelRatio ||\n",
       "\tthis.context.mozBackingStorePixelRatio ||\n",
       "\tthis.context.msBackingStorePixelRatio ||\n",
       "\tthis.context.oBackingStorePixelRatio ||\n",
       "\tthis.context.backingStorePixelRatio || 1;\n",
       "\n",
       "    mpl.ratio = (window.devicePixelRatio || 1) / backingStore;\n",
       "\n",
       "    var rubberband = $('<canvas/>');\n",
       "    rubberband.attr('style', \"position: absolute; left: 0; top: 0; z-index: 1;\")\n",
       "\n",
       "    var pass_mouse_events = true;\n",
       "\n",
       "    canvas_div.resizable({\n",
       "        start: function(event, ui) {\n",
       "            pass_mouse_events = false;\n",
       "        },\n",
       "        resize: function(event, ui) {\n",
       "            fig.request_resize(ui.size.width, ui.size.height);\n",
       "        },\n",
       "        stop: function(event, ui) {\n",
       "            pass_mouse_events = true;\n",
       "            fig.request_resize(ui.size.width, ui.size.height);\n",
       "        },\n",
       "    });\n",
       "\n",
       "    function mouse_event_fn(event) {\n",
       "        if (pass_mouse_events)\n",
       "            return fig.mouse_event(event, event['data']);\n",
       "    }\n",
       "\n",
       "    rubberband.mousedown('button_press', mouse_event_fn);\n",
       "    rubberband.mouseup('button_release', mouse_event_fn);\n",
       "    // Throttle sequential mouse events to 1 every 20ms.\n",
       "    rubberband.mousemove('motion_notify', mouse_event_fn);\n",
       "\n",
       "    rubberband.mouseenter('figure_enter', mouse_event_fn);\n",
       "    rubberband.mouseleave('figure_leave', mouse_event_fn);\n",
       "\n",
       "    canvas_div.on(\"wheel\", function (event) {\n",
       "        event = event.originalEvent;\n",
       "        event['data'] = 'scroll'\n",
       "        if (event.deltaY < 0) {\n",
       "            event.step = 1;\n",
       "        } else {\n",
       "            event.step = -1;\n",
       "        }\n",
       "        mouse_event_fn(event);\n",
       "    });\n",
       "\n",
       "    canvas_div.append(canvas);\n",
       "    canvas_div.append(rubberband);\n",
       "\n",
       "    this.rubberband = rubberband;\n",
       "    this.rubberband_canvas = rubberband[0];\n",
       "    this.rubberband_context = rubberband[0].getContext(\"2d\");\n",
       "    this.rubberband_context.strokeStyle = \"#000000\";\n",
       "\n",
       "    this._resize_canvas = function(width, height) {\n",
       "        // Keep the size of the canvas, canvas container, and rubber band\n",
       "        // canvas in synch.\n",
       "        canvas_div.css('width', width)\n",
       "        canvas_div.css('height', height)\n",
       "\n",
       "        canvas.attr('width', width * mpl.ratio);\n",
       "        canvas.attr('height', height * mpl.ratio);\n",
       "        canvas.attr('style', 'width: ' + width + 'px; height: ' + height + 'px;');\n",
       "\n",
       "        rubberband.attr('width', width);\n",
       "        rubberband.attr('height', height);\n",
       "    }\n",
       "\n",
       "    // Set the figure to an initial 600x600px, this will subsequently be updated\n",
       "    // upon first draw.\n",
       "    this._resize_canvas(600, 600);\n",
       "\n",
       "    // Disable right mouse context menu.\n",
       "    $(this.rubberband_canvas).bind(\"contextmenu\",function(e){\n",
       "        return false;\n",
       "    });\n",
       "\n",
       "    function set_focus () {\n",
       "        canvas.focus();\n",
       "        canvas_div.focus();\n",
       "    }\n",
       "\n",
       "    window.setTimeout(set_focus, 100);\n",
       "}\n",
       "\n",
       "mpl.figure.prototype._init_toolbar = function() {\n",
       "    var fig = this;\n",
       "\n",
       "    var nav_element = $('<div/>')\n",
       "    nav_element.attr('style', 'width: 100%');\n",
       "    this.root.append(nav_element);\n",
       "\n",
       "    // Define a callback function for later on.\n",
       "    function toolbar_event(event) {\n",
       "        return fig.toolbar_button_onclick(event['data']);\n",
       "    }\n",
       "    function toolbar_mouse_event(event) {\n",
       "        return fig.toolbar_button_onmouseover(event['data']);\n",
       "    }\n",
       "\n",
       "    for(var toolbar_ind in mpl.toolbar_items) {\n",
       "        var name = mpl.toolbar_items[toolbar_ind][0];\n",
       "        var tooltip = mpl.toolbar_items[toolbar_ind][1];\n",
       "        var image = mpl.toolbar_items[toolbar_ind][2];\n",
       "        var method_name = mpl.toolbar_items[toolbar_ind][3];\n",
       "\n",
       "        if (!name) {\n",
       "            // put a spacer in here.\n",
       "            continue;\n",
       "        }\n",
       "        var button = $('<button/>');\n",
       "        button.addClass('ui-button ui-widget ui-state-default ui-corner-all ' +\n",
       "                        'ui-button-icon-only');\n",
       "        button.attr('role', 'button');\n",
       "        button.attr('aria-disabled', 'false');\n",
       "        button.click(method_name, toolbar_event);\n",
       "        button.mouseover(tooltip, toolbar_mouse_event);\n",
       "\n",
       "        var icon_img = $('<span/>');\n",
       "        icon_img.addClass('ui-button-icon-primary ui-icon');\n",
       "        icon_img.addClass(image);\n",
       "        icon_img.addClass('ui-corner-all');\n",
       "\n",
       "        var tooltip_span = $('<span/>');\n",
       "        tooltip_span.addClass('ui-button-text');\n",
       "        tooltip_span.html(tooltip);\n",
       "\n",
       "        button.append(icon_img);\n",
       "        button.append(tooltip_span);\n",
       "\n",
       "        nav_element.append(button);\n",
       "    }\n",
       "\n",
       "    var fmt_picker_span = $('<span/>');\n",
       "\n",
       "    var fmt_picker = $('<select/>');\n",
       "    fmt_picker.addClass('mpl-toolbar-option ui-widget ui-widget-content');\n",
       "    fmt_picker_span.append(fmt_picker);\n",
       "    nav_element.append(fmt_picker_span);\n",
       "    this.format_dropdown = fmt_picker[0];\n",
       "\n",
       "    for (var ind in mpl.extensions) {\n",
       "        var fmt = mpl.extensions[ind];\n",
       "        var option = $(\n",
       "            '<option/>', {selected: fmt === mpl.default_extension}).html(fmt);\n",
       "        fmt_picker.append(option)\n",
       "    }\n",
       "\n",
       "    // Add hover states to the ui-buttons\n",
       "    $( \".ui-button\" ).hover(\n",
       "        function() { $(this).addClass(\"ui-state-hover\");},\n",
       "        function() { $(this).removeClass(\"ui-state-hover\");}\n",
       "    );\n",
       "\n",
       "    var status_bar = $('<span class=\"mpl-message\"/>');\n",
       "    nav_element.append(status_bar);\n",
       "    this.message = status_bar[0];\n",
       "}\n",
       "\n",
       "mpl.figure.prototype.request_resize = function(x_pixels, y_pixels) {\n",
       "    // Request matplotlib to resize the figure. Matplotlib will then trigger a resize in the client,\n",
       "    // which will in turn request a refresh of the image.\n",
       "    this.send_message('resize', {'width': x_pixels, 'height': y_pixels});\n",
       "}\n",
       "\n",
       "mpl.figure.prototype.send_message = function(type, properties) {\n",
       "    properties['type'] = type;\n",
       "    properties['figure_id'] = this.id;\n",
       "    this.ws.send(JSON.stringify(properties));\n",
       "}\n",
       "\n",
       "mpl.figure.prototype.send_draw_message = function() {\n",
       "    if (!this.waiting) {\n",
       "        this.waiting = true;\n",
       "        this.ws.send(JSON.stringify({type: \"draw\", figure_id: this.id}));\n",
       "    }\n",
       "}\n",
       "\n",
       "\n",
       "mpl.figure.prototype.handle_save = function(fig, msg) {\n",
       "    var format_dropdown = fig.format_dropdown;\n",
       "    var format = format_dropdown.options[format_dropdown.selectedIndex].value;\n",
       "    fig.ondownload(fig, format);\n",
       "}\n",
       "\n",
       "\n",
       "mpl.figure.prototype.handle_resize = function(fig, msg) {\n",
       "    var size = msg['size'];\n",
       "    if (size[0] != fig.canvas.width || size[1] != fig.canvas.height) {\n",
       "        fig._resize_canvas(size[0], size[1]);\n",
       "        fig.send_message(\"refresh\", {});\n",
       "    };\n",
       "}\n",
       "\n",
       "mpl.figure.prototype.handle_rubberband = function(fig, msg) {\n",
       "    var x0 = msg['x0'] / mpl.ratio;\n",
       "    var y0 = (fig.canvas.height - msg['y0']) / mpl.ratio;\n",
       "    var x1 = msg['x1'] / mpl.ratio;\n",
       "    var y1 = (fig.canvas.height - msg['y1']) / mpl.ratio;\n",
       "    x0 = Math.floor(x0) + 0.5;\n",
       "    y0 = Math.floor(y0) + 0.5;\n",
       "    x1 = Math.floor(x1) + 0.5;\n",
       "    y1 = Math.floor(y1) + 0.5;\n",
       "    var min_x = Math.min(x0, x1);\n",
       "    var min_y = Math.min(y0, y1);\n",
       "    var width = Math.abs(x1 - x0);\n",
       "    var height = Math.abs(y1 - y0);\n",
       "\n",
       "    fig.rubberband_context.clearRect(\n",
       "        0, 0, fig.canvas.width, fig.canvas.height);\n",
       "\n",
       "    fig.rubberband_context.strokeRect(min_x, min_y, width, height);\n",
       "}\n",
       "\n",
       "mpl.figure.prototype.handle_figure_label = function(fig, msg) {\n",
       "    // Updates the figure title.\n",
       "    fig.header.textContent = msg['label'];\n",
       "}\n",
       "\n",
       "mpl.figure.prototype.handle_cursor = function(fig, msg) {\n",
       "    var cursor = msg['cursor'];\n",
       "    switch(cursor)\n",
       "    {\n",
       "    case 0:\n",
       "        cursor = 'pointer';\n",
       "        break;\n",
       "    case 1:\n",
       "        cursor = 'default';\n",
       "        break;\n",
       "    case 2:\n",
       "        cursor = 'crosshair';\n",
       "        break;\n",
       "    case 3:\n",
       "        cursor = 'move';\n",
       "        break;\n",
       "    }\n",
       "    fig.rubberband_canvas.style.cursor = cursor;\n",
       "}\n",
       "\n",
       "mpl.figure.prototype.handle_message = function(fig, msg) {\n",
       "    fig.message.textContent = msg['message'];\n",
       "}\n",
       "\n",
       "mpl.figure.prototype.handle_draw = function(fig, msg) {\n",
       "    // Request the server to send over a new figure.\n",
       "    fig.send_draw_message();\n",
       "}\n",
       "\n",
       "mpl.figure.prototype.handle_image_mode = function(fig, msg) {\n",
       "    fig.image_mode = msg['mode'];\n",
       "}\n",
       "\n",
       "mpl.figure.prototype.updated_canvas_event = function() {\n",
       "    // Called whenever the canvas gets updated.\n",
       "    this.send_message(\"ack\", {});\n",
       "}\n",
       "\n",
       "// A function to construct a web socket function for onmessage handling.\n",
       "// Called in the figure constructor.\n",
       "mpl.figure.prototype._make_on_message_function = function(fig) {\n",
       "    return function socket_on_message(evt) {\n",
       "        if (evt.data instanceof Blob) {\n",
       "            /* FIXME: We get \"Resource interpreted as Image but\n",
       "             * transferred with MIME type text/plain:\" errors on\n",
       "             * Chrome.  But how to set the MIME type?  It doesn't seem\n",
       "             * to be part of the websocket stream */\n",
       "            evt.data.type = \"image/png\";\n",
       "\n",
       "            /* Free the memory for the previous frames */\n",
       "            if (fig.imageObj.src) {\n",
       "                (window.URL || window.webkitURL).revokeObjectURL(\n",
       "                    fig.imageObj.src);\n",
       "            }\n",
       "\n",
       "            fig.imageObj.src = (window.URL || window.webkitURL).createObjectURL(\n",
       "                evt.data);\n",
       "            fig.updated_canvas_event();\n",
       "            fig.waiting = false;\n",
       "            return;\n",
       "        }\n",
       "        else if (typeof evt.data === 'string' && evt.data.slice(0, 21) == \"data:image/png;base64\") {\n",
       "            fig.imageObj.src = evt.data;\n",
       "            fig.updated_canvas_event();\n",
       "            fig.waiting = false;\n",
       "            return;\n",
       "        }\n",
       "\n",
       "        var msg = JSON.parse(evt.data);\n",
       "        var msg_type = msg['type'];\n",
       "\n",
       "        // Call the  \"handle_{type}\" callback, which takes\n",
       "        // the figure and JSON message as its only arguments.\n",
       "        try {\n",
       "            var callback = fig[\"handle_\" + msg_type];\n",
       "        } catch (e) {\n",
       "            console.log(\"No handler for the '\" + msg_type + \"' message type: \", msg);\n",
       "            return;\n",
       "        }\n",
       "\n",
       "        if (callback) {\n",
       "            try {\n",
       "                // console.log(\"Handling '\" + msg_type + \"' message: \", msg);\n",
       "                callback(fig, msg);\n",
       "            } catch (e) {\n",
       "                console.log(\"Exception inside the 'handler_\" + msg_type + \"' callback:\", e, e.stack, msg);\n",
       "            }\n",
       "        }\n",
       "    };\n",
       "}\n",
       "\n",
       "// from http://stackoverflow.com/questions/1114465/getting-mouse-location-in-canvas\n",
       "mpl.findpos = function(e) {\n",
       "    //this section is from http://www.quirksmode.org/js/events_properties.html\n",
       "    var targ;\n",
       "    if (!e)\n",
       "        e = window.event;\n",
       "    if (e.target)\n",
       "        targ = e.target;\n",
       "    else if (e.srcElement)\n",
       "        targ = e.srcElement;\n",
       "    if (targ.nodeType == 3) // defeat Safari bug\n",
       "        targ = targ.parentNode;\n",
       "\n",
       "    // jQuery normalizes the pageX and pageY\n",
       "    // pageX,Y are the mouse positions relative to the document\n",
       "    // offset() returns the position of the element relative to the document\n",
       "    var x = e.pageX - $(targ).offset().left;\n",
       "    var y = e.pageY - $(targ).offset().top;\n",
       "\n",
       "    return {\"x\": x, \"y\": y};\n",
       "};\n",
       "\n",
       "/*\n",
       " * return a copy of an object with only non-object keys\n",
       " * we need this to avoid circular references\n",
       " * http://stackoverflow.com/a/24161582/3208463\n",
       " */\n",
       "function simpleKeys (original) {\n",
       "  return Object.keys(original).reduce(function (obj, key) {\n",
       "    if (typeof original[key] !== 'object')\n",
       "        obj[key] = original[key]\n",
       "    return obj;\n",
       "  }, {});\n",
       "}\n",
       "\n",
       "mpl.figure.prototype.mouse_event = function(event, name) {\n",
       "    var canvas_pos = mpl.findpos(event)\n",
       "\n",
       "    if (name === 'button_press')\n",
       "    {\n",
       "        this.canvas.focus();\n",
       "        this.canvas_div.focus();\n",
       "    }\n",
       "\n",
       "    var x = canvas_pos.x * mpl.ratio;\n",
       "    var y = canvas_pos.y * mpl.ratio;\n",
       "\n",
       "    this.send_message(name, {x: x, y: y, button: event.button,\n",
       "                             step: event.step,\n",
       "                             guiEvent: simpleKeys(event)});\n",
       "\n",
       "    /* This prevents the web browser from automatically changing to\n",
       "     * the text insertion cursor when the button is pressed.  We want\n",
       "     * to control all of the cursor setting manually through the\n",
       "     * 'cursor' event from matplotlib */\n",
       "    event.preventDefault();\n",
       "    return false;\n",
       "}\n",
       "\n",
       "mpl.figure.prototype._key_event_extra = function(event, name) {\n",
       "    // Handle any extra behaviour associated with a key event\n",
       "}\n",
       "\n",
       "mpl.figure.prototype.key_event = function(event, name) {\n",
       "\n",
       "    // Prevent repeat events\n",
       "    if (name == 'key_press')\n",
       "    {\n",
       "        if (event.which === this._key)\n",
       "            return;\n",
       "        else\n",
       "            this._key = event.which;\n",
       "    }\n",
       "    if (name == 'key_release')\n",
       "        this._key = null;\n",
       "\n",
       "    var value = '';\n",
       "    if (event.ctrlKey && event.which != 17)\n",
       "        value += \"ctrl+\";\n",
       "    if (event.altKey && event.which != 18)\n",
       "        value += \"alt+\";\n",
       "    if (event.shiftKey && event.which != 16)\n",
       "        value += \"shift+\";\n",
       "\n",
       "    value += 'k';\n",
       "    value += event.which.toString();\n",
       "\n",
       "    this._key_event_extra(event, name);\n",
       "\n",
       "    this.send_message(name, {key: value,\n",
       "                             guiEvent: simpleKeys(event)});\n",
       "    return false;\n",
       "}\n",
       "\n",
       "mpl.figure.prototype.toolbar_button_onclick = function(name) {\n",
       "    if (name == 'download') {\n",
       "        this.handle_save(this, null);\n",
       "    } else {\n",
       "        this.send_message(\"toolbar_button\", {name: name});\n",
       "    }\n",
       "};\n",
       "\n",
       "mpl.figure.prototype.toolbar_button_onmouseover = function(tooltip) {\n",
       "    this.message.textContent = tooltip;\n",
       "};\n",
       "mpl.toolbar_items = [[\"Home\", \"Reset original view\", \"fa fa-home icon-home\", \"home\"], [\"Back\", \"Back to  previous view\", \"fa fa-arrow-left icon-arrow-left\", \"back\"], [\"Forward\", \"Forward to next view\", \"fa fa-arrow-right icon-arrow-right\", \"forward\"], [\"\", \"\", \"\", \"\"], [\"Pan\", \"Pan axes with left mouse, zoom with right\", \"fa fa-arrows icon-move\", \"pan\"], [\"Zoom\", \"Zoom to rectangle\", \"fa fa-square-o icon-check-empty\", \"zoom\"], [\"\", \"\", \"\", \"\"], [\"Download\", \"Download plot\", \"fa fa-floppy-o icon-save\", \"download\"]];\n",
       "\n",
       "mpl.extensions = [\"eps\", \"pdf\", \"png\", \"ps\", \"raw\", \"svg\"];\n",
       "\n",
       "mpl.default_extension = \"png\";var comm_websocket_adapter = function(comm) {\n",
       "    // Create a \"websocket\"-like object which calls the given IPython comm\n",
       "    // object with the appropriate methods. Currently this is a non binary\n",
       "    // socket, so there is still some room for performance tuning.\n",
       "    var ws = {};\n",
       "\n",
       "    ws.close = function() {\n",
       "        comm.close()\n",
       "    };\n",
       "    ws.send = function(m) {\n",
       "        //console.log('sending', m);\n",
       "        comm.send(m);\n",
       "    };\n",
       "    // Register the callback with on_msg.\n",
       "    comm.on_msg(function(msg) {\n",
       "        //console.log('receiving', msg['content']['data'], msg);\n",
       "        // Pass the mpl event to the overridden (by mpl) onmessage function.\n",
       "        ws.onmessage(msg['content']['data'])\n",
       "    });\n",
       "    return ws;\n",
       "}\n",
       "\n",
       "mpl.mpl_figure_comm = function(comm, msg) {\n",
       "    // This is the function which gets called when the mpl process\n",
       "    // starts-up an IPython Comm through the \"matplotlib\" channel.\n",
       "\n",
       "    var id = msg.content.data.id;\n",
       "    // Get hold of the div created by the display call when the Comm\n",
       "    // socket was opened in Python.\n",
       "    var element = $(\"#\" + id);\n",
       "    var ws_proxy = comm_websocket_adapter(comm)\n",
       "\n",
       "    function ondownload(figure, format) {\n",
       "        window.open(figure.imageObj.src);\n",
       "    }\n",
       "\n",
       "    var fig = new mpl.figure(id, ws_proxy,\n",
       "                           ondownload,\n",
       "                           element.get(0));\n",
       "\n",
       "    // Call onopen now - mpl needs it, as it is assuming we've passed it a real\n",
       "    // web socket which is closed, not our websocket->open comm proxy.\n",
       "    ws_proxy.onopen();\n",
       "\n",
       "    fig.parent_element = element.get(0);\n",
       "    fig.cell_info = mpl.find_output_cell(\"<div id='\" + id + \"'></div>\");\n",
       "    if (!fig.cell_info) {\n",
       "        console.error(\"Failed to find cell for figure\", id, fig);\n",
       "        return;\n",
       "    }\n",
       "\n",
       "    var output_index = fig.cell_info[2]\n",
       "    var cell = fig.cell_info[0];\n",
       "\n",
       "};\n",
       "\n",
       "mpl.figure.prototype.handle_close = function(fig, msg) {\n",
       "    var width = fig.canvas.width/mpl.ratio\n",
       "    fig.root.unbind('remove')\n",
       "\n",
       "    // Update the output cell to use the data from the current canvas.\n",
       "    fig.push_to_output();\n",
       "    var dataURL = fig.canvas.toDataURL();\n",
       "    // Re-enable the keyboard manager in IPython - without this line, in FF,\n",
       "    // the notebook keyboard shortcuts fail.\n",
       "    IPython.keyboard_manager.enable()\n",
       "    $(fig.parent_element).html('<img src=\"' + dataURL + '\" width=\"' + width + '\">');\n",
       "    fig.close_ws(fig, msg);\n",
       "}\n",
       "\n",
       "mpl.figure.prototype.close_ws = function(fig, msg){\n",
       "    fig.send_message('closing', msg);\n",
       "    // fig.ws.close()\n",
       "}\n",
       "\n",
       "mpl.figure.prototype.push_to_output = function(remove_interactive) {\n",
       "    // Turn the data on the canvas into data in the output cell.\n",
       "    var width = this.canvas.width/mpl.ratio\n",
       "    var dataURL = this.canvas.toDataURL();\n",
       "    this.cell_info[1]['text/html'] = '<img src=\"' + dataURL + '\" width=\"' + width + '\">';\n",
       "}\n",
       "\n",
       "mpl.figure.prototype.updated_canvas_event = function() {\n",
       "    // Tell IPython that the notebook contents must change.\n",
       "    IPython.notebook.set_dirty(true);\n",
       "    this.send_message(\"ack\", {});\n",
       "    var fig = this;\n",
       "    // Wait a second, then push the new image to the DOM so\n",
       "    // that it is saved nicely (might be nice to debounce this).\n",
       "    setTimeout(function () { fig.push_to_output() }, 1000);\n",
       "}\n",
       "\n",
       "mpl.figure.prototype._init_toolbar = function() {\n",
       "    var fig = this;\n",
       "\n",
       "    var nav_element = $('<div/>')\n",
       "    nav_element.attr('style', 'width: 100%');\n",
       "    this.root.append(nav_element);\n",
       "\n",
       "    // Define a callback function for later on.\n",
       "    function toolbar_event(event) {\n",
       "        return fig.toolbar_button_onclick(event['data']);\n",
       "    }\n",
       "    function toolbar_mouse_event(event) {\n",
       "        return fig.toolbar_button_onmouseover(event['data']);\n",
       "    }\n",
       "\n",
       "    for(var toolbar_ind in mpl.toolbar_items){\n",
       "        var name = mpl.toolbar_items[toolbar_ind][0];\n",
       "        var tooltip = mpl.toolbar_items[toolbar_ind][1];\n",
       "        var image = mpl.toolbar_items[toolbar_ind][2];\n",
       "        var method_name = mpl.toolbar_items[toolbar_ind][3];\n",
       "\n",
       "        if (!name) { continue; };\n",
       "\n",
       "        var button = $('<button class=\"btn btn-default\" href=\"#\" title=\"' + name + '\"><i class=\"fa ' + image + ' fa-lg\"></i></button>');\n",
       "        button.click(method_name, toolbar_event);\n",
       "        button.mouseover(tooltip, toolbar_mouse_event);\n",
       "        nav_element.append(button);\n",
       "    }\n",
       "\n",
       "    // Add the status bar.\n",
       "    var status_bar = $('<span class=\"mpl-message\" style=\"text-align:right; float: right;\"/>');\n",
       "    nav_element.append(status_bar);\n",
       "    this.message = status_bar[0];\n",
       "\n",
       "    // Add the close button to the window.\n",
       "    var buttongrp = $('<div class=\"btn-group inline pull-right\"></div>');\n",
       "    var button = $('<button class=\"btn btn-mini btn-primary\" href=\"#\" title=\"Stop Interaction\"><i class=\"fa fa-power-off icon-remove icon-large\"></i></button>');\n",
       "    button.click(function (evt) { fig.handle_close(fig, {}); } );\n",
       "    button.mouseover('Stop Interaction', toolbar_mouse_event);\n",
       "    buttongrp.append(button);\n",
       "    var titlebar = this.root.find($('.ui-dialog-titlebar'));\n",
       "    titlebar.prepend(buttongrp);\n",
       "}\n",
       "\n",
       "mpl.figure.prototype._root_extra_style = function(el){\n",
       "    var fig = this\n",
       "    el.on(\"remove\", function(){\n",
       "\tfig.close_ws(fig, {});\n",
       "    });\n",
       "}\n",
       "\n",
       "mpl.figure.prototype._canvas_extra_style = function(el){\n",
       "    // this is important to make the div 'focusable\n",
       "    el.attr('tabindex', 0)\n",
       "    // reach out to IPython and tell the keyboard manager to turn it's self\n",
       "    // off when our div gets focus\n",
       "\n",
       "    // location in version 3\n",
       "    if (IPython.notebook.keyboard_manager) {\n",
       "        IPython.notebook.keyboard_manager.register_events(el);\n",
       "    }\n",
       "    else {\n",
       "        // location in version 2\n",
       "        IPython.keyboard_manager.register_events(el);\n",
       "    }\n",
       "\n",
       "}\n",
       "\n",
       "mpl.figure.prototype._key_event_extra = function(event, name) {\n",
       "    var manager = IPython.notebook.keyboard_manager;\n",
       "    if (!manager)\n",
       "        manager = IPython.keyboard_manager;\n",
       "\n",
       "    // Check for shift+enter\n",
       "    if (event.shiftKey && event.which == 13) {\n",
       "        this.canvas_div.blur();\n",
       "        event.shiftKey = false;\n",
       "        // Send a \"J\" for go to next cell\n",
       "        event.which = 74;\n",
       "        event.keyCode = 74;\n",
       "        manager.command_mode();\n",
       "        manager.handle_keydown(event);\n",
       "    }\n",
       "}\n",
       "\n",
       "mpl.figure.prototype.handle_save = function(fig, msg) {\n",
       "    fig.ondownload(fig, null);\n",
       "}\n",
       "\n",
       "\n",
       "mpl.find_output_cell = function(html_output) {\n",
       "    // Return the cell and output element which can be found *uniquely* in the notebook.\n",
       "    // Note - this is a bit hacky, but it is done because the \"notebook_saving.Notebook\"\n",
       "    // IPython event is triggered only after the cells have been serialised, which for\n",
       "    // our purposes (turning an active figure into a static one), is too late.\n",
       "    var cells = IPython.notebook.get_cells();\n",
       "    var ncells = cells.length;\n",
       "    for (var i=0; i<ncells; i++) {\n",
       "        var cell = cells[i];\n",
       "        if (cell.cell_type === 'code'){\n",
       "            for (var j=0; j<cell.output_area.outputs.length; j++) {\n",
       "                var data = cell.output_area.outputs[j];\n",
       "                if (data.data) {\n",
       "                    // IPython >= 3 moved mimebundle to data attribute of output\n",
       "                    data = data.data;\n",
       "                }\n",
       "                if (data['text/html'] == html_output) {\n",
       "                    return [cell, data, j];\n",
       "                }\n",
       "            }\n",
       "        }\n",
       "    }\n",
       "}\n",
       "\n",
       "// Register the function which deals with the matplotlib target/channel.\n",
       "// The kernel may be null if the page has been refreshed.\n",
       "if (IPython.notebook.kernel != null) {\n",
       "    IPython.notebook.kernel.comm_manager.register_target('matplotlib', mpl.mpl_figure_comm);\n",
       "}\n"
      ],
      "text/plain": [
       "<IPython.core.display.Javascript object>"
      ]
     },
     "metadata": {},
     "output_type": "display_data"
    },
    {
     "data": {
      "text/html": [
       "<img src=\"data:image/png;base64,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\" width=\"799.5\">"
      ],
      "text/plain": [
       "<IPython.core.display.HTML object>"
      ]
     },
     "metadata": {},
     "output_type": "display_data"
    }
   ],
   "source": [
    "# F(r) = K/(1+r^2) is stable iff K > 2\n",
    "m = DampedCoupledOsc(omega=omega, extent=4, scale=scale)\n",
    "plt.show()"
   ]
  },
  {
   "cell_type": "markdown",
   "metadata": {
    "slideshow": {
     "slide_type": "notes"
    }
   },
   "source": [
    "Notes:\n",
    "- Only collective motion: S^1.\n",
    "- Multistability which can be created and destroyed via Hopf's.\n",
    "- Results for general coupling function $F$.\n",
    "- Proof involves treating $1/f(\\mu)$ as a conformal map from the RHP."
   ]
  },
  {
   "cell_type": "markdown",
   "metadata": {
    "slideshow": {
     "slide_type": "subslide"
    }
   },
   "source": [
    "## Synch corresponds to frequency modulation on the fast time scale"
   ]
  },
  {
   "cell_type": "markdown",
   "metadata": {
    "cell_style": "split"
   },
   "source": [
    "![Optomechanial experiment](images/experiment.svg)"
   ]
  },
  {
   "cell_type": "markdown",
   "metadata": {
    "cell_style": "split"
   },
   "source": [
    "On the fast time scale:\n",
    "\n",
    "$$\\frac{d\\alpha}{dt} = \n",
    "-\\alpha  - i(\\delta + r(\\tau)\\cos[\\bar{\\omega}t + \\Omega\\tau])\\alpha - i\\nu\n",
    "$$\n",
    "\n",
    "If we can measure $(r,\\Omega)$, we can determine the internal state.\n",
    "\n",
    "Here $\\alpha$ falls well into the realm of existing signal processing theory (in particular frequency modulation). Hence, we can associate spectral properties to internal state.\n",
    "\n",
    "(The maths is hideous though)"
   ]
  },
  {
   "cell_type": "markdown",
   "metadata": {
    "slideshow": {
     "slide_type": "notes"
    }
   },
   "source": [
    "\n"
   ]
  },
  {
   "cell_type": "markdown",
   "metadata": {
    "slideshow": {
     "slide_type": "subslide"
    }
   },
   "source": [
    "## Some Observations"
   ]
  },
  {
   "cell_type": "markdown",
   "metadata": {
    "cell_style": "split",
    "slideshow": {
     "slide_type": "-"
    }
   },
   "source": [
    "![Optomechanial experiment](images/experiment.svg)"
   ]
  },
  {
   "cell_type": "markdown",
   "metadata": {
    "cell_style": "split",
    "slideshow": {
     "slide_type": "-"
    }
   },
   "source": []
  },
  {
   "cell_type": "markdown",
   "metadata": {
    "slideshow": {
     "slide_type": "slide"
    }
   },
   "source": [
    "&nbsp;  \n",
    "\n",
    "&nbsp;  \n",
    "\n",
    "&nbsp;  \n",
    "\n",
    "\n",
    "# Object Oriented Modelling for Complex Physical Systems \n",
    "\n",
    "&nbsp;\n",
    "\n",
    "### Inheritance, Composition and Encapsulation"
   ]
  },
  {
   "cell_type": "markdown",
   "metadata": {
    "slideshow": {
     "slide_type": "subslide"
    }
   },
   "source": [
    "## Ad-hoc modelling."
   ]
  },
  {
   "cell_type": "markdown",
   "metadata": {
    "cell_style": "split"
   },
   "source": [
    "![Optomechanial experiment](images/experiment.svg)"
   ]
  },
  {
   "cell_type": "markdown",
   "metadata": {
    "cell_style": "split"
   },
   "source": [
    "1. Use descriptions of physical processes plus network topology to generate some odes.\n",
    "2. Do a whole bunch of algebra.\n",
    "3. Work out the appropriate coordinates to use based on geometric features (here, a non-standard slow fast system)\n",
    "4. More algebra to reduce model.\n",
    "5. Investigate the dynamics of the reduced models.\n",
    "6. Relate results in reduced model to observables in the original system\n",
    "\n",
    "In the case of emergent phenomenon, the 'reduced' subspace involves the whole (or at least a large part of) system. E.g. mean fields."
   ]
  },
  {
   "cell_type": "markdown",
   "metadata": {
    "slideshow": {
     "slide_type": "subslide"
    }
   },
   "source": [
    "## Ad-hoc approaches won't scale."
   ]
  },
  {
   "cell_type": "markdown",
   "metadata": {
    "cell_style": "split",
    "slideshow": {
     "slide_type": "-"
    }
   },
   "source": [
    "<center> <img src=\"images/map.png\"> </center>"
   ]
  },
  {
   "cell_type": "markdown",
   "metadata": {
    "cell_style": "split"
   },
   "source": [
    "As an example:\n",
    "- individual processes are far more heterogenous\n",
    "- network topolgy is complicated\n",
    "- many parameters are unknown\n",
    "- almost guaranteed to be a differential-algebraic system\n",
    "- **too big for one person, or even one lab**\n",
    "\n",
    "We must have:\n",
    "- Ways to respresent and manipulate such systems,\n",
    "- Ways to manage congnitive complexity,\n",
    "- Ways to automate model capture and reduction,\n",
    "- Ways to effective share work between researchers"
   ]
  },
  {
   "cell_type": "markdown",
   "metadata": {
    "slideshow": {
     "slide_type": "subslide"
    }
   },
   "source": [
    "## Energy provides an interface."
   ]
  },
  {
   "cell_type": "markdown",
   "metadata": {
    "cell_style": "split"
   },
   "source": [
    "![Optomechanial experiment](images/experiment.svg)"
   ]
  },
  {
   "cell_type": "markdown",
   "metadata": {
    "cell_style": "split"
   },
   "source": [
    "![Cavity_network](images/cavity_network-01.svg)"
   ]
  },
  {
   "cell_type": "markdown",
   "metadata": {
    "slideshow": {
     "slide_type": "subslide"
    }
   },
   "source": [
    "## The Structure of Complex Physical Systems"
   ]
  },
  {
   "cell_type": "markdown",
   "metadata": {
    "cell_style": "split"
   },
   "source": [
    "An approach based on 'bond graph' modelling, and port-Hamiltonian systems.\n",
    "\n",
    "- Energy is stored in 'state variables' $q,p$\n",
    "- Power is distributed via 'power variables' $e,f$\n",
    "- Formally describes the hyrdo-mechanical-electrical analogies.\n",
    "\n",
    "For example; \n",
    "- Dissipation relates $e,f$ variables. (eg. Ohm's law, friction, etc)\n",
    "- Potential storage $q$ to $e$ (eg, capacitors, gravity) "
   ]
  },
  {
   "cell_type": "markdown",
   "metadata": {
    "cell_style": "split"
   },
   "source": [
    "<table>\n",
    "<tr>\n",
    "    <th>Domain</th>\n",
    "    <th>$q$</th>\n",
    "    <th> $f = \\dot{q}$</th> \n",
    "    <th> $p$ </th>\n",
    "    <th>$e = \\dot{p}$</th>    \n",
    "</tr>\n",
    "<tr>\n",
    "    <td> Translational Mechanics </td>\n",
    "    <td> position </td>\n",
    "    <td> velocity </td>\n",
    "    <td> momentum </td>\n",
    "    <td> force </td>\n",
    "</tr>\n",
    "<tr>\n",
    "    <td>\n",
    "Rotational Mechanics </td>\n",
    "    <td> angle </td>\n",
    "    <td> angular velocity </td>\n",
    "    <td> angular momentum </td>\n",
    "    <td> torque\n",
    "    </td>\n",
    "</tr>\n",
    "<tr><td>\n",
    "Electronics</td>\n",
    "    <td> charge  </td>\n",
    "    <td> current </td>\n",
    "    <td> flux linkage</td>\n",
    "    <td> voltage</td>\n",
    "</tr>\n",
    "<tr><td>\n",
    "Hydraulics</td>\n",
    "    <td> volume </td>\n",
    "    <td> flow </td>\n",
    "    <td> pressure momentum </td>\n",
    "    <td> pressure </td>\n",
    "</tr>\n",
    "<tr>\n",
    "    <td> Thermodynamics </td>\n",
    "    <td> entropy </td>\n",
    "    <td> entropy flow </td>\n",
    "    <td> temperature momentum </td>\n",
    "    <td> temperature\n",
    "</td>\n",
    "</tr>\n",
    "<tr><td>\n",
    "    Chemistry </td>\n",
    "    <td> moles </td>\n",
    "    <td> molar flow</td>\n",
    "    <td> </td>\n",
    "    <td> chemical potential\n",
    "</td>\n",
    "</tr>\n",
    "</table>"
   ]
  },
  {
   "cell_type": "markdown",
   "metadata": {
    "slideshow": {
     "slide_type": "subslide"
    }
   },
   "source": [
    "## An Object Oriented Representation of Energetic Systems\n",
    "\n",
    "Object Oriented Programming (OOP) is a software development paradigm that seeks to manage large, complicated projects by breaking problems into _data_ plus _methods_ that act on the data. \n",
    "\n",
    "Three big ideas in OOP are:\n",
    "1. _Inheritance_ or is-a relationships. \n",
    "2. _Composition_ or has-a relationships.\n",
    "3. _Encapsulation_ or infomation hiding.\n",
    "\n",
    "This allows for _hierarchical_ and _modular_ design which reduces model complexity."
   ]
  },
  {
   "cell_type": "markdown",
   "metadata": {
    "slideshow": {
     "slide_type": "fragment"
    }
   },
   "source": [
    "'Energetic systems' draws from:\n",
    "- Network based analysis from engineering; in particular circuit electrical analysis and the more general (and less well known) bond graph methodology,\n",
    "- Classical mechanics, and in particular recent advances in port based Hamiltonian mechanics,\n",
    "- Modern nonlinear dynamics,\n",
    "- The effective was of managing complexity within software engineering."
   ]
  },
  {
   "cell_type": "markdown",
   "metadata": {
    "cell_style": "split",
    "slideshow": {
     "slide_type": "subslide"
    }
   },
   "source": [
    "## Inheritance\n",
    "\n",
    "&nbsp;\n",
    "\n",
    "For networked dynamic systems, _inheritance_ means we have:\n",
    "- conditions on the dynamical sub-systems.\n",
    "- a description of the interface between nodes.\n"
   ]
  },
  {
   "cell_type": "markdown",
   "metadata": {
    "cell_style": "split",
    "slideshow": {
     "slide_type": "-"
    }
   },
   "source": [
    "![Inheritance](images/inheritance.svg)"
   ]
  },
  {
   "cell_type": "markdown",
   "metadata": {
    "cell_style": "center",
    "slideshow": {
     "slide_type": "subslide"
    }
   },
   "source": [
    "### Definition (Energetic System)"
   ]
  },
  {
   "cell_type": "markdown",
   "metadata": {
    "cell_style": "split"
   },
   "source": [
    "An energetic system is a tuple $(M, \\mathcal{D}, U,\\Phi)$\n",
    "where the\n",
    "* *state space* $M$ is a manifold of $\\dim(M) = m\\ge 0$\n",
    "* *port space* $\\mathcal{D} \\subset \\mathcal{F} \\times \\mathcal{E}$ where, $\\mathcal{E} = \\mathcal{F}^*$ and $ \\dim{\\mathcal{D}} = \\mathcal{F}|_\\mathcal{D} =n$. \n",
    "* *control space* $U \\subset C^r:\\mathbb{R}_+ \\rightarrow \\mathbb{R^k}$ with $k\\ge 0$ \n",
    "* *constitutive relation* is a smooth map $\\Phi: TM \\times \\mathcal{D} \\times U\\times\\mathbb{R}_+ \\rightarrow\n",
    "  \\mathbb{R}^{m+n}$  \n",
    "    such that\n",
    "  $$\\Phi\\left(\\frac{dx}{dt},x,f,e,u,t\\right)=0.$$\n",
    "\n",
    "$\\Phi$ relates the _internal state_ $M$ and the _external environment_ (via $\\mathcal{D}$).\n",
    "\n",
    "\n",
    "One can show that for conservative systems, one can define a storage function $H(x)$, choose $$\\Phi(\\dot{x}, x,f,e,t) = \n",
    "\\left(\\begin{matrix}\n",
    "\\dot{x} - f\\\\\n",
    "e - \\nabla_x H(x)\n",
    "\\end{matrix}\\right) = 0$$\n",
    "and encode the appropriate sympectic structure in a linear subspace of $\\mathcal{D}$."
   ]
  },
  {
   "cell_type": "markdown",
   "metadata": {
    "cell_style": "split"
   },
   "source": [
    "&nbsp;\n",
    "\n",
    "\n",
    "&nbsp;\n",
    "\n",
    "![Energetic System](images/EnergeticSystems.svg)\n",
    "\n",
    "\n",
    "&nbsp;\n",
    "\n",
    "&nbsp;\n",
    "\n",
    "The incoming *power* is $P_\\text{in} = \\left<e,f\\right>$ for $(f,e)\\in \\mathcal{D}$"
   ]
  },
  {
   "cell_type": "markdown",
   "metadata": {
    "slideshow": {
     "slide_type": "skip"
    }
   },
   "source": []
  },
  {
   "cell_type": "markdown",
   "metadata": {
    "cell_style": "split",
    "slideshow": {
     "slide_type": "subslide"
    }
   },
   "source": [
    "## Inheritance\n",
    "\n",
    "For energetic systems-of-systems:\n",
    "\n",
    "### Nodes are particular _energetic systems_ \n",
    "Each node is described by a set of differential-algebraic equations $\\Phi(\\dot{x},x,e,f) = 0$.\n",
    "\n",
    "### Edges are constraints on port variables.\n",
    "\n",
    "An edge represents how state is shared between systems."
   ]
  },
  {
   "cell_type": "markdown",
   "metadata": {
    "cell_style": "split"
   },
   "source": [
    "![Inheritance](images/inheritance.svg)"
   ]
  },
  {
   "cell_type": "markdown",
   "metadata": {
    "slideshow": {
     "slide_type": "skip"
    }
   },
   "source": []
  },
  {
   "cell_type": "markdown",
   "metadata": {
    "cell_style": "split",
    "slideshow": {
     "slide_type": "subslide"
    }
   },
   "source": [
    "## Composition\n",
    "\n",
    "&nbsp;\n",
    "\n",
    "For networked dynamic systems _composition_ means that we can replace nodes with subgraphs and vice-versa."
   ]
  },
  {
   "cell_type": "markdown",
   "metadata": {
    "cell_style": "split"
   },
   "source": [
    "![Composition](images/composition.svg)"
   ]
  },
  {
   "cell_type": "markdown",
   "metadata": {
    "slideshow": {
     "slide_type": "skip"
    }
   },
   "source": []
  },
  {
   "cell_type": "markdown",
   "metadata": {
    "cell_style": "split",
    "slideshow": {
     "slide_type": "subslide"
    }
   },
   "source": [
    "## Corollary (Composition)\n",
    "If $\\Psi_1 = (M_1, \\mathcal{D}_1, U_1,\\Phi_1)$ and $\\Psi_2 = (M_2, \\mathcal{D}_2, U_2,\\Phi_2)$  are energetic systems, then \n",
    "\n",
    "$$\\begin{eqnarray}\\Psi_0 &=& \\Psi_1 \\oplus\\Psi_2\\\\\n",
    "&=& \n",
    "\\left(M_1\\oplus M_2,\\mathcal{D}_1 \\oplus\\mathcal{D}_2,U_1\\oplus U_2, \\Phi_1\\oplus\\Phi_2\\right)\n",
    "\\end{eqnarray}$$\n",
    "is also an energetic system.\n",
    "\n",
    "Suppose (abusing notation) $\\Psi_0 = (\\Psi_1,\\Psi_2)$ is an energetic system with ports \n",
    "\n",
    "$$(e_i, f_i) \\in \\mathcal{D}_1, \\quad (e_j,f_j)  \\in \\mathcal{D}_2$$\n",
    "\n",
    "Then $\\Phi_0$ with the additional power conserving constraint \n",
    "\n",
    "$$e_i - e_j = 0\\qquad f_i+f_j=0$$\n",
    "\n",
    "is also a energetic system"
   ]
  },
  {
   "cell_type": "markdown",
   "metadata": {
    "cell_style": "split"
   },
   "source": [
    "![Composition](images/composition.svg)"
   ]
  },
  {
   "cell_type": "markdown",
   "metadata": {
    "slideshow": {
     "slide_type": "skip"
    }
   },
   "source": []
  },
  {
   "cell_type": "markdown",
   "metadata": {
    "cell_style": "split",
    "slideshow": {
     "slide_type": "subslide"
    }
   },
   "source": [
    "## Encapsulation\n",
    "\n",
    "&nbsp;\n",
    "\n",
    "For a networked dynamical system _encapsulation_ means that we can apply simplification methods to a subgraph so that the replacement system is less complicated, while representing the same behaviour.\n",
    "\n",
    "&nbsp;\n",
    "\n",
    "One can also go the other way by replacing a node with a more complicated subgraph."
   ]
  },
  {
   "cell_type": "markdown",
   "metadata": {
    "cell_style": "split"
   },
   "source": [
    "![Encapsulation](images/encapsulation.svg)"
   ]
  },
  {
   "cell_type": "markdown",
   "metadata": {
    "slideshow": {
     "slide_type": "subslide"
    }
   },
   "source": [
    "## Object Oriented Modelling and Energetic Systems\n",
    "\n",
    "Energetic systems provide:\n",
    "- _Inheritance_; an abstract base representation of energetic systems.\n",
    "- _Composition_; a way to hierarchically compose systems of systems.\n",
    "- _Encapsulation_; a framework inside which simplifications can occur."
   ]
  },
  {
   "cell_type": "markdown",
   "metadata": {},
   "source": [
    "&nbsp;  \n",
    "\n",
    "&nbsp;  \n",
    "\n",
    "&nbsp;  \n",
    "\n",
    "#  Introducing `BondGraphTools`"
   ]
  },
  {
   "cell_type": "markdown",
   "metadata": {
    "slideshow": {
     "slide_type": "subslide"
    }
   },
   "source": [
    "## `BondGraphTools` a `python` library for energetic systems.\n",
    "\n",
    "`BondGraphTools` (https://github.com/BondGraphTools) a framework for modelling energetic systems.\n",
    "* Based upon an extension of bond graph and port-Hamiltonian modelling.\n",
    "* Provies a simple, *minimal* object-oriented interface for constructing models.\n",
    "* Implemented in `python` and uses the standard `scipy` stack.\n",
    "* Performs symbolic model reduction and simulation.\n",
    "* Simulations with DAE solvers in `julia`.\n",
    "* Developed with sustainable software practices.\n",
    "* Intended to be used in _conjunction_ with other tools.\n",
    "\n",
    "'Bond Graphs' are a multi-domain port-based graphical modelling technique used predominantly in mechatronics.  \n",
    "Port-Hamiltonian systems integrate geometric approaches from classical mechanics and control theory with port based modelling.  "
   ]
  },
  {
   "cell_type": "markdown",
   "metadata": {
    "slideshow": {
     "slide_type": "subslide"
    }
   },
   "source": [
    "## Example: Linear Oscillator"
   ]
  },
  {
   "cell_type": "code",
   "execution_count": null,
   "metadata": {
    "cell_style": "split"
   },
   "outputs": [],
   "source": [
    "class Linear_Osc(bgt.BondGraph):  \n",
    "    damping_rate = 0.1 #D amping rate common across oscillator array\n",
    "    \n",
    "    def __init__(self, freq, index):\n",
    "        \"\"\"Linear Oscillator Class\n",
    "\n",
    "        Args:\n",
    "            freq:  Natural (undamped) frequency of this oscillator\n",
    "            index: Oscillator number (used for naming).\n",
    " \n",
    "        Instances of this class are bond graph models of externally forced\n",
    "        damped harmonic oscillators.        \n",
    "        In the electrical analogy, these is simply an open loop series RLC  \n",
    "        circuit.\"\"\"\n",
    "\t\n",
    "        # Create the components\n",
    "        r = bgt.new(\"R\", name=\"R\", value=self.damping_rate)\n",
    "        l = bgt.new(\"I\", name=\"L\", value=1/freq)\n",
    "        c = bgt.new(\"C\", name=\"C\", value=1/freq)\n",
    "        port = bgt.new(\"SS\")\n",
    "        conservation_law = bgt.new(\"1\")\n",
    "\t\n",
    "        # Create the composite model and add the components\n",
    "        super().__init__(\n",
    "            name=f\"Osc_{index}\",\n",
    "            components=(r, l, c, port, conservation_law)\n",
    "        )\n",
    "\t\n",
    "        # Wire the model up\n",
    "        for component in (r,l,c):\n",
    "            bgt.connect(conservation_law, component)\n",
    "        bgt.connect(port, conservation_law)\n",
    "        \n",
    "        # Expose the SS component as an external port\n",
    "        bgt.expose(port, label=\"P_in\")"
   ]
  },
  {
   "cell_type": "markdown",
   "metadata": {
    "cell_style": "split"
   },
   "source": [
    "`Linear_Osc` \n",
    "- _inherits_ from BondGraph, which is a base 'class' containing much of functionality\n",
    "- is _composed_ of a variety of subcomponents\n",
    "- _encapsulates_ a one port RLC component.\n"
   ]
  },
  {
   "cell_type": "code",
   "execution_count": null,
   "metadata": {
    "cell_style": "split"
   },
   "outputs": [],
   "source": [
    "example_osc = Linear_Osc(1000,1)\n",
    "example_osc.constitutive_relations                        "
   ]
  },
  {
   "cell_type": "markdown",
   "metadata": {
    "slideshow": {
     "slide_type": "subslide"
    }
   },
   "source": [
    "# Example: Using Linear oscillators for Coupled Cavity"
   ]
  },
  {
   "cell_type": "markdown",
   "metadata": {
    "cell_style": "split"
   },
   "source": [
    "![Optomechanial experiment](images/experiment.svg)"
   ]
  },
  {
   "cell_type": "code",
   "execution_count": null,
   "metadata": {
    "cell_style": "split"
   },
   "outputs": [],
   "source": [
    "def coupled_cavity():\n",
    "    model = bgt.new(name=\"Cavity Model\")\n",
    "\n",
    "    # Define the interaction Hamiltonain\n",
    "    coupling_args = {\n",
    "        \"hamiltonian\":\"(w + G*x_1)*(x_2^2 + x_3^2)/2\",\n",
    "        \"params\": {\"G\": 1, \"w\": 6}\n",
    "    }\n",
    "    \n",
    "    port_hamiltonian = bgt.new(\"PH\", value=coupling_args)\n",
    "   \n",
    "    # Define the symplectic junction structure  \n",
    "    symplectic_gyrator = bgt.new(\"GY\", value=-1) \n",
    "    em_field = bgt.new(\"1\") \n",
    "\n",
    "    bgt.add(model, port_hamiltonian, symplectic_gyrator, em_field)   \n",
    "    bgt.connect(em_field, (port_hamiltonian, 1))\n",
    "    bgt.connect(em_field, (symplectic_gyrator, 1))\n",
    "    bgt.connect((port_hamiltonian, 2), (symplectic_gyrator, 0))\n",
    " \n",
    "    # Construct the open part of the system\n",
    "    dissipation = bgt.new(\"R\", value=1)\n",
    "    photon_source = bgt.new('SS')\n",
    "    \n",
    "    bgt.add(model, dissipation, photon_source)\n",
    "    bgt.connect(em_field, dissipation)\n",
    "    bgt.connect(photon_source, em_field)\n",
    "    bgt.expose(photon_source)\n",
    "    \n",
    "    # Build the oscillator array\n",
    "    frequencies = [2 + f for f in (-0.3, -0.1, 0, 0.1, 0.3)]\n",
    "    osc_mean_field = bgt.new(\"0\")\n",
    "    \n",
    "    bgt.add(model, osc_mean_field)\n",
    "    bgt.connect(osc_mean_field, (port_hamiltonian, 0))\n",
    "    osc_array = [Linear_Osc(freq, index) \n",
    "        for index, freq in enumerate(frequencies)]\n",
    "    \n",
    "    for osc in osc_array:\n",
    "        bgt.add(model, osc)\n",
    "        bgt.connect(osc_mean_field, (osc, \"P_in\"))\n",
    "    \n",
    "    return model"
   ]
  },
  {
   "cell_type": "markdown",
   "metadata": {
    "slideshow": {
     "slide_type": "subslide"
    }
   },
   "source": [
    "## Running a simulation"
   ]
  },
  {
   "cell_type": "code",
   "execution_count": null,
   "metadata": {
    "cell_style": "split"
   },
   "outputs": [],
   "source": [
    "def experiment(cavity, signal, duration=50):\n",
    "    laser = bgt.new(\"Se\")\n",
    "    experiment = bgt.new()\n",
    "\n",
    "    experiment.add(cavity, laser) \n",
    "    bgt.connect(cavity, laser)\n",
    "  \n",
    "    t,x = bgt.simulate(\n",
    "        experiment, \n",
    "        timespan=[0, duration], \n",
    "        x0=[0 for _ in cavity.state_vars], \n",
    "        control_vars=[signal]\n",
    "    )\n",
    "    \n",
    "    # do post-processing or data shaping here \n",
    "\n",
    "    # This just selects the oscillator\n",
    "    indicies = [i for i, (_,  name) \n",
    "                in enumerate(cavity.state_vars.values()) \n",
    "                if name == 'x_0']\n",
    "    return t, x[:, indicies]"
   ]
  },
  {
   "cell_type": "code",
   "execution_count": null,
   "metadata": {
    "cell_style": "split"
   },
   "outputs": [],
   "source": [
    "cavity = coupled_cavity()\n",
    "\n",
    "forcing = \"cos(0.9t)\"\n",
    "\n",
    "t, x = experiment(cavity, signal=forcing) \n",
    "\n",
    "fig = plot_graph(t, x) ## Just makes things pretty."
   ]
  },
  {
   "cell_type": "markdown",
   "metadata": {},
   "source": [
    "## Getting the equations"
   ]
  },
  {
   "cell_type": "code",
   "execution_count": null,
   "metadata": {
    "cell_style": "split"
   },
   "outputs": [],
   "source": [
    "cavity.constitutive_relations"
   ]
  },
  {
   "cell_type": "code",
   "execution_count": null,
   "metadata": {
    "cell_style": "split"
   },
   "outputs": [],
   "source": [
    "print_tree(cavity)"
   ]
  },
  {
   "cell_type": "markdown",
   "metadata": {},
   "source": []
  },
  {
   "cell_type": "markdown",
   "metadata": {
    "slideshow": {
     "slide_type": "subslide"
    }
   },
   "source": [
    "## Under the Hood"
   ]
  },
  {
   "cell_type": "markdown",
   "metadata": {},
   "source": [
    "Each energetic systems is represented in local co-ordinates $\\mathcal{X}_1 \\in \\{(\\dot{x}_1,e_1,f_1,x_1,u_1)\\}$ \n",
    "\n",
    "Motion on the subspace satisfies $\\Phi_1(X) = L_1 X + V_1(X) =0$, where $L$ are matricies and $V$ is a strictly nonlinear vector field.\n",
    "\n",
    "Suppose $\\Phi_2$ is a similarly defined subsystem, then the column vector\n",
    "$X =[X_1;X_2]$ satisfies\n",
    "\n",
    "$$0 =LX+V(X)  =  \\left(\n",
    "\\begin{matrix}\n",
    "L_1 & 0 \\\\\n",
    "0 & L_2 \\end{matrix}\n",
    "\\right) X + \n",
    "\\left(\\begin{matrix}V_1\\circ \\pi_1 \\\\ V_\\beta\\circ \\pi_\\beta \\end{matrix}\\right)(X) \n",
    "$$\n",
    "\n",
    "which gives a way of 'stitching togehtor' systems using power conserving flows via\n",
    "\n",
    "$$e^j_1 = e^k_2,\\qquad f^j_1 =-f^k_2$$\n",
    "\n",
    "Then, we apply a bunch of symnbolic linear algebra, and projections/substitutions."
   ]
  },
  {
   "cell_type": "markdown",
   "metadata": {
    "slideshow": {
     "slide_type": "subslide"
    }
   },
   "source": [
    "## State of `BondGraphTools`\n",
    "\n",
    "Current Status:\n",
    "- In active development (v.0.3.7) and active use within the lab.\n",
    "- Documentation at https://bondgraphtools.readthedocs.io/en/latest/\n",
    "- Available on PyPI https://pypi.org/project/BondGraphTools/\n",
    "- Source on GitHub https://github.com/BondGraphTools/BondGraphTools\n",
    "- Manuscript in preparation."
   ]
  },
  {
   "cell_type": "markdown",
   "metadata": {
    "slideshow": {
     "slide_type": "fragment"
    }
   },
   "source": [
    "### Planned Future Developments\n",
    "- Robust parameter and control value network.\n",
    "- Interface for measuring port space.\n",
    "- Algorithmic model reduction (particularly manifold reductions).\n",
    "- Bifurcation analysis (particularly fixed point tracking)."
   ]
  },
  {
   "cell_type": "markdown",
   "metadata": {
    "slideshow": {
     "slide_type": "subslide"
    }
   },
   "source": [
    "# In Summary"
   ]
  },
  {
   "cell_type": "markdown",
   "metadata": {
    "slideshow": {
     "slide_type": "fragment"
    }
   },
   "source": [
    "- Emergence is an interesting and relevant phenomenom that is not well understood.\n",
    "- Emergent phenomenom occur due to interactions between subsystems within the context of a larger system.\n",
    "- Even in the case of synch, still much is unknowm."
   ]
  },
  {
   "cell_type": "markdown",
   "metadata": {
    "slideshow": {
     "slide_type": "fragment"
    }
   },
   "source": [
    "- Emergence can be thought of in terms of low dimensional invariant manifolds.\n",
    "- So, it would be useful to be able to \"scale up\" nonlinear analysis tools.\n",
    "- But there are problems here particularly in how one represent systems "
   ]
  },
  {
   "cell_type": "markdown",
   "metadata": {
    "slideshow": {
     "slide_type": "fragment"
    }
   },
   "source": [
    "- `BondGraphTools` provides a way to build and recude big model in symbolic form.\n",
    "- It is hoped that this can feed into algorithmic approaches via GSP to begin to answer these questions."
   ]
  },
  {
   "cell_type": "markdown",
   "metadata": {
    "slideshow": {
     "slide_type": "subslide"
    }
   },
   "source": [
    "# Thank You!\n",
    "\n",
    "Thanks to\n",
    "- Eduardo and Robbie\n",
    "- The University of Syndey\n",
    "- Prof. Edmund Crampin \n",
    "- The Systems Biology Lab at The University of Melbourne\n",
    "\n",
    "<table >\n",
    "    <tr style=\"background-color:#FFFFFF;\">\n",
    "        <td><img src=\"images/PRIMARY_A_Vertical_Housed_RGB.png\" alt=\"University of Melbourne\" width=50% align=\"center\"></td>\n",
    "        <td><img src=\"images/cbns-logo.png\" alt=\"ARC CEnter of Excellence in Convergent Bio-Nano Science and Technology\" width=100% align=\"center\"></td>\n",
    "    </tr>\n",
    "</table>"
   ]
  },
  {
   "cell_type": "markdown",
   "metadata": {
    "slideshow": {
     "slide_type": "skip"
    }
   },
   "source": []
  },
  {
   "cell_type": "code",
   "execution_count": null,
   "metadata": {
    "cell_style": "split",
    "slideshow": {
     "slide_type": "subslide"
    }
   },
   "outputs": [],
   "source": [
    "from BondGraphTools.reaction_builder import Reaction_Network\n",
    "\n",
    "TCA_reactions = {\n",
    "    \"Citrate synthase\": \n",
    "        [\"acetyl-CoA + oxaloacetate + H2O = citrate + CoA-SH\"],\n",
    "    \"Aconitase\": \n",
    "        [\"Citrate = cis-Aconitate + H2O\", \"cis-Aconitate + H2O = Isocitrate\"],\n",
    "    \"Isocitrate dehydrogenase\": \n",
    "        [\"Isocitrate + NAD = Oxalosuccinate + NADH + H\", \n",
    "         \"Oxalosuccinate = a-Ketoglutarate + CO2\" ],\n",
    "    \"a-Ketoglutarate dehydrogenase\": \n",
    "        [\"a-Ketoglutarate + NAD + CoA-SH = Succinyl-CoA + NADH + H + CO2\"],\n",
    "     \"Succinyl-CoA synthetase\":  \n",
    "        [\"Succinyl-CoA + ADP + Pi = Succinate + CoA-SH + ATP\"],\n",
    "     \"Succinate dehydrogenase\": \n",
    "        [\"Succinate + Q = Fumarate + QH2\"],\n",
    "     \"Fumarase\":\n",
    "        [\"Fumarate + H2O = L-Malate\"],\n",
    "     \"Malate dehydrogenase\":\n",
    "        [\"L-Malate + NAD = Oxaloacetate + NADH + H\"]\n",
    "} \n",
    "\n",
    "def TCA_Cycle():\n",
    "    reaction_net = Reaction_Network(name=\"TCA_Cycle\")\n",
    "    for enzyme in TCA_reactions:\n",
    "        for index, reaction in enumerate(TCA_reactions[enzyme]):\n",
    "            reaction_name = f\"{enzyme} - {index}\"\n",
    "            reaction_net.add_reaction(reaction,  name=reaction_name)\n",
    "    return reaction_net "
   ]
  },
  {
   "cell_type": "code",
   "execution_count": null,
   "metadata": {
    "cell_style": "split"
   },
   "outputs": [],
   "source": [
    "tca_bg = TCA_Cycle().as_network_model()\n",
    "tca_bg.constitutive_relations"
   ]
  },
  {
   "cell_type": "markdown",
   "metadata": {
    "slideshow": {
     "slide_type": "fragment"
    }
   },
   "source": [
    "&nbsp;\n",
    "\n",
    "&nbsp;\n",
    "\n",
    "# Please check out `BondGraphTools`\n",
    "\n",
    "# https://github.com/BondGraphTools/"
   ]
  },
  {
   "cell_type": "code",
   "execution_count": null,
   "metadata": {},
   "outputs": [],
   "source": []
  }
 ],
 "metadata": {
  "celltoolbar": "Slideshow",
  "kernelspec": {
   "display_name": "Python 3",
   "language": "python",
   "name": "python3"
  },
  "language_info": {
   "codemirror_mode": {
    "name": "ipython",
    "version": 3
   },
   "file_extension": ".py",
   "mimetype": "text/x-python",
   "name": "python",
   "nbconvert_exporter": "python",
   "pygments_lexer": "ipython3",
   "version": "3.7.2"
  }
 },
 "nbformat": 4,
 "nbformat_minor": 2
}
