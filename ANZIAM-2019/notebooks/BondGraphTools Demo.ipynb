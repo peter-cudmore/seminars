{
 "cells": [
  {
   "cell_type": "code",
   "execution_count": 1,
   "metadata": {},
   "outputs": [],
   "source": [
    "import BondGraphTools as bgt\n",
    "from BondGraphTools.reaction_builder import Reaction_Network\n",
    "from sympy import init_printing\n",
    "init_printing()"
   ]
  },
  {
   "cell_type": "markdown",
   "metadata": {
    "slideshow": {
     "slide_type": "slide"
    }
   },
   "source": [
    "# BondGraphTools\n",
    "## Modelling Network Bioenergetics\n",
    "\n",
    "https://github.com/peter-cudmore/seminars/ANZIAM-2019\n",
    "\n",
    "&nbsp;\n",
    "\n",
    "    Dr. Peter Cudmore.  \n",
    "    Systems Biology Labratory,   \n",
    "    The School of Chemical and Biomedical Engineering,  \n",
    "    The University of Melbourne.  "
   ]
  },
  {
   "cell_type": "markdown",
   "metadata": {},
   "source": []
  },
  {
   "cell_type": "code",
   "execution_count": null,
   "metadata": {},
   "outputs": [],
   "source": []
  },
  {
   "cell_type": "code",
   "execution_count": 8,
   "metadata": {
    "cell_style": "split",
    "slideshow": {
     "slide_type": "slide"
    }
   },
   "outputs": [
    {
     "data": {
      "image/png": "[encoded data removed]",
      "text/plain": [
       "<Figure size 960x720 with 1 Axes>"
      ]
     },
     "metadata": {
      "needs_background": "light"
     },
     "output_type": "display_data"
    }
   ],
   "source": [
    "rn = Reaction_Network(\"S = P\", \n",
    "                      name=\"One Step Reaction\")\n",
    "\n",
    "model = rn.as_network_model(normalised=True)\n",
    "bgt.draw(model)"
   ]
  },
  {
   "cell_type": "code",
   "execution_count": 14,
   "metadata": {
    "cell_style": "split",
    "slideshow": {
     "slide_type": "fragment"
    }
   },
   "outputs": [
    {
     "name": "stdout",
     "output_type": "stream",
     "text": [
      "[e_0 - log(k_{S}*q_0), -dq_0 + f_0]\n"
     ]
    }
   ],
   "source": [
    "CS = model / \"C:S\"\n",
    "CS.constitutive_relations"
   ]
  },
  {
   "cell_type": "markdown",
   "metadata": {
    "cell_style": "split",
    "slideshow": {
     "slide_type": "fragment"
    }
   },
   "source": [
    "- $q_0$ is the amount of substrate (in mols)\n",
    "- $K_S$"
   ]
  },
  {
   "cell_type": "code",
   "execution_count": 3,
   "metadata": {},
   "outputs": [],
   "source": [
    "Glycolosis = {\n",
    "    \"HK\": \"Glc + ATP = H + ADP + G6P\",\n",
    "    \"PGI\": \"G6P = F6P\",\n",
    "    \"PFK-1\":\"F6P + ATP  = H + ADP + F1,6BP\",\n",
    "    \"ALDO\": \"F1,6BP = GADP + DHAP\",\n",
    "    \"TPI\":\"DHAP = GDAP\",\n",
    "    \"GADPH\":\"GADP + NAD + P = 1,3BPG + NADH + H\",\n",
    "    \"PGK\": \"1,3BPG + ADP = ATP + 3PG\",\n",
    "    \"PGM\":\"3PG = 2PG\",\n",
    "    \"ENO\": \"2PG  = PEP + H20\",\n",
    "    \"PK\": \"PEP + ADP + H = Pyr + ATP\"\n",
    "}\n",
    "\n",
    "    "
   ]
  },
  {
   "cell_type": "code",
   "execution_count": null,
   "metadata": {},
   "outputs": [],
   "source": []
  },
  {
   "cell_type": "code",
   "execution_count": 4,
   "metadata": {},
   "outputs": [
    {
     "data": {
      "image/png": "[encoded data removed]",
      "text/latex": [
       "$$\\left [ - k_{ES} r_{1;0} x_{2} + k_{E} k_{S} r_{1;0} x_{0} x_{1} + dx_{0}, \\quad - k_{ES} r_{1;0} x_{2} - k_{ES} r_{1;1} x_{2} + k_{E} k_{P} r_{1;1} x_{1} x_{3} + k_{E} k_{S} r_{1;0} x_{0} x_{1} + dx_{1}, \\quad k_{ES} r_{1;0} x_{2} + k_{ES} r_{1;1} x_{2} - k_{E} k_{P} r_{1;1} x_{1} x_{3} - k_{E} k_{S} r_{1;0} x_{0} x_{1} + dx_{2}, \\quad - k_{ES} r_{1;1} x_{2} + k_{E} k_{P} r_{1;1} x_{1} x_{3} + dx_{3}\\right ]$$"
      ],
      "text/plain": [
       "[-k_{ES}⋅r_{1;0}⋅x₂ + k_{E}⋅k_{S}⋅r_{1;0}⋅x₀⋅x₁ + dx₀, -k_{ES}⋅r_{1;0}⋅x₂ - k_\n",
       "{ES}⋅r_{1;1}⋅x₂ + k_{E}⋅k_{P}⋅r_{1;1}⋅x₁⋅x₃ + k_{E}⋅k_{S}⋅r_{1;0}⋅x₀⋅x₁ + dx₁,\n",
       " k_{ES}⋅r_{1;0}⋅x₂ + k_{ES}⋅r_{1;1}⋅x₂ - k_{E}⋅k_{P}⋅r_{1;1}⋅x₁⋅x₃ - k_{E}⋅k_{\n",
       "S}⋅r_{1;0}⋅x₀⋅x₁ + dx₂, -k_{ES}⋅r_{1;1}⋅x₂ + k_{E}⋅k_{P}⋅r_{1;1}⋅x₁⋅x₃ + dx₃]"
      ]
     },
     "execution_count": 4,
     "metadata": {},
     "output_type": "execute_result"
    }
   ],
   "source": [
    "\n",
    "model.constitutive_relations"
   ]
  },
  {
   "cell_type": "code",
   "execution_count": 5,
   "metadata": {},
   "outputs": [
    {
     "ename": "NameError",
     "evalue": "name 'C' is not defined",
     "output_type": "error",
     "traceback": [
      "\u001b[0;31m---------------------------------------------------------------------------\u001b[0m",
      "\u001b[0;31mNameError\u001b[0m                                 Traceback (most recent call last)",
      "\u001b[0;32m<ipython-input-5-a4c6fd9a6cf7>\u001b[0m in \u001b[0;36m<module>\u001b[0;34m\u001b[0m\n\u001b[0;32m----> 1\u001b[0;31m \u001b[0mC\u001b[0m\u001b[0;34m.\u001b[0m\u001b[0mconstitutive_relations\u001b[0m\u001b[0;34m\u001b[0m\u001b[0;34m\u001b[0m\u001b[0m\n\u001b[0m",
      "\u001b[0;31mNameError\u001b[0m: name 'C' is not defined"
     ]
    }
   ],
   "source": [
    "C.constitutive_relations"
   ]
  },
  {
   "cell_type": "code",
   "execution_count": null,
   "metadata": {},
   "outputs": [],
   "source": []
  }
 ],
 "metadata": {
  "celltoolbar": "Slideshow",
  "kernelspec": {
   "display_name": "Python 3",
   "language": "python",
   "name": "python3"
  },
  "language_info": {
   "codemirror_mode": {
    "name": "ipython",
    "version": 3
   },
   "file_extension": ".py",
   "mimetype": "text/x-python",
   "name": "python",
   "nbconvert_exporter": "python",
   "pygments_lexer": "ipython3",
   "version": "3.7.2"
  }
 },
 "nbformat": 4,
 "nbformat_minor": 2
}
