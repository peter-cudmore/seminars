{
 "cells": [
  {
   "cell_type": "code",
   "execution_count": 42,
   "metadata": {
    "slideshow": {
     "slide_type": "skip"
    }
   },
   "outputs": [],
   "source": [
    "import matplotlib.pyplot as plt\n",
    "import BondGraphTools\n",
    "from BondGraphTools.config import config\n",
    "from BondGraphTools.reaction_builder import Reaction_Network\n",
    "julia = config.julia"
   ]
  },
  {
   "cell_type": "markdown",
   "metadata": {
    "slideshow": {
     "slide_type": "slide"
    }
   },
   "source": [
    "# `BondGraphTools`\n",
    "## Modelling Network Bioenergetics.\n",
    "\n",
    "\n",
    "https://github.com/peter-cudmore/seminars/ANZIAM-2019\n",
    "\n",
    "&nbsp;\n",
    "\n",
    "    Dr. Peter Cudmore.  \n",
    "    Systems Biology Labratory,   \n",
    "    The School of Chemical and Biomedical Engineering,  \n",
    "    The University of Melbourne.  "
   ]
  },
  {
   "cell_type": "markdown",
   "metadata": {
    "slideshow": {
     "slide_type": "subslide"
    }
   },
   "source": [
    "In this talk i discuss\n",
    "* Problems in compartmental modelling of cellular processes,\n",
    "* Some solutions from engineering and physics,\n",
    "* Software to make life easier.\n",
    "\n",
    "&nbsp;\n",
    "\n",
    "For this talk; a *model* is a set of ordinary differential equations."
   ]
  },
  {
   "cell_type": "markdown",
   "metadata": {
    "slideshow": {
     "slide_type": "slide"
    }
   },
   "source": [
    "## Part 1: Problems in Cellular Process Modelling."
   ]
  },
  {
   "cell_type": "markdown",
   "metadata": {
    "slideshow": {
     "slide_type": "subslide"
    }
   },
   "source": [
    "<center> <img src=\"images/map.png\"> </center>"
   ]
  },
  {
   "cell_type": "markdown",
   "metadata": {
    "slideshow": {
     "slide_type": "subslide"
    }
   },
   "source": [
    "<center><i>Parameters (or the lack thereof) are the bane of the mathematical biologists existence!</i></center>"
   ]
  },
  {
   "cell_type": "markdown",
   "metadata": {
    "cell_style": "center",
    "slideshow": {
     "slide_type": "subslide"
    }
   },
   "source": [
    "Consinder $S + E = ES = E + P$ (one 'edge' of metabolism).\n",
    "\n",
    "Assuming mass action, the dynamics are: \n",
    "$$\\begin{align}\n",
    "\\dot{[S]} &= k_1^b[ES] - k_1^f[E][S],\\\\\n",
    "\\dot{[E]} &=  (k_1^b + k_2^f)[ES] - [E](k_1^f[S] + k_2^b[P]),\\\\\n",
    "\\dot{[ES]} &= -(k_1^b + k_2^f)[ES] + [E](k_1^f[S] + k_2^b[P]),\\\\\n",
    "\\dot{[P]} &= k_2^f[ES] - k_2^f[E][P].\n",
    "\\end{align}\n",
    "$$"
   ]
  },
  {
   "cell_type": "markdown",
   "metadata": {
    "cell_style": "split",
    "slideshow": {
     "slide_type": "skip"
    }
   },
   "source": []
  },
  {
   "cell_type": "markdown",
   "metadata": {
    "slideshow": {
     "slide_type": "fragment"
    }
   },
   "source": [
    "*What are the kinetic parameters $k_1^b, k_1^f, k_2^b, k_2^f$?*"
   ]
  },
  {
   "cell_type": "markdown",
   "metadata": {
    "slideshow": {
     "slide_type": "fragment"
    }
   },
   "source": [
    "*How do we find them for large systems?*"
   ]
  },
  {
   "cell_type": "markdown",
   "metadata": {
    "slideshow": {
     "slide_type": "subslide"
    }
   },
   "source": [
    "Can kinetic parameters be estimated from available data?\n",
    "\n",
    "&nbsp;\n"
   ]
  },
  {
   "cell_type": "markdown",
   "metadata": {
    "slideshow": {
     "slide_type": "fragment"
    }
   },
   "source": [
    "<center><h3>No!</h3></center> "
   ]
  },
  {
   "cell_type": "markdown",
   "metadata": {
    "slideshow": {
     "slide_type": "fragment"
    }
   },
   "source": [
    "&nbsp;\n",
    "\n",
    "When fitting data to a system of kinetics parameters may be: \n",
    "- unobservable (for example, rate constants from equilibrium data), \n",
    "- or *sloppy* (aways underdetermined for a set of data)."
   ]
  },
  {
   "cell_type": "markdown",
   "metadata": {
    "slideshow": {
     "slide_type": "subslide"
    }
   },
   "source": [
    "Do kinetic parameters generalise across different experiments (and hence can be tabulated)?\n",
    "\n",
    "&nbsp;\n",
    "\n"
   ]
  },
  {
   "cell_type": "markdown",
   "metadata": {
    "slideshow": {
     "slide_type": "fragment"
    }
   },
   "source": [
    "<center><h3>No!</h3></center> "
   ]
  },
  {
   "cell_type": "markdown",
   "metadata": {
    "slideshow": {
     "slide_type": "fragment"
    }
   },
   "source": [
    "&nbsp;\n",
    "\n",
    "At the very least kinetic parameters fail to generalise across temperatures.\n",
    "\n",
    "For example; physiological conditions are around $37^\\circ C$ while labs are around $21^\\circ C$."
   ]
  },
  {
   "cell_type": "markdown",
   "metadata": {
    "slideshow": {
     "slide_type": "subslide"
    }
   },
   "source": [
    "Do kinetic parameters violate the laws physics?"
   ]
  },
  {
   "cell_type": "markdown",
   "metadata": {
    "slideshow": {
     "slide_type": "fragment"
    }
   },
   "source": [
    "\n",
    "<center><h3>Often!</h3></center>\n",
    "\n"
   ]
  },
  {
   "cell_type": "markdown",
   "metadata": {
    "slideshow": {
     "slide_type": "fragment"
    }
   },
   "source": [
    "&nbsp;\n",
    "\n",
    "_The principal of detailed balance_ requires that at equilibirum each simple process should be balanced by its reverse process.\n",
    "\n",
    "This puts constraints on the kinetic parameters which are often broken, for example, by setting $k^b_i = 0$ (no back reaction for that step)."
   ]
  },
  {
   "cell_type": "markdown",
   "metadata": {
    "slideshow": {
     "slide_type": "subslide"
    }
   },
   "source": [
    "An alternative is to think of kinetic parameters as derived from physical constants!\n",
    "\n",
    "For instance:\n",
    "- Oster, G. and Perelson, A. and Katchalsy, A. *Network Thermodynamics*. Nature 1971; 234:5329. \n",
    "- Erderer, M. and Gilles, E. D. *Thermodynamically Feasible Kinetic Models of Reaction Networks*. Biophys J. 2007; 92(6): 1846–1857. \n",
    "- Saa, P. A. and Nielsen, L. K. *Construction of feasible and accurate kinetic models of metabolism: A Bayesian approach.* Sci Rep. 2016;6:29635."
   ]
  },
  {
   "cell_type": "markdown",
   "metadata": {
    "slideshow": {
     "slide_type": "slide"
    }
   },
   "source": [
    "# Part 2: A Solution via Network Thermodynamics"
   ]
  },
  {
   "cell_type": "markdown",
   "metadata": {
    "slideshow": {
     "slide_type": "subslide"
    }
   },
   "source": [
    "<center> <img src=\"images/map.png\"> </center>"
   ]
  },
  {
   "cell_type": "markdown",
   "metadata": {
    "cell_style": "split",
    "slideshow": {
     "slide_type": "subslide"
    }
   },
   "source": [
    "### Network Thermodynamics\n",
    "\n",
    "Partitions $S + B = P$ into _components_.\n",
    "\n",
    "1. Energy Storage.\n",
    "2. Dissipative Processes.\n",
    "3. Conservation Laws.\n",
    "\n",
    "Here:\n",
    "- Chem. potential acts like _pressure_ or _voltage_.\n",
    "- Molar flow acts like _velocity_ or _current_."
   ]
  },
  {
   "cell_type": "code",
   "execution_count": 49,
   "metadata": {
    "cell_style": "split",
    "scrolled": false,
    "slideshow": {
     "slide_type": "-"
    }
   },
   "outputs": [
    {
     "data": {
      "image/png": "[encoded data removed]",
      "text/plain": [
       "<Figure size 640x480 with 1 Axes>"
      ]
     },
     "metadata": {
      "needs_background": "light"
     },
     "output_type": "display_data"
    }
   ],
   "source": [
    "# Reaction Network from BondGraphTools\n",
    "reaction = Reaction_Network(\n",
    "    \"S + B = P\", name=\"One Step Reaction\"\n",
    ")\n",
    "\n",
    "model = reaction.as_network_model()\n",
    " \n",
    "# Basic Visualisation.\n",
    "from BondGraphTools import draw \n",
    "figure = draw(model, size=(8,6))"
   ]
  },
  {
   "cell_type": "markdown",
   "metadata": {
    "slideshow": {
     "slide_type": "subslide"
    }
   },
   "source": [
    "### Kinetic parameters from Network Thermodynamics."
   ]
  },
  {
   "cell_type": "markdown",
   "metadata": {
    "cell_style": "split",
    "slideshow": {
     "slide_type": "-"
    }
   },
   "source": [
    "Partitions $S + B = P$  into _components_.\n",
    "\n",
    "1. Energy Storage Compartments: \n",
    "$S$, $B$ and $P$.\n",
    "2. Dissipative Processes: (The chemical reaction itself).\n",
    "3. Conservation Laws: (The flow from A is the flow from B and is equal to the flow into reaction)."
   ]
  },
  {
   "cell_type": "markdown",
   "metadata": {
    "cell_style": "split",
    "slideshow": {
     "slide_type": "-"
    }
   },
   "source": [
    "Gibbs Energy:\n",
    "\n",
    "$$\\mathrm{d}G = P\\mathrm{d}v +S\\mathrm{d}T + \\sum_i\\mu_i\\mathrm{d}n_i$$\n",
    "\n",
    "- $\\mu_i$ is the Chemical Potential of species $A_i$\n",
    "- $n_i$ is the amount (in mols) of $A_i$"
   ]
  },
  {
   "cell_type": "markdown",
   "metadata": {
    "slideshow": {
     "slide_type": "skip"
    }
   },
   "source": []
  },
  {
   "cell_type": "markdown",
   "metadata": {
    "cell_style": "split",
    "slideshow": {
     "slide_type": "subslide"
    }
   },
   "source": [
    "Chemical Potential is usually modelled as\n",
    "\n",
    "&nbsp;\n",
    "\n",
    "$$\\mu_i = PT\\ln\\left(\\frac{k_in_i}{V}\\right)$$ where $$k_i = \\frac{1}{c^\\text{ref}}\\exp\\left[\\frac{\\mu_i^\\text{ref}}{PT}\\right]$$"
   ]
  },
  {
   "cell_type": "markdown",
   "metadata": {
    "cell_style": "split",
    "slideshow": {
     "slide_type": "-"
    }
   },
   "source": [
    "&nbsp;\n",
    "\n",
    "&nbsp;\n",
    "\n",
    "- $P$, $T$ and $V$ are pressure, temperature and volume respectively.\n",
    "- $c^\\text{ref}$ is the reference concentration (often $10^{-9} \\text{mol/L}$).\n",
    "- $\\mu_i^\\text{ref}$ is the reference potential."
   ]
  },
  {
   "cell_type": "markdown",
   "metadata": {
    "slideshow": {
     "slide_type": "-"
    }
   },
   "source": [
    "<center><i> The reference potential can be tabulated, approximated and (in somecase) directly measured!</i> </center>"
   ]
  },
  {
   "cell_type": "markdown",
   "metadata": {},
   "source": [
    "Reaction flow $v$ is assumed to obey the Marcelin-de Donder formula:\n",
    "\n",
    "$$ v \\propto \\exp\\left(\\frac{A_f}{PT}\\right) - \\exp\\left(\\frac{A_r}{PT}\\right)$$\n",
    "\n",
    "where $A_f, A_r$ are the forward and reverse chemical affinities.\n",
    "\n",
    "For $S + B = P$, $$A_f = \\mu_S + \\mu_B \\quad \\text{and}\\quad A_r = \\mu_P.$$\n"
   ]
  },
  {
   "cell_type": "markdown",
   "metadata": {
    "slideshow": {
     "slide_type": "subslide"
    }
   },
   "source": [
    "### Kinetic parameters from Network Thermodynamics.\n",
    "\n",
    "For the equation $S + B= P$, in thermodynamic parameters:\n",
    "&nbsp;\n",
    "\n",
    "$$\n",
    "\\dot{[P]} = \\kappa(k_Sk_B[S][B] - k_P[P])\n",
    "$$"
   ]
  },
  {
   "cell_type": "markdown",
   "metadata": {
    "slideshow": {
     "slide_type": "-"
    }
   },
   "source": [
    "Here $$k^f = \\kappa k_Sk_B, \\quad k^b = \\kappa k_P, \\quad \\text{with} \\quad k_i = \\frac{1}{c^\\text{ref}}\\exp\\left[\\frac{\\mu_i^\\text{ref}}{PT}\\right], \\quad \\kappa > 0.$$"
   ]
  },
  {
   "cell_type": "markdown",
   "metadata": {
    "cell_style": "center",
    "slideshow": {
     "slide_type": "fragment"
    }
   },
   "source": [
    "*$k^f$ and $k^b$ are now related to physical constants!*"
   ]
  },
  {
   "cell_type": "markdown",
   "metadata": {
    "slideshow": {
     "slide_type": "slide"
    }
   },
   "source": [
    "# Part 3: Network Thermodynamics with `BondGraphTools`"
   ]
  },
  {
   "cell_type": "markdown",
   "metadata": {
    "slideshow": {
     "slide_type": "subslide"
    }
   },
   "source": [
    "<center> <img src=\"images/map.png\"> </center>"
   ]
  },
  {
   "cell_type": "code",
   "execution_count": 3,
   "metadata": {
    "scrolled": true,
    "slideshow": {
     "slide_type": "subslide"
    }
   },
   "outputs": [
    {
     "name": "stdout",
     "output_type": "stream",
     "text": [
      "Help on package BondGraphTools:\n",
      "\n",
      "NAME\n",
      "    BondGraphTools\n",
      "\n",
      "DESCRIPTION\n",
      "    BondGraphTools\n",
      "    ==============\n",
      "    BondGraphTools is a python library for symbolic modelling and control of multi-physics\n",
      "    systems using bond graphs. Bond graph modelling is a network base framework concerned\n",
      "    with the distribution of energy and the flow of power through lumped-element or\n",
      "    compartmental models of physical system.\n",
      "    \n",
      "    Package Documentation::\n",
      "    \n",
      "        https://bondgraphtools.readthedocs.io/\n",
      "    \n",
      "    Source::\n",
      "    \n",
      "        https://github.com/BondGraphTools/BondGraphTools\n",
      "    \n",
      "    Bug reports:\n",
      "    \n",
      "        https://github.com/BondGraphTools/BondGraphTools/issues\n",
      "    \n",
      "    \n",
      "    Simple Example\n",
      "    --------------\n",
      "    \n",
      "    Build and simulate a RLC driven RLC circuit::\n",
      "    \n",
      "        import BondGraphTools as bgt\n",
      "    \n",
      "        # Create a new model\n",
      "        model = bgt.new(name=\"RLC\")\n",
      "    \n",
      "        # Create components\n",
      "        # 1 Ohm Resistor\n",
      "        resistor = bgt.new(\"R\", name=\"R1\", value=1.0)\n",
      "    \n",
      "        # 1 Henry Inductor\n",
      "        inductor = bgt.new(\"L\", name=\"L1\", value=1.0)\n",
      "        # 1 Farad Capacitor\n",
      "        capacitor = bgt.new(\"C\", name=\"C1\", value=1.0)\n",
      "        # Conservation Law\n",
      "        law = bgt.new(\"0\") # Common voltage conservation law\n",
      "    \n",
      "        # Connect the components\n",
      "        connect(law, resistor)\n",
      "        connect(law, capacitor)\n",
      "        connect(law, inductor)\n",
      "    \n",
      "        # produce timeseries data\n",
      "        t, x = simulate(model, x0=[1,1], timespan=[0, 10])\n",
      "    \n",
      "    Bugs\n",
      "    ----\n",
      "    \n",
      "    Please report any bugs `here <https://github.com/BondGraphTools/BondGraphTools/issues>`_,\n",
      "    or fork the repository and submit a pull request.\n",
      "    \n",
      "    License\n",
      "    -------\n",
      "    Released under the Apache 2.0 License::\n",
      "    \n",
      "        Copyright (C) 2018\n",
      "        Peter Cudmore <peter.cudmore@uqconnect.edu.au>\n",
      "\n",
      "PACKAGE CONTENTS\n",
      "    actions\n",
      "    algebra\n",
      "    atomic\n",
      "    base\n",
      "    component_manager\n",
      "    compound\n",
      "    config\n",
      "    ds_model\n",
      "    exceptions\n",
      "    fileio\n",
      "    port_hamiltonian\n",
      "    reaction_builder\n",
      "    sim_tools\n",
      "    version\n",
      "    view\n",
      "\n",
      "FILE\n",
      "    /Users/pete/Workspace/BondGraphTools/BondGraphTools/__init__.py\n",
      "\n",
      "\n"
     ]
    }
   ],
   "source": [
    "import BondGraphTools\n",
    "help(BondGraphTools)"
   ]
  },
  {
   "cell_type": "markdown",
   "metadata": {
    "cell_style": "split",
    "slideshow": {
     "slide_type": "subslide"
    }
   },
   "source": [
    "### Network Energetics\n",
    "Network Energetics, which includes Network Thermodynamics partitions $S + B = P$ into _components_.\n",
    "\n",
    "1. Energy Storage Compartments: $C: S$, $C: B$ and $C: P$.\n",
    "2. Dissipative Processes: $R: r_{1;0}$\n",
    "3. Conservation Laws: $1$ (common flow).\n",
    "\n",
    "*Bond Graphs represent of energy networks.*"
   ]
  },
  {
   "cell_type": "code",
   "execution_count": 41,
   "metadata": {
    "cell_style": "split",
    "slideshow": {
     "slide_type": "-"
    }
   },
   "outputs": [
    {
     "data": {
      "image/png": "[encoded data removed]",
      "text/plain": [
       "<Figure size 640x480 with 1 Axes>"
      ]
     },
     "metadata": {
      "needs_background": "light"
     },
     "output_type": "display_data"
    }
   ],
   "source": [
    "#from BondGraphTools.reaction_builder\n",
    "# import Reaction_Network\n",
    "\n",
    "reaction = Reaction_Network(\n",
    "    \"S + B = P\", name=\"One Step Reaction\"\n",
    ")\n",
    "model = reaction.as_network_model()\n",
    "\n",
    "# Basic Visualisation.\n",
    "from BondGraphTools import draw \n",
    "figure = draw(model, size=(8,6))\n"
   ]
  },
  {
   "cell_type": "code",
   "execution_count": null,
   "metadata": {
    "slideshow": {
     "slide_type": "skip"
    }
   },
   "outputs": [],
   "source": []
  },
  {
   "cell_type": "code",
   "execution_count": 47,
   "metadata": {
    "cell_style": "split",
    "slideshow": {
     "slide_type": "subslide"
    }
   },
   "outputs": [
    {
     "data": {
      "image/png": "[encoded data removed]",
      "text/latex": [
       "$$\\left [ k_{B} k_{S} r_{1;0} x_{0} x_{1} - k_{P} r_{1;0} x_{2} + dx_{0}, \\quad k_{B} k_{S} r_{1;0} x_{0} x_{1} - k_{P} r_{1;0} x_{2} + dx_{1}, \\quad - k_{B} k_{S} r_{1;0} x_{0} x_{1} + k_{P} r_{1;0} x_{2} + dx_{2}\\right ]$$"
      ],
      "text/plain": [
       "[k_{B}⋅k_{S}⋅r_{1;0}⋅x₀⋅x₁ - k_{P}⋅r_{1;0}⋅x₂ + dx₀, k_{B}⋅k_{S}⋅r_{1;0}⋅x₀⋅x₁\n",
       " - k_{P}⋅r_{1;0}⋅x₂ + dx₁, -k_{B}⋅k_{S}⋅r_{1;0}⋅x₀⋅x₁ + k_{P}⋅r_{1;0}⋅x₂ + dx₂\n",
       "]"
      ]
     },
     "execution_count": 47,
     "metadata": {},
     "output_type": "execute_result"
    }
   ],
   "source": [
    "# Initialise latex printing\n",
    "from sympy import init_printing\n",
    "init_printing() \n",
    "# Print the equations of motion\n",
    "model.constitutive_relations"
   ]
  },
  {
   "cell_type": "code",
   "execution_count": 46,
   "metadata": {
    "cell_style": "split",
    "slideshow": {
     "slide_type": "-"
    }
   },
   "outputs": [
    {
     "data": {
      "image/png": "[encoded data removed]",
      "text/plain": [
       "<Figure size 640x480 with 1 Axes>"
      ]
     },
     "execution_count": 46,
     "metadata": {},
     "output_type": "execute_result"
    }
   ],
   "source": [
    "figure"
   ]
  },
  {
   "cell_type": "code",
   "execution_count": 45,
   "metadata": {
    "cell_style": "center",
    "slideshow": {
     "slide_type": "-"
    }
   },
   "outputs": [
    {
     "name": "stdout",
     "output_type": "stream",
     "text": [
      "x_0 is C: S's Molar Amount\n",
      "x_1 is C: B's Molar Amount\n",
      "x_2 is C: P's Molar Amount\n"
     ]
    }
   ],
   "source": [
    "for v in model.state_vars:\n",
    "    (component, local_v) = model.state_vars[v]\n",
    "    meta_data = component.state_vars[local_v]\n",
    "    print(f\"{v} is {component}\\'s {meta_data}\")"
   ]
  },
  {
   "cell_type": "markdown",
   "metadata": {
    "cell_style": "center",
    "slideshow": {
     "slide_type": "skip"
    }
   },
   "source": []
  },
  {
   "cell_type": "code",
   "execution_count": 35,
   "metadata": {
    "cell_style": "split",
    "slideshow": {
     "slide_type": "subslide"
    }
   },
   "outputs": [
    {
     "data": {
      "image/png": "[encoded data removed]",
      "text/plain": [
       "<Figure size 640x480 with 1 Axes>"
      ]
     },
     "execution_count": 35,
     "metadata": {},
     "output_type": "execute_result"
    }
   ],
   "source": [
    "#\n",
    "#\n",
    "figure"
   ]
  },
  {
   "cell_type": "markdown",
   "metadata": {
    "cell_style": "split",
    "slideshow": {
     "slide_type": "-"
    }
   },
   "source": [
    "### A peak under the hood\n",
    "\n",
    "In `BondGraphTools`, components have a number of power ports defined such that the power $P_i$ entering the $i$th port is $P_i = e_if_i$\n",
    "\n",
    "The power vaiables $(e,f)$ are related to the component state variables $(x, \\mathrm{d}x)$ by _constitutive relations_."
   ]
  },
  {
   "cell_type": "code",
   "execution_count": 9,
   "metadata": {
    "cell_style": "split"
   },
   "outputs": [
    {
     "data": {
      "image/png": "[encoded data removed]",
      "text/latex": [
       "$$\\left [ - R T \\log{\\left (k n \\right )} + e_{0}, \\quad - dn + f_{0}\\right ]$$"
      ],
      "text/plain": [
       "[-R⋅T⋅log(k⋅n) + e₀, -dn + f₀]"
      ]
     },
     "execution_count": 9,
     "metadata": {},
     "output_type": "execute_result"
    }
   ],
   "source": [
    "from BondGraphTools import new\n",
    "\n",
    "chemical_potential = new(\"Ce\", library=\"BioChem\")\n",
    "chemical_potential.constitutive_relations"
   ]
  },
  {
   "cell_type": "markdown",
   "metadata": {
    "slideshow": {
     "slide_type": "skip"
    }
   },
   "source": []
  },
  {
   "cell_type": "code",
   "execution_count": 32,
   "metadata": {
    "cell_style": "split",
    "slideshow": {
     "slide_type": "subslide"
    }
   },
   "outputs": [
    {
     "data": {
      "image/png": "[encoded data removed]",
      "text/plain": [
       "<Figure size 640x480 with 1 Axes>"
      ]
     },
     "execution_count": 32,
     "metadata": {},
     "output_type": "execute_result"
    }
   ],
   "source": [
    "figure"
   ]
  },
  {
   "cell_type": "markdown",
   "metadata": {
    "cell_style": "split",
    "slideshow": {
     "slide_type": "-"
    }
   },
   "source": [
    "##### A peak under the hood (cont.) \n",
    "\n",
    "The harpoons represent _shared power variables_.\n",
    "\n",
    "For example the harpoon from port 1 on $R: r_{1;0}$ to $C:P$ indiciates that\n",
    "\n",
    "\n",
    "$$\n",
    "f^{C:P}_0 = - f^{R:r_{1;0}}_1 \\qquad \n",
    "e^{C:P}_0 = e^{R:r_{1;0}}_1 \n",
    "$$\n",
    "&nbsp;\n",
    "\n",
    "so that power is conserved through the connection\n",
    "\n",
    "&nbsp;\n",
    "$$\n",
    "P^{C:P}_0 + P^{R:r_{1;0}}_1  = 0\n",
    "$$\n"
   ]
  },
  {
   "cell_type": "code",
   "execution_count": null,
   "metadata": {
    "slideshow": {
     "slide_type": "skip"
    }
   },
   "outputs": [],
   "source": []
  },
  {
   "cell_type": "code",
   "execution_count": 34,
   "metadata": {
    "cell_style": "split",
    "slideshow": {
     "slide_type": "subslide"
    }
   },
   "outputs": [
    {
     "data": {
      "image/png": "[encoded data removed]",
      "text/plain": [
       "<Figure size 640x480 with 1 Axes>"
      ]
     },
     "execution_count": 34,
     "metadata": {},
     "output_type": "execute_result"
    }
   ],
   "source": [
    "figure"
   ]
  },
  {
   "cell_type": "markdown",
   "metadata": {
    "cell_style": "split",
    "slideshow": {
     "slide_type": "-"
    }
   },
   "source": [
    "##### A peak under the hood (cont.)\n",
    "The resulting system is of the form:\n",
    "$$\n",
    "LX + V(X) = 0\n",
    "$$ \n",
    "&nbsp;\n",
    "where \n",
    "\n",
    "$$\n",
    "X = \\left(\\frac{\\mathrm{d}\\mathbf{x}}{\\mathrm{d}t}, \n",
    "\\mathbf{e},\n",
    "\\mathbf{f}, \n",
    "\\mathbf{x},\n",
    "\\mathbf{u}\\right)^T\n",
    "$$\n",
    "&nbsp;\n",
    "- $\\mathbf{e},\\mathbf{f}$ vectors of power variables\n",
    "- $\\mathrm{d}\\mathbf{x}, \\mathbf{x}$ similarly state variables.\n",
    "- and $\\mathbf{u}$ control variables\n",
    "- $L$ is a sparse matrix\n",
    "- $V$ is a nonlinear vector field."
   ]
  },
  {
   "cell_type": "code",
   "execution_count": null,
   "metadata": {
    "slideshow": {
     "slide_type": "skip"
    }
   },
   "outputs": [],
   "source": []
  },
  {
   "cell_type": "markdown",
   "metadata": {
    "cell_style": "center",
    "slideshow": {
     "slide_type": "subslide"
    }
   },
   "source": [
    "### So what does this have to do with parameters?\n",
    "\n",
    "Having a network energetics library allows for:\n",
    "- automation via dataflow scripting (eq; `request`, `xlrd`),\n",
    "- 'computational modularity' for model/parameter reuse,\n",
    "- intergration with existing parameter estimators,\n",
    "- use with your favourite data analysis technology.\n",
    "\n",
    "*Enables the tabuation of paramaters!*"
   ]
  },
  {
   "cell_type": "markdown",
   "metadata": {
    "cell_style": "center",
    "slideshow": {
     "slide_type": "subslide"
    }
   },
   "source": [
    "### Why Python?\n",
    "\n",
    "- open source, commonly available and commonly used\n",
    "- 'executable pseudocode' (easy to read) and excellent for rapid development\n",
    "- great libraries for both science and general purpose computing\n",
    "- excellent quality management tools\n",
    "- pacakge management, version control"
   ]
  },
  {
   "cell_type": "markdown",
   "metadata": {
    "slideshow": {
     "slide_type": "-"
    }
   },
   "source": [
    "*`BondGraphTools` is developed with sustainable development practices.*"
   ]
  },
  {
   "cell_type": "markdown",
   "metadata": {
    "slideshow": {
     "slide_type": "subslide"
    }
   },
   "source": [
    "##  `BondGraphTools` now and in the future."
   ]
  },
  {
   "cell_type": "markdown",
   "metadata": {
    "cell_style": "split",
    "slideshow": {
     "slide_type": "-"
    }
   },
   "source": [
    "#### Current Version\n",
    "\n",
    "Version 0.3.6 (on PyPI) is being used by in the Systems Biology Lab:\n",
    "- Prof. Peter Gawrthop (mitochondrial electron transport).\n",
    "- Michael Pan (ionic homeostasis).\n",
    "- Myself (coupled oscillators, synthetic biology)"
   ]
  },
  {
   "cell_type": "markdown",
   "metadata": {
    "cell_style": "split"
   },
   "source": [
    "#### Features Already Implemented\n",
    "- Component libraries, (mechotronic and biochem)\n",
    "- Numerical simulations,\n",
    "- Control variables,\n",
    "- Stiochiometric analysis"
   ]
  },
  {
   "cell_type": "markdown",
   "metadata": {
    "slideshow": {
     "slide_type": "fragment"
    }
   },
   "source": [
    "The big challenge: _scaling up_!"
   ]
  },
  {
   "cell_type": "markdown",
   "metadata": {
    "slideshow": {
     "slide_type": "subslide"
    }
   },
   "source": [
    "# Thanks for Listening!\n",
    "Thanks to:\n",
    "- Prof. Edmund Crampin Prof. Peter Gawthrop, Michael Pan & The Systems Biology Lab. \n",
    "- The University of Melbourne \n",
    "- The ARC Center of Excellence for Convergent Bio-Nano Science.\n",
    "- ANZIAM Organisers and sessions chairs, and Victoria University."
   ]
  },
  {
   "cell_type": "markdown",
   "metadata": {
    "slideshow": {
     "slide_type": "fragment"
    }
   },
   "source": [
    "Please check out `BondGraphTools` \n",
    "- documentation at [bondgraphtools.readthedocs.io](http://bondgraphtools.readthedocs.io)\n",
    "- source at [https://github.com/BondGraphTools](https://github.com/BondGraphTools)"
   ]
  },
  {
   "cell_type": "code",
   "execution_count": 48,
   "metadata": {},
   "outputs": [],
   "source": []
  },
  {
   "cell_type": "code",
   "execution_count": null,
   "metadata": {},
   "outputs": [],
   "source": []
  }
 ],
 "metadata": {
  "celltoolbar": "Slideshow",
  "kernelspec": {
   "display_name": "Python 3",
   "language": "python",
   "name": "python3"
  },
  "language_info": {
   "codemirror_mode": {
    "name": "ipython",
    "version": 3
   },
   "file_extension": ".py",
   "mimetype": "text/x-python",
   "name": "python",
   "nbconvert_exporter": "python",
   "pygments_lexer": "ipython3",
   "version": "3.7.2"
  }
 },
 "nbformat": 4,
 "nbformat_minor": 2
}
