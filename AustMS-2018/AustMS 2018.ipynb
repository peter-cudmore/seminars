{
 "cells": [
  {
   "cell_type": "code",
   "execution_count": 1,
   "metadata": {
    "cell_style": "center",
    "slideshow": {
     "slide_type": "skip"
    }
   },
   "outputs": [
    {
     "data": {
      "text/plain": [
       "<julia.core.Julia at 0x11151bbe0>"
      ]
     },
     "execution_count": 1,
     "metadata": {},
     "output_type": "execute_result"
    }
   ],
   "source": [
    "# Preload matplotlib, julia and sympy\n",
    "import matplotlib.pyplot as plt\n",
    "import numpy\n",
    "import sympy\n",
    "from BondGraphTools.config import config\n",
    "sympy.init_printing()\n",
    "%matplotlib inline\n",
    "config.julia # This preloads julia."
   ]
  },
  {
   "cell_type": "markdown",
   "metadata": {
    "cell_style": "center",
    "slideshow": {
     "slide_type": "slide"
    }
   },
   "source": [
    "# _Systems all the way down_\n",
    "## Managing Complexity with BondGraphTools\n",
    "\n",
    "&nbsp;\n",
    "\n",
    "&nbsp;\n",
    "\n",
    "&nbsp;&nbsp;&nbsp;&nbsp; Dr. Peter Cudmore.  \n",
    "&nbsp;&nbsp;&nbsp;&nbsp; Systems Biology Labratory,   \n",
    "&nbsp;&nbsp;&nbsp;&nbsp; The School of Chemical and Biomedical Engineering,  \n",
    "&nbsp;&nbsp;&nbsp;&nbsp; The University of Melbourne.  "
   ]
  },
  {
   "cell_type": "markdown",
   "metadata": {
    "slideshow": {
     "slide_type": "skip"
    }
   },
   "source": [
    "Abstract\n",
    "----------\n",
    "\n",
    "Many problems in biology, ecology and engineering involve predicting and controlling complex systems, loosely defined as interconnected system-of-systems. Such systems can exhibit a variety of interesting non-equilibrium features such as emergence, phase transitions and other multi-scale phenomenon which result from mutual interactions between subsystems.\n",
    "\n",
    "Constructing and analysing models of complex systems is often a non-trivial task due to the high dimensionality, heterogeneity and nonlinearity of the system in question. Mathematicians and scientists alike need tools, computational tools in particular, to manage the complexity of their dynamical systems models.\n",
    "\n",
    "In this talk we introduce `BondGraphTools` a systems modelling framework, and discuss how to model and simulate complex physical systems without making the models unwieldy, breaking the laws of physics, or doing any of the tedious stuff by hand."
   ]
  },
  {
   "cell_type": "markdown",
   "metadata": {
    "slideshow": {
     "slide_type": "notes"
    }
   },
   "source": [
    "## Outline of talk\n",
    "\n",
    "* Prediction and control of complex systems necessary.\n",
    "* For heterogenous systems specifity is required and scale is a problem.\n",
    "* The initial problem is how to capture and represent these systems.\n",
    "* The solution is `BondGraphTools` which \n",
    "\n",
    "    a) bases our model on physical principals (extension of portHamiltonians)\n",
    "    \n",
    "    b) use modelling paradigms build on multi-scale abstraction (object oriented programming)\n",
    "    \n",
    "    c) implement our solution in a sustainable framework (python/julia) \n",
    "\n",
    "\n",
    "\n",
    "## Table of Contents\n",
    "\n",
    "1. Introduciton\n",
    "2. Hamiltonian, portHamiltonians and Energetic Systems\n",
    "3. BondGraphTools"
   ]
  },
  {
   "cell_type": "markdown",
   "metadata": {
    "slideshow": {
     "slide_type": "skip"
    }
   },
   "source": [
    "# Section 1: Introduction"
   ]
  },
  {
   "cell_type": "markdown",
   "metadata": {
    "cell_style": "center",
    "slideshow": {
     "slide_type": "subslide"
    }
   },
   "source": [
    "<center> <img src=\"images/map.png\"> </center>"
   ]
  },
  {
   "cell_type": "markdown",
   "metadata": {
    "slideshow": {
     "slide_type": "notes"
    }
   },
   "source": [
    "Metabolism\n",
    "--------------\n",
    "* Intel 8086 cpu has 29,000 transistors. (wiki)\n",
    "* Current Metabolites w/Proteins (Enzymes and Transporters) of 23,478 see [2]\n",
    "* *At least* as difficult as reverse engineering a microprocessor.\n",
    "* 'phase transitions' i,e; disease->healthy.\n",
    "* Secondary effects of intervention.\n",
    "\n",
    "Systen features: network toplogy, dynamics, nonlinear, feed-back/forward loops."
   ]
  },
  {
   "cell_type": "markdown",
   "metadata": {
    "slideshow": {
     "slide_type": "skip"
    }
   },
   "source": [
    "Metabolism is the power source of the cell and is responsible for turning raw materials, such glucose, into resources for other cellular action. Metabolism engineering is already a staple in synthetic biology but there are great difficulties translating results obtained from flux-balance analysis (FBA), which are suitable in stritcly controlled lab environments, to real-world situations where steady-state and optimal growth assumptions are clearly invalid.\n",
    "Understanding how metabolism works in of great interest for cancer theraputics, since a reprogrammed metabolism is a 'hallmark of cancer mutations'. \n",
    "\n",
    "Metabolic maps are a repsentation of a _network_ in that each node represents a metabolite, and each edge usually represent a protien that cataylses the reaction from one metabolite to another. When spatial effects are ignored, the reactions are often described by nonlinear differential equations. Clearly observable are instances of cycles, feedback  and feed-forward loops.\n",
    "\n",
    "Modern metabolohmics [2] puts the number of metabolics with associated protiens in tens-of-thousands each corresponding to a dynamic process. As a point of refernce, the 8086 cpu, an early precursor to the modern digital computer and the beginning of very-large scale integration (VLSI) fabrication for integrated circtuis, had approximately 30,000 transistor. The implication is that reverse engineering metabolic network (let alone any of the other celluar processes) is _at least_ as difficult as reverse engineering early cpus.\n",
    "\n",
    "Essential, one wishes to understand non-equilibrium states of a metabolic system which can be understood traditional problems in non-autonomous nonlinear dynamics; finding critical manifolds and making parameter (and forcing) dependanices clear, so as to predicable be able to control the dynamics of the system. For example to optimise metabolic throughput, to identify protiens required to move the metabolism from a 'diseased' dynamic state to a 'health' state, or to predict the systemic outcome of pharmaceutical interventions.\n",
    "\n",
    "It is obvious then that one great challenge for a systems-level description of metabolism comes from the _scale_ of the problem. One can think of this as a question of 'emergence', how macro-scale phenomonom depend on the network configuration parameters. \n",
    "\n",
    "A separate great challenge is the question of how to mathematically manipulate large hetereogenous systems and how to navigate between the different levels of abstraction; from statistical, to simplified, to sucessively detailed. \n",
    "That is, how does one handle a system of systems. "
   ]
  },
  {
   "cell_type": "markdown",
   "metadata": {
    "slideshow": {
     "slide_type": "subslide"
    }
   },
   "source": [
    "<table width=100% style=\"text-align:center\">\n",
    "    <tr style=\"background-color:#FFFFFF\">\n",
    "        <td>\n",
    "            <h3>\n",
    "                <center>Smart Grids</center></h3>\n",
    "        </td>\n",
    "        <td><h3><center>Techno-Ecological processes</center></h3>\n",
    "        </td>\n",
    "    </tr>\n",
    "    <tr  style=\"background-color:#FFFFFF;\">\n",
    "        <td><img src=\"images/SmartGrid-graphic.jpg\" width=90% align=\"left\"> </td>\n",
    "        <td><img src=\"images/TESnetwork.jpg\" width=90% align=\"right\"></td>\n",
    "    </tr>\n",
    "</table>"
   ]
  },
  {
   "cell_type": "markdown",
   "metadata": {
    "slideshow": {
     "slide_type": "notes"
    }
   },
   "source": [
    "Smart Grids\n",
    "-------------\n",
    "\n",
    "* Confliting issues: energy->well being (See [5,6]) esp. education, mortality, poverty, etc. \n",
    "* carbon emissions->climate change.\n",
    "* Smart grids integrate new renewables with 'base-line' power supply.\n",
    "* Many sources, storage, and sinks; need for automatic control and stabilisation.\n",
    "\n",
    "\n",
    "Features: multiple-time scale, correlated noise, feedback, very heterogenous.\n",
    "\n",
    "Process Engineering\n",
    "---------\n",
    "* Cooperatively coupling processes for 'techno-ecological synergies'.\n",
    "* Sustainable, economical and efficient.\n",
    "* Ecosystems many moving parts. Need to know how to engineer and optimise."
   ]
  },
  {
   "cell_type": "markdown",
   "metadata": {
    "slideshow": {
     "slide_type": "skip"
    }
   },
   "source": [
    "Managing the impact of anthropogenic climate change appears to be one of the biggest challenges facing humanity over the coming decade, and is further complicated by the mounting evidence that cheap, readily available electricity is highly correlated with many measures of human well being [5,6] particularly access to education, poverity and mortality as well as seemingly unrelated metrics like levels of gender equality and personal freedom.\n",
    "\n",
    "There has been considerable interest in augmenting base-line power supply (which makes up the bulk of Co2 production), with decentralised renewable technologies and mass storage so as to reduce the carbon footprint of national powergrids [3]. Balancing energy security with carbon foorprint then becomes a prediction and control problem involving the system dynamics of a noisy, heteroenous network of energy sources, storage and sinks; systems in their own right.\n",
    "\n",
    "There are many other examples of large, networked dynamical systems we would like to understand including but not limited to; ecosystems, markets, public infrastrucure and large scale industrial/engineering processes. Understanding how these systems work, and most importantly, how to pair parameter changes with qualitative behaviour is an active area of reseach in applied dynamical systems and interdisciplinary science."
   ]
  },
  {
   "cell_type": "markdown",
   "metadata": {
    "slideshow": {
     "slide_type": "subslide"
    }
   },
   "source": [
    "*We want to predict and control energetic systems-of-systems*\n",
    "-------\n",
    "\n",
    "For our purposes a dynamic system is *system-of-systems* when:\n",
    "\n",
    "* It is made up of many moving parts, or subsystems (High-dimensional).\n",
    "* The subsystems are not all of the same type (Heterogenenous).\n",
    "* The subsystems are complicated (Nonlinear and/or Noisy).\n",
    "* There are well defined boundaries between the subsystems (Network Topology)."
   ]
  },
  {
   "cell_type": "markdown",
   "metadata": {},
   "source": [
    "By *energetic system*, we mean that *energy* is the quantity that is exchanged between subsystems.\n",
    "\n",
    "> There is a fact, or if you wish, a law, governing all natural phenomena that are known to date. There is no known exception to this law—it is exact so far as we know. The law is called the conservation of energy. \n",
    "\n",
    "\\- R. Feynman, 1963. http://www.feynmanlectures.caltech.edu/I_04.html"
   ]
  },
  {
   "cell_type": "markdown",
   "metadata": {
    "slideshow": {
     "slide_type": "notes"
    }
   },
   "source": [
    "Hetereogeneity and High Dimension means it is often difficult to apply statistical techniques.\n",
    "\n",
    "Necessary for\n",
    "\n",
    "* engineering biological systems,\n",
    "* ensuring energy security in a changing climate,\n",
    "* managing macroeconomics and organisation behaviour,\n",
    "* large scale industrial design and construction."
   ]
  },
  {
   "cell_type": "markdown",
   "metadata": {
    "slideshow": {
     "slide_type": "skip"
    }
   },
   "source": [
    "For our purposes, an example of a system-of-systems that is not _complex_ is a coupled oscillator system.\n",
    "Whist a coupled oscillator system is indeed nonlinear and high dimensional, and often networked and/or noisy they are however usually only weakly hetereogenous. Coupled oscillator systems can nonethelesss produce interesting and relavent behaviour.\n",
    "\n",
    "Without the heterogeneity condition, one might be able to at least formulate how to navigate between mechanism and system level statistics. Actually doing this is often not even slightly trivial, and is of great interest to mathematicians in the nonlinear sciences.\n",
    "\n",
    "With the heterogeneity condition there are not yet clear ways to simplify the relationship between mechanisms and macroscopic statistics."
   ]
  },
  {
   "cell_type": "markdown",
   "metadata": {
    "slideshow": {
     "slide_type": "subslide"
    }
   },
   "source": [
    "*We want to predict and control complex energetic systems*\n",
    "-------\n",
    "\n",
    "For a _particular_ system-of-systems we want to:\n",
    "* Talk about qualitative properties such as existence, stability and bifucations of macroscopic phenomena.\n",
    "* Estimate parameters and states from limited, noisy datasets so as to make predictions. \n",
    "* Design, evaluate and optimise control schemes."
   ]
  },
  {
   "cell_type": "markdown",
   "metadata": {
    "slideshow": {
     "slide_type": "fragment"
    }
   },
   "source": [
    "In the case of large systems-of-systems we need: \n",
    "* _Representations_ of networked dynamical systems that are manageable.\n",
    "* _Automation tools_ for system capture, simplification and analysis."
   ]
  },
  {
   "cell_type": "markdown",
   "metadata": {
    "slideshow": {
     "slide_type": "skip"
    }
   },
   "source": [
    "The essential question in complex system science is: _given a complex system, how can we identify the system topology, describe the subsystem dynamics, and control the emergent phenomonom._\n",
    "\n",
    "For complex heteroenous systems, the first big problem one must contend with is _how to represent them_. For example, if a system has 1000 components, we would prefer not to have to write 1000 equations out. \n",
    "\n",
    "In other words, we need some way to bundle together funcionally related, or _encapsulate_ subsystems. Since we're talking about systems-of-systems, we clearly must also have _composition_ (has-a relationships) and _inheritance_ (is-a relationships).\n",
    "\n",
    "Due to the scope and scale of the problems, we don't want to be doing this by hand!"
   ]
  },
  {
   "cell_type": "markdown",
   "metadata": {
    "slideshow": {
     "slide_type": "subslide"
    }
   },
   "source": [
    "## Existing Approaches to Energetic Modelling\n",
    "\n",
    "Existing approaches seek to integrate port based approaches with classical mechanics, which are often solved in either specialised toolkits inside mathematical software suites, or inside computer aided design (CAD) software."
   ]
  },
  {
   "cell_type": "markdown",
   "metadata": {
    "cell_style": "split",
    "slideshow": {
     "slide_type": "-"
    }
   },
   "source": [
    "Energetic system representations include:\n",
    "- Ad-hoc modelling.\n",
    "- Bond Graphs.\n",
    "- Port Hamiltonians."
   ]
  },
  {
   "cell_type": "markdown",
   "metadata": {
    "cell_style": "split",
    "slideshow": {
     "slide_type": "-"
    }
   },
   "source": [
    "Implementations include:\n",
    "- Simulink(MATLAB)\n",
    "- SystemsModeller (Mathematica)\n",
    "- MapleSim (Maple)\n",
    "- Dymola, 20-sim, openModelica, MTT"
   ]
  },
  {
   "cell_type": "markdown",
   "metadata": {
    "slideshow": {
     "slide_type": "skip"
    }
   },
   "source": [
    "Issues:\n",
    "- pH enforce a particular structure to the model equations; that may not match observations\n",
    "- Bond Graphs, which can be thought of a generalisation of 2-port passive circutis, have some features that preclude some desired properties; 'the nodes care about the orientation of the edges'.\n",
    "- Maths software lack the features of a GP programming language.\n",
    "- Closed source/CAD software lack the ability to integrate with other software; 'they do too much'."
   ]
  },
  {
   "cell_type": "markdown",
   "metadata": {
    "cell_style": "split",
    "slideshow": {
     "slide_type": "subslide"
    }
   },
   "source": [
    "## A solution (representation)\n",
    "\n",
    "### 'Energetic Systems' as OOP\n",
    "\n",
    "Object Oriented Programming (OOP) is a software development paradigm that seeks to manage large, complicated projects by breaking problems into _data_ plus _methods_ that act on the data. \n",
    "\n",
    "Three big ideas in OOP are:\n",
    "1. _Inheritance_ or is-a relationships. \n",
    "2. _Composition_ or has-a relationships.\n",
    "3. _Encapsulation_ or infomation hiding.\n",
    "\n",
    "\n",
    "This allows for _hierarchical_ and _modular_ design which reduces model complexity."
   ]
  },
  {
   "cell_type": "markdown",
   "metadata": {
    "cell_style": "split",
    "slideshow": {
     "slide_type": "fragment"
    }
   },
   "source": [
    "## A solution (automation)\n",
    "\n",
    "### Sustainable Software via `BondGraphTools`\n",
    "\n",
    "Sustainable software is:\n",
    "- Open source\n",
    "- Easy to install and use.\n",
    "- In a common language with standard dependencies.\n",
    "- Well documented.\n",
    "- Iteratively developed \n",
    "- Limited in scope.\n",
    "- Continuously tested.\n",
    "- Version controlled."
   ]
  },
  {
   "cell_type": "markdown",
   "metadata": {
    "slideshow": {
     "slide_type": "skip"
    }
   },
   "source": []
  },
  {
   "cell_type": "markdown",
   "metadata": {
    "slideshow": {
     "slide_type": "slide"
    }
   },
   "source": [
    "&nbsp;  \n",
    "\n",
    "&nbsp;  \n",
    "\n",
    "&nbsp;  \n",
    "\n",
    "\n",
    "# Object Oriented Modelling for Dynamical Systems \n",
    "\n",
    "&nbsp;\n",
    "\n",
    "Inheritance, Composition and Encapsulation"
   ]
  },
  {
   "cell_type": "markdown",
   "metadata": {
    "slideshow": {
     "slide_type": "skip"
    }
   },
   "source": []
  },
  {
   "cell_type": "markdown",
   "metadata": {
    "cell_style": "split",
    "slideshow": {
     "slide_type": "subslide"
    }
   },
   "source": [
    "## Inheritance\n",
    "\n",
    "&nbsp;\n",
    "\n",
    "For networked dynamic systems, _inheritance_ means we have:\n",
    "- conditions on the dynamical sub-systems.\n",
    "- a description of the interface between nodes.\n"
   ]
  },
  {
   "cell_type": "markdown",
   "metadata": {
    "cell_style": "split",
    "slideshow": {
     "slide_type": "-"
    }
   },
   "source": [
    "![Inheritance](images/inheritance.svg)"
   ]
  },
  {
   "cell_type": "markdown",
   "metadata": {
    "slideshow": {
     "slide_type": "skip"
    }
   },
   "source": []
  },
  {
   "cell_type": "markdown",
   "metadata": {
    "cell_style": "split",
    "slideshow": {
     "slide_type": "subslide"
    }
   },
   "source": [
    "### Definition (Energetic System)\n",
    "\n",
    "An energetic system is a tuple $(M, \\mathcal{D}, U,\\Phi)$\n",
    "where the\n",
    "* *state space* $M$ is a manifold of $\\dim(M) = m\\ge 0$\n",
    "* *port space* $\\mathcal{D} \\subset \\mathcal{F} \\times \\mathcal{E}$ where, $\\mathcal{E} = \\mathcal{F}^*$ and $ \\dim{\\mathcal{D}} = \\mathcal{F}|_\\mathcal{D} =n$. \n",
    "* *control space* $U \\subset C^r:\\mathbb{R}_+ \\rightarrow \\mathbb{R^k}$ with $k\\ge 0$ \n",
    "* *constitutive relation* is a smooth map $\\Phi: TM \\times \\mathcal{D} \\times U\\times\\mathbb{R}_+ \\rightarrow\n",
    "  \\mathbb{R}^{m+n}$  \n",
    "    such that\n",
    "  $$\\Phi\\left(\\frac{dx}{dt},x,f,e,u,t\\right)=0.$$\n",
    "\n",
    "$\\Phi$ relates the _internal state_ $M$ and the _external environment_ (via $\\mathcal{D}$).  \n",
    "\n"
   ]
  },
  {
   "cell_type": "markdown",
   "metadata": {
    "cell_style": "split",
    "slideshow": {
     "slide_type": "-"
    }
   },
   "source": [
    "&nbsp;\n",
    "\n",
    "\n",
    "&nbsp;\n",
    "\n",
    "![Energetic System](images/EnergeticSystems.svg)\n",
    "\n",
    "\n",
    "&nbsp;\n",
    "\n",
    "&nbsp;\n",
    "\n",
    "The incoming *power* is $P_\\text{in} = \\left<e,f\\right>$ for $(f,e)\\in \\mathcal{D}$"
   ]
  },
  {
   "cell_type": "markdown",
   "metadata": {
    "slideshow": {
     "slide_type": "notes"
    }
   },
   "source": [
    "* Energetic system is a 'Dynamic System' in the traditional sense if  e,f are empty. CR is a evolution rule\n",
    "* generalisation of Port-Hamiltonians, which itself is a generalisation of 'Bond Graph' modelling, see [8].\n",
    "* state space -> local co-oridnates of a system.\n",
    "* port space -> effort amnd flow, much like voltage/current, force/velocity analogies.\n",
    "* control space differentiability depends on 'index' of DAE\n",
    "* CR is a relationship between the diff'able manifold and power variables\n",
    "* CR in a sense defines a component\n"
   ]
  },
  {
   "cell_type": "markdown",
   "metadata": {
    "cell_style": "split",
    "slideshow": {
     "slide_type": "subslide"
    }
   },
   "source": [
    "## Inheritance\n",
    "\n",
    "For energetic systems-of-systems:\n",
    "\n",
    "### Nodes are particular _energetic systems_ \n",
    "Each node is described by a set of differential-algebraic equations $\\Phi(\\dot{x},x,e,f) = 0$.\n",
    "\n",
    "### Edges are constraints on port variables.\n",
    "\n",
    "An edge represents how state is shared between systems."
   ]
  },
  {
   "cell_type": "markdown",
   "metadata": {
    "cell_style": "split",
    "slideshow": {
     "slide_type": "-"
    }
   },
   "source": [
    "![Inheritance](images/inheritance.svg)"
   ]
  },
  {
   "cell_type": "markdown",
   "metadata": {
    "slideshow": {
     "slide_type": "skip"
    }
   },
   "source": [
    "Talk about examples."
   ]
  },
  {
   "cell_type": "markdown",
   "metadata": {
    "cell_style": "split",
    "slideshow": {
     "slide_type": "subslide"
    }
   },
   "source": [
    "## Composition\n",
    "\n",
    "&nbsp;\n",
    "\n",
    "For networked dynamic systems _composition_ means that we can replace nodes with subgraphs and vice-versa."
   ]
  },
  {
   "cell_type": "markdown",
   "metadata": {
    "cell_style": "split",
    "slideshow": {
     "slide_type": "-"
    }
   },
   "source": [
    "![Composition](images/composition.svg)"
   ]
  },
  {
   "cell_type": "markdown",
   "metadata": {
    "slideshow": {
     "slide_type": "skip"
    }
   },
   "source": []
  },
  {
   "cell_type": "markdown",
   "metadata": {
    "cell_style": "split",
    "slideshow": {
     "slide_type": "subslide"
    }
   },
   "source": [
    "## Corollary (Composition)\n",
    "If $\\Psi_1 = (M_1, \\mathcal{D}_1, U_1,\\Phi_1)$ and $\\Psi_2 = (M_2, \\mathcal{D}_2, U_2,\\Phi_2)$  are energetic systems, then \n",
    "\n",
    "$$\\begin{eqnarray}\\Psi_0 &=& \\Psi_1 \\oplus\\Psi_2\\\\\n",
    "&=& \n",
    "\\left(M_1\\oplus M_2,\\mathcal{D}_1 \\oplus\\mathcal{D}_2,U_1\\oplus U_2, \\Phi_1\\oplus\\Phi_2\\right)\n",
    "\\end{eqnarray}$$\n",
    "is also an energetic system.\n",
    "\n",
    "Suppose (abusing notation) $\\Psi_0 = (\\Psi_1,\\Psi_2)$ is an energetic system with ports \n",
    "\n",
    "$$(e_i, f_i) \\in \\mathcal{D}_1, \\quad (e_j,f_j)  \\in \\mathcal{D}_2$$\n",
    "\n",
    "Then $\\Phi_0$ with the additional power conserving constraint \n",
    "\n",
    "$$e_i - e_j = 0\\qquad f_i+f_j=0$$\n",
    "\n",
    "is also a energetic system."
   ]
  },
  {
   "cell_type": "markdown",
   "metadata": {
    "cell_style": "split",
    "slideshow": {
     "slide_type": "-"
    }
   },
   "source": [
    "![Composition](images/composition.svg)"
   ]
  },
  {
   "cell_type": "markdown",
   "metadata": {
    "slideshow": {
     "slide_type": "notes"
    }
   },
   "source": []
  },
  {
   "cell_type": "markdown",
   "metadata": {
    "cell_style": "split",
    "slideshow": {
     "slide_type": "subslide"
    }
   },
   "source": [
    "## Encapsulation\n",
    "\n",
    "&nbsp;\n",
    "\n",
    "For a networked dynamical system _encapsulation_ means that we can apply simplification methods to a subgraph so that the replacement system is less complicated, while representing the same behaviour.\n",
    "\n",
    "&nbsp;\n",
    "\n",
    "One can also go the other way by replacing a node with a more complicated subgraph.\n",
    "\n",
    "&nbsp;\n",
    "\n",
    "\n",
    "...hence _systems all the way down_."
   ]
  },
  {
   "cell_type": "markdown",
   "metadata": {
    "cell_style": "split",
    "slideshow": {
     "slide_type": "-"
    }
   },
   "source": [
    "![Encapsulation](images/encapsulation.svg)"
   ]
  },
  {
   "cell_type": "markdown",
   "metadata": {
    "slideshow": {
     "slide_type": "skip"
    }
   },
   "source": []
  },
  {
   "cell_type": "markdown",
   "metadata": {
    "cell_style": "split",
    "slideshow": {
     "slide_type": "subslide"
    }
   },
   "source": [
    "## Example (Duffing Oscillator)\n",
    "### Composed System\n",
    "The composition of  \n",
    "\n",
    "$$\\Phi_1^T =\\left(\\dot{x_1} - f_1,\\ e_1 - \\frac{x_1}{\\omega} - \\frac{x_1^3}{\\mu}\\right)$$  \n",
    "$$\n",
    "\\Phi_2^T =\\left(\\dot{x_2} - e_2,\\ f_2 - x_2\\right)\n",
    "$$  \n",
    "\n",
    "with the port mapping  \n",
    "\n",
    "$$e_1 - e_2 = 0 \\qquad f_1 + f_2  = 0$$  \n",
    "\n",
    "is the system is given by  \n",
    "\n",
    "$$\\Phi_0^T  = \\left(\\dot{x}_1 + x_2,\\ \\dot{x}_2 - \\frac{x_1}{\\omega} - \\frac{x_1^3}{\\mu}\\right) = 0 $$"
   ]
  },
  {
   "cell_type": "markdown",
   "metadata": {
    "cell_style": "split"
   },
   "source": [
    "![Encapsulation](images/encapsulation.svg)"
   ]
  },
  {
   "cell_type": "markdown",
   "metadata": {
    "slideshow": {
     "slide_type": "notes"
    }
   },
   "source": []
  },
  {
   "cell_type": "markdown",
   "metadata": {
    "slideshow": {
     "slide_type": "subslide"
    }
   },
   "source": [
    "## Object Oriented Modelling and Energetic Systems\n",
    "\n",
    "Energetic systems provide:\n",
    "- _Inheritance_; an abstract base representation of energetic systems.\n",
    "- _Composition_; a way to hierarchically compose systems of systems.\n",
    "- _Encapsulation_; a framework inside which simplifications can occur."
   ]
  },
  {
   "cell_type": "markdown",
   "metadata": {
    "slideshow": {
     "slide_type": "slide"
    }
   },
   "source": [
    "&nbsp;  \n",
    "\n",
    "&nbsp;  \n",
    "\n",
    "&nbsp;  \n",
    "\n",
    "#  Introducing `BondGraphTools`"
   ]
  },
  {
   "cell_type": "markdown",
   "metadata": {
    "slideshow": {
     "slide_type": "subslide"
    }
   },
   "source": [
    "## `BondGraphTools` a `python` library for energetic systems.\n",
    "\n",
    "`BondGraphTools` (https://github.com/BondGraphTools) a framework for modelling energetic systems.\n",
    "* Based upon an extension of bond graph and port-Hamiltonian modelling.\n",
    "* Provies a simple, *minimal* object-oriented interface for constructing, composing and simulating models.\n",
    "* Implemented in `python` and uses the standard `scipy` stack.\n",
    "* Computational 'grunt' is provided via `julia` and `DifferentialEquations.jl`.\n",
    "* Developed with sustainable software practices.\n",
    "* Intended to be used in _conjunction_ with other tools.\n",
    "\n",
    "'Bond Graphs' are a multi-domain port-based graphical modelling technique used predominantly in mechatronics.  \n",
    "Port-Hamiltonian systems integrate geometric approaches from classical mechanics and control theory with port based modelling.  "
   ]
  },
  {
   "cell_type": "markdown",
   "metadata": {
    "slideshow": {
     "slide_type": "notes"
    }
   },
   "source": []
  },
  {
   "cell_type": "markdown",
   "metadata": {
    "cell_style": "split",
    "slideshow": {
     "slide_type": "subslide"
    }
   },
   "source": [
    "## Example (Duffing Oscillator)\n",
    "\n",
    "The Duffing oscillator consists of the conservation of force between kinetic energy and a nonlinear potential.\n",
    "\n",
    "&nbsp;\n",
    "\n",
    "![Heirarchical System](images/ComplexEnergeticSystem.svg)"
   ]
  },
  {
   "cell_type": "code",
   "execution_count": 2,
   "metadata": {
    "cell_style": "split",
    "slideshow": {
     "slide_type": "-"
    }
   },
   "outputs": [
    {
     "data": {
      "image/png": "[encoded data removed]",
      "text/latex": [
       "$$\\left [ dx_{0} - u_{0} + x_{1}, \\quad dx_{1} - x_{0}^{3} - x_{0}\\right ]$$"
      ],
      "text/plain": [
       "⎡                       3     ⎤\n",
       "⎣dx₀ - u₀ + x₁, dx₁ - x₀  - x₀⎦"
      ]
     },
     "execution_count": 2,
     "metadata": {},
     "output_type": "execute_result"
    }
   ],
   "source": [
    "# Import Tools\n",
    "from BondGraphTools import new, add, connect\n",
    "\n",
    "# Nonlinear Potential Energy\n",
    "phi_1 = new(\"PH\",  value=\"x^2/2 +x^4/4\")\n",
    "\n",
    "# Linear Kinetic Energy\n",
    "phi_2 = new(\"I\", value=1) \n",
    "\n",
    "# Conservation Law\n",
    "phi_3 = new(\"0\") \n",
    "\n",
    "# Control Source\n",
    "source = new(\"Sf\") \n",
    "\n",
    "# Composed system\n",
    "phi_0 = new(name=\"Duffing Model\")\n",
    "add(phi_0, phi_1, phi_2, phi_3, source) \n",
    "\n",
    "# Constraints\n",
    "connect(source, phi_3)\n",
    "connect(phi_3, phi_2)\n",
    "connect(phi_3, phi_1)\n",
    "\n",
    "phi_0.constitutive_relations"
   ]
  },
  {
   "cell_type": "markdown",
   "metadata": {
    "slideshow": {
     "slide_type": "skip"
    }
   },
   "source": []
  },
  {
   "cell_type": "markdown",
   "metadata": {
    "cell_style": "split",
    "slideshow": {
     "slide_type": "subslide"
    }
   },
   "source": [
    "## Example (Duffing Osc)\n",
    "\n",
    "Numerical solvers respect constraints!\n",
    "\n",
    "![Heirarchical System](images/ComplexEnergeticSystem.svg)\n"
   ]
  },
  {
   "cell_type": "code",
   "execution_count": 3,
   "metadata": {
    "cell_style": "split",
    "slideshow": {
     "slide_type": "-"
    }
   },
   "outputs": [
    {
     "data": {
      "image/png": "[encoded data removed]",
      "text/plain": [
       "<Figure size 432x288 with 1 Axes>"
      ]
     },
     "metadata": {},
     "output_type": "display_data"
    }
   ],
   "source": [
    "from BondGraphTools import simulate\n",
    "from matplotlib.pyplot import plot\n",
    "\n",
    "u = \"0.3*sin(0.6*t)\"\n",
    "t,x = simulate(phi_0, \n",
    "               x0=[0, 1], \n",
    "               timespan=[0,100], \n",
    "               control_vars=[u])\n",
    "\n",
    "_ =  plot(x[40:,0], x[40:,1]) "
   ]
  },
  {
   "cell_type": "markdown",
   "metadata": {
    "slideshow": {
     "slide_type": "skip"
    }
   },
   "source": []
  },
  {
   "cell_type": "markdown",
   "metadata": {
    "cell_style": "split",
    "slideshow": {
     "slide_type": "subslide"
    }
   },
   "source": [
    "## Automation\n",
    "\n",
    "If you can build one, you can build many!\n",
    "\n",
    "By wrapping the Duffing example inside a method, defining a port, and returning the resulting system-of-systems, one can implement a _factory_ method, that creates new Duffing oscillators. \n",
    "\n",
    "![Heirarchical System](images/ComplexEnergeticSystem.svg)"
   ]
  },
  {
   "cell_type": "code",
   "execution_count": null,
   "metadata": {
    "cell_style": "split"
   },
   "outputs": [],
   "source": [
    "from BondGraphTools import expose\n",
    "\n",
    "def duffing_factory(name=\"Duffing Osc\", freq=1):\n",
    "    \"\"\"Makes Duffing Oscillators!\"\"\"\n",
    "\n",
    "    potential = \"x^2/(2*{w}) + 0.00025*x^4\".format(w=1/freq)\n",
    "\n",
    "    phi_1 = new(\"PH\", value=potential)\n",
    "    phi_2 = new(\"I\", value=1) \n",
    "    phi_3 = new(\"1\") \n",
    "    phi_4 = new(\"R\", value=0.001)\n",
    "    port = new(\"SS\")\n",
    "\n",
    "    phi_0 = new(name=name)\n",
    "    add(phi_0, phi_1, phi_2, phi_3, phi_4, port) \n",
    "    connect(port, phi_3)\n",
    "    connect(phi_3, phi_4)\n",
    "    connect(phi_3, phi_2)\n",
    "    connect(phi_3, phi_1)\n",
    "    expose(port)\n",
    "\n",
    "    return phi_0\n",
    "\n",
    "model = duffing_factory()\n",
    "model.constitutive_relations"
   ]
  },
  {
   "cell_type": "markdown",
   "metadata": {
    "slideshow": {
     "slide_type": "notes"
    }
   },
   "source": []
  },
  {
   "cell_type": "markdown",
   "metadata": {
    "cell_style": "center",
    "slideshow": {
     "slide_type": "subslide"
    }
   },
   "source": [
    "## Batteries Included!\n",
    "\n",
    "`BondGraphTools` is built on the scientific python ecosystem."
   ]
  },
  {
   "cell_type": "code",
   "execution_count": null,
   "metadata": {
    "cell_style": "split",
    "slideshow": {
     "slide_type": "-"
    }
   },
   "outputs": [],
   "source": [
    "import sympy \n",
    "oscillator_array = new(name=\"All-to-all Duffing\")\n",
    "\n",
    "junction_law = new(\"0\")\n",
    "common_field = new(\"C\", value=sympy.S('K'))\n",
    "\n",
    "add(oscillator_array, common_field, junction_law)\n",
    "connect(common_field, junction_law)\n",
    "\n",
    "frequencies = [1/2,1/3,1/4,1/5,1/6]\n",
    "\n",
    "for i, freq in enumerate(frequencies):    \n",
    "    # Create a new oscillator\n",
    "    osc_i = duffing_factory(f\"Osc{i}\", freq=freq)\n",
    "\n",
    "    # Add it to the array\n",
    "    add(oscillator_array, osc_i)\n",
    "    \n",
    "    # Connect it to the junciton law\n",
    "    connect(junction_law, osc_i)"
   ]
  },
  {
   "cell_type": "code",
   "execution_count": null,
   "metadata": {
    "cell_style": "split",
    "slideshow": {
     "slide_type": "-"
    }
   },
   "outputs": [],
   "source": [
    "eqns = oscillator_array.constitutive_relations\n",
    "for eqn in eqns:\n",
    "    print(sympy.latex(eqn))"
   ]
  },
  {
   "cell_type": "markdown",
   "metadata": {
    "slideshow": {
     "slide_type": "subslide"
    }
   },
   "source": [
    "## Example (Exploring Synch in Duffing Arrays)\n"
   ]
  },
  {
   "cell_type": "code",
   "execution_count": null,
   "metadata": {
    "slideshow": {
     "slide_type": "-"
    }
   },
   "outputs": [],
   "source": [
    "# Define state\n",
    "x_0 = {x:'1.0' for x in oscillator_array.state_vars}\n",
    "timespan = [0,40]"
   ]
  },
  {
   "cell_type": "code",
   "execution_count": null,
   "metadata": {
    "cell_style": "split",
    "slideshow": {
     "slide_type": "-"
    }
   },
   "outputs": [],
   "source": [
    "# Set a numerical paramter for K\n",
    "common_field.set_param(\"C\", 100)\n",
    "\n",
    "t, x = simulate(oscillator_array, \n",
    "                x0=x_0, timespan=timespan)\n",
    "\n",
    "fig_1 =  plot(t, x[:,1:])"
   ]
  },
  {
   "cell_type": "code",
   "execution_count": null,
   "metadata": {
    "cell_style": "split",
    "slideshow": {
     "slide_type": "-"
    }
   },
   "outputs": [],
   "source": [
    "# Change the Parameter, simulate again!\n",
    "common_field.set_param(\"C\", 10)\n",
    "\n",
    "t, x = simulate(oscillator_array,\n",
    "                x0=x_0, timespan=timespan)\n",
    "\n",
    "fig_2 =  plot(t, x[:,1:])"
   ]
  },
  {
   "cell_type": "markdown",
   "metadata": {
    "slideshow": {
     "slide_type": "slide"
    }
   },
   "source": [
    "&nbsp;\n",
    "\n",
    "&nbsp;\n",
    "\n",
    "&nbsp;\n",
    "\n",
    "\n",
    "# Conclusion"
   ]
  },
  {
   "cell_type": "markdown",
   "metadata": {
    "slideshow": {
     "slide_type": "subslide"
    }
   },
   "source": [
    "## Current State of `BondGraphTools`\n",
    "\n",
    "- Current version on PyPI is 0.3.6 https://pypi.org/project/BondGraphTools/\n",
    "- Documentation at https://bondgraphtools.readthedocs.io\n",
    "- Source at https://github.com/BondGraphTools/\n",
    "- In active use inside the Systems Biology Lab @ UniMelb\n",
    "- Can _programmatically_ build arbitrarily large models and simplify network constraints.\n",
    "\n",
    "## Plans for v0.4 and v0.5\n",
    "- Robust parameter and control value network.\n",
    "- Interface for measuring port space.\n",
    "- Algorithmic model reduction (particularly manifold reductions).\n",
    "- Bifurcation analysis (particularly fixed point tracking)."
   ]
  },
  {
   "cell_type": "markdown",
   "metadata": {
    "slideshow": {
     "slide_type": "subslide"
    }
   },
   "source": [
    "# Thanks for listening\n",
    "\n",
    "Thanks to\n",
    "- Prof. Edmund Crampin \n",
    "- The Systems Biology Lab at The University of Melbourne\n",
    "- Cecilia Gonzalez-Tokman and Robby Marangell\n",
    "- AustMS 2018 Organisers\n",
    "\n",
    "\n",
    "\n",
    "<table >\n",
    "    <tr style=\"background-color:#FFFFFF;\">\n",
    "        <td><img src=\"images/PRIMARY_A_Vertical_Housed_RGB.png\" alt=\"University of Melbourne\" width=50% align=\"center\"></td>\n",
    "        <td><img src=\"images/cbns-logo.png\" alt=\"ARC CEnter of Excellence in Convergent Bio-Nano Science and Technology\" width=100% align=\"center\"></td>\n",
    "    </tr>\n",
    "</table>"
   ]
  },
  {
   "cell_type": "markdown",
   "metadata": {
    "slideshow": {
     "slide_type": "subslide"
    }
   },
   "source": [
    "&nbsp;\n",
    "\n",
    "&nbsp;\n",
    "\n",
    "&nbsp;\n",
    "\n",
    "# Please check out `BondGraphTools`\n",
    "\n",
    "# https://github.com/BondGraphTools/"
   ]
  },
  {
   "cell_type": "markdown",
   "metadata": {
    "slideshow": {
     "slide_type": "skip"
    }
   },
   "source": [
    "References\n",
    "--------------\n",
    "[1] Human Metabolism Map https://www.vmh.life\n",
    "\n",
    "Alberto Noronha, Anna Dröfn Daníelsdóttir, Piotr Gawron, Freyr Jóhannsson, Soffía Jónsdóttir, Sindri Jarlsson, Jón Pétur Gunnarsson, Sigurður Brynjólfsson, Reinhard Schneider, Ines Thiele, Ronan M T Fleming; ReconMap: an interactive visualization of human metabolism, *Bioinformatics*, Volume 33, Issue 4, 15 February 2017, Pages 605–607, https://doi.org/10.1093/bioinformatics/btw667\n",
    "\n",
    "[2] Human Metabolome database: http://www.hmdb.ca\n",
    "\n",
    "Wishart DS, Tzur D, Knox C, et al., \n",
    "HMDB: the Human Metabolome Database. \n",
    "Nucleic Acids Res. \n",
    "2007 Jan;\n",
    "35(Database issue):D521-6. 17202168 \n",
    "\n",
    "[3] Smart Grid Map: http://smartgrid.epri.com\n",
    "Image courtesy of the Electric Power Research Institute.\n",
    "\n",
    "[4] Techno-Ecological Synergies\n",
    "\n",
    "Robert A. Urban, Bhavik R. Bakshi, Geoffrey F. Grubb, Anil Baral, William J. Mitsch,\n",
    "Towards sustainability of engineered processes: Designing self-reliant networks of technological–ecological systems,\n",
    "Computers & Chemical Engineering,\n",
    "Volume 34, Issue 9,\n",
    "2010,\n",
    "Pages 1413-1420,\n",
    "https://doi.org/10.1016/j.compchemeng.2010.02.026.\n",
    "\n",
    "[5] Jessica G. Lambert, Charles A.S. Hall, Stephen Balogh, Ajay Gupta, Michelle Arnold,\n",
    "Energy, EROI and quality of life,\n",
    "Energy Policy,\n",
    "Volume 64,\n",
    "2014,\n",
    "Pages 153-167,\n",
    "https://doi.org/10.1016/j.enpol.2013.07.001.\n",
    "\n",
    "[6] Cesar Pasten, Juan Carlos Santamarina,\n",
    "Energy and quality of life,\n",
    "Energy Policy,\n",
    "Volume 49,\n",
    "2012,\n",
    "Pages 468-476,\n",
    "https://doi.org/10.1016/j.enpol.2012.06.051.\n",
    "\n",
    "[7]\n",
    "Feynmann Lectures: http://www.feynmanlectures.caltech.edu/I_04.html\n",
    "\n",
    "[8] Port Hamiltonians and Dirac Structures\n",
    "http://www.math.rug.nl/arjan/DownloadVarious/PHbook.pdf\n",
    "\n",
    "A.J. van der Schaft, D. Jeltsema,  \n",
    "Port-Hamiltonian Systems: An Introductory Overview,  \n",
    "NOW Publishers, Boston/Dordrecht, 2014.\n",
    "\n",
    "[9] San Miguel, M., Johnson, J.H., Kertesz, J. et al. Challenges in complex systems science. Eur. Phys. J. Spec. Top. (2012) 214: 245. https://doi.org/10.1140/epjst/e2012-01694-y\n",
    "\n",
    "[10] N. N. Pavlova, C. B. Thompson, The emerging hallmarks of cancer metabolism. Cell Metab. 23, 27–47 (2016). https://doi.org/10.1016/j.cmet.2015.12.006\n",
    "\n",
    "[11] Hiroaki Yoshimura, Jerrold E. Marsden, Dirac structures in Lagrangian mechanics Part I: Implicit Lagrangian systems, Journal of Geometry and Physics, Volume 57, Issue 1, 2006, Pages 133-156.\n",
    "https://doi.org/10.1016/j.geomphys.2006.02.009.\n",
    "\n",
    "[12] M. Dalsmo and A.J. van der Schaft. A Hamiltonian Framework For Inteconnected Physical Systems"
   ]
  }
 ],
 "metadata": {
  "celltoolbar": "Slideshow",
  "kernelspec": {
   "display_name": "Python 3",
   "language": "python",
   "name": "python3"
  },
  "language_info": {
   "codemirror_mode": {
    "name": "ipython",
    "version": 3
   },
   "file_extension": ".py",
   "mimetype": "text/x-python",
   "name": "python",
   "nbconvert_exporter": "python",
   "pygments_lexer": "ipython3",
   "version": "3.7.0"
  },
  "rise": {
   "footer": "Peter Cudmore: www.github.com/peter-cudmore"
  }
 },
 "nbformat": 4,
 "nbformat_minor": 2
}
