{
 "cells": [
  {
   "cell_type": "markdown",
   "metadata": {
    "slideshow": {
     "slide_type": "-"
    }
   },
   "source": [
    "# Managing Complexity with BondGraphTools\n",
    "\n",
    "https://github.com/peter-cudmore/seminars/CellML-2019\n",
    "\n",
    "&nbsp;\n",
    "\n",
    "    Dr. Peter Cudmore.  \n",
    "    Systems Biology Labratory,   \n",
    "    The School of Chemical and Biomedical Engineering,  \n",
    "    The University of Melbourne.  "
   ]
  },
  {
   "cell_type": "code",
   "execution_count": 1,
   "metadata": {
    "slideshow": {
     "slide_type": "skip"
    }
   },
   "outputs": [],
   "source": [
    "## Make sympy print pretty text\n",
    "import sympy as sp\n",
    "sp.init_printing()\n",
    "\n",
    "# Load the examples\n",
    "from examples import *\n",
    "\n",
    "# Import the source-code inspector\n",
    "from inspect import getsourcelines\n",
    "\n",
    "# Start the julia interpreter\n",
    "from BondGraphTools.config import config\n",
    "_ = config.start_julia()\n",
    "\n",
    "# Parameters from Safaei et.al. 2018\n",
    "blood = Fluid(density=0.004, viscosity=1050)\n",
    "\n",
    "# Approximate parameters for 10cm worth of artery.\n",
    "artery = Vessel(radius=0.03, thickness=0.005, youngs_modulus=0.16e6, length=0.1)\n",
    "\n"
   ]
  },
  {
   "cell_type": "markdown",
   "metadata": {
    "slideshow": {
     "slide_type": "skip"
    }
   },
   "source": [
    "## The problem with big systems is that they're _big_..."
   ]
  },
  {
   "cell_type": "markdown",
   "metadata": {
    "slideshow": {
     "slide_type": "subslide"
    }
   },
   "source": [
    "<center> <img src=\"images/map.png\"> </center>"
   ]
  },
  {
   "cell_type": "markdown",
   "metadata": {
    "slideshow": {
     "slide_type": "skip"
    }
   },
   "source": [
    "## Complex Physical Systems \n",
    "\n",
    "A _complex physical system_ has:\n",
    "* many parts or subsystems (High-dimensional).\n",
    "* subsystems which are not all of the same (Heterogenenous).\n",
    "* subsystems which are complicated (Nonlinear and/or Noisy).\n",
    "* well defined boundaries between the subsystems (Network Topology).\n",
    "* **subsystems interact via resource exchange (Conservation Laws).**\n",
    "\n",
    "Examples include: Biochemical Networks, Ecosystems, Electrical Grids, Hydraulic networks, etc."
   ]
  },
  {
   "cell_type": "markdown",
   "metadata": {
    "slideshow": {
     "slide_type": "subslide"
    }
   },
   "source": [
    "## Some Obvious Questions"
   ]
  },
  {
   "cell_type": "markdown",
   "metadata": {
    "cell_style": "split"
   },
   "source": [
    "Human Metabolism Map @ https://www.vmh.life\n",
    "<center> <img src=\"images/map.png\" width=85%> </center>"
   ]
  },
  {
   "cell_type": "markdown",
   "metadata": {
    "cell_style": "split"
   },
   "source": [
    "1. Why?\n",
    "2. Where do we get the topology from?\n",
    "3. What are the dynamic features?\n",
    "4. How do we paramaterise them?\n",
    "5. What is a useful representation?\n",
    "6. How do we manipulate and refine our model?\n",
    "7. How should one manage complexity at scale?"
   ]
  },
  {
   "cell_type": "markdown",
   "metadata": {
    "slideshow": {
     "slide_type": "skip"
    }
   },
   "source": [
    "## Why?\n",
    "\n",
    "&nbsp;\n",
    "\n",
    "To predict, understand and control systemic phenomenon such as emergence, multiscale dynamics and long-range interactions.\n",
    "\n",
    "&nbsp;\n",
    "\n",
    "To _rationally engineer_ systems in general and biological systems in particular. "
   ]
  },
  {
   "cell_type": "markdown",
   "metadata": {
    "slideshow": {
     "slide_type": "skip"
    }
   },
   "source": [
    "##  Where do we get network data?\n",
    "\n",
    "For Systems Biology:\n",
    "- Databases (Brenda, KEGG, BIGG, SABIO-RK, reactome)\n",
    "- Model Repositories (Physiome Project, BioModels)\n",
    "- Publications (supp. materials, images, tables)\n",
    "- Collaborators.\n",
    "\n",
    "More generally: connectivity maps."
   ]
  },
  {
   "cell_type": "markdown",
   "metadata": {
    "slideshow": {
     "slide_type": "skip"
    }
   },
   "source": [
    "## A Subtle Issue: Dynamics.\n",
    "\n",
    "Recall that Complex Physical Systems have a _network topology_ of _conservative interactions_.\n",
    "\n",
    "- As edges are 'resource exchange', \n",
    "- _effort_ must be imposed to move resources from one node to another,\n",
    "- which move at some corresponding _flow_ rate.\n",
    "- Nodes must either store resources, or conservatively pass them along. \n",
    "- The exceptions are the boundary conditions such as resource sources and sinks (including dissipation)."
   ]
  },
  {
   "cell_type": "markdown",
   "metadata": {
    "slideshow": {
     "slide_type": "skip"
    }
   },
   "source": [
    "## A Major Issue: Parameterisation."
   ]
  },
  {
   "cell_type": "markdown",
   "metadata": {
    "slideshow": {
     "slide_type": "skip"
    }
   },
   "source": [
    "Ideally we would use parameters that:\n",
    "- are physically meaningful,\n",
    "- are able to be theoretically estimated,\n",
    "- can be derived from underlying physics/chemistry,\n",
    "- or that have been shown to be consistent across many experiemental conditions.\n",
    "- and hence tabulated (or able to be derived from tablated data)\n",
    "\n",
    "(but this is easier said than done)"
   ]
  },
  {
   "cell_type": "markdown",
   "metadata": {
    "slideshow": {
     "slide_type": "subslide"
    }
   },
   "source": [
    "## The Relevant Questions for Today. "
   ]
  },
  {
   "cell_type": "markdown",
   "metadata": {
    "slideshow": {
     "slide_type": "-"
    }
   },
   "source": [
    "- What is a useful representation of a complex physical system?\n",
    "- What is a good way to manipulate models?\n",
    "- How do we manage complexity and scale? "
   ]
  },
  {
   "cell_type": "markdown",
   "metadata": {
    "slideshow": {
     "slide_type": "fragment"
    }
   },
   "source": [
    "_Object Oriented Modelling via_ `BondGraphTools`."
   ]
  },
  {
   "cell_type": "markdown",
   "metadata": {
    "slideshow": {
     "slide_type": "subslide"
    }
   },
   "source": [
    "## 'Energetic Systems' as an Object Oriented Programming.\n",
    "\n",
    "Object Oriented Programming (OOP) is a software development paradigm that seeks to manage large, complicated projects by breaking problems into _data_ plus _methods_ that act on the data. \n",
    "\n",
    "Three big ideas in OOP are:\n",
    "1. _Inheritance_ or is-a relationships. \n",
    "2. _Composition_ or has-a relationships.\n",
    "3. _Encapsulation_ or infomation hiding.\n",
    "\n",
    "\n",
    "This allows for _hierarchical_ and _modular_ design which reduces model complexity."
   ]
  },
  {
   "cell_type": "code",
   "execution_count": 2,
   "metadata": {
    "scrolled": true,
    "slideshow": {
     "slide_type": "subslide"
    }
   },
   "outputs": [
    {
     "name": "stdout",
     "output_type": "stream",
     "text": [
      "Help on package BondGraphTools:\n",
      "\n",
      "NAME\n",
      "    BondGraphTools\n",
      "\n",
      "DESCRIPTION\n",
      "    BondGraphTools\n",
      "    ==============\n",
      "    BondGraphTools is a python library for symbolic modelling\n",
      "    of energetic systems.\n",
      "    \n",
      "    Package Documentation::\n",
      "    \n",
      "        https://bondgraphtools.readthedocs.io/\n",
      "    \n",
      "    Source::\n",
      "    \n",
      "        https://github.com/BondGraphTools/BondGraphTools\n",
      "    \n",
      "    Bug reports:\n",
      "    \n",
      "        https://github.com/BondGraphTools/BondGraphTools/issues\n",
      "    \n",
      "    \n",
      "    Simple Example\n",
      "    --------------\n",
      "    \n",
      "    Build and simulate a RLC driven RLC circuit::\n",
      "    \n",
      "        import BondGraphTools as bgt\n",
      "    \n",
      "        # Create a new model\n",
      "        model = bgt.new(name=\"RLC\")\n",
      "    \n",
      "        # Create components\n",
      "        # 1 Ohm Resistor\n",
      "        resistor = bgt.new(\"R\", name=\"R1\", value=1.0)\n",
      "    \n",
      "        # 1 Henry Inductor\n",
      "        inductor = bgt.new(\"L\", name=\"L1\", value=1.0)\n",
      "        # 1 Farad Capacitor\n",
      "        capacitor = bgt.new(\"C\", name=\"C1\", value=1.0)\n",
      "        # Conservation Law\n",
      "        law = bgt.new(\"0\") # Common voltage conservation law\n",
      "    \n",
      "        # Connect the components\n",
      "        connect(law, resistor)\n",
      "        connect(law, capacitor)\n",
      "        connect(law, inductor)\n",
      "    \n",
      "        # produce timeseries data\n",
      "        t, x = simulate(model, x0=[1,1], timespan=[0, 10])\n",
      "    \n",
      "    Bugs\n",
      "    ----\n",
      "    \n",
      "    Please report any bugs `here <https://github.com/BondGraphTools/BondGraphTools/issues>`_,\n",
      "    or fork the repository and submit a pull request.\n",
      "    \n",
      "    License\n",
      "    -------\n",
      "    Released under the Apache 2.0 License::\n",
      "    \n",
      "        Copyright (C) 2018\n",
      "        Peter Cudmore <peter.cudmore@uqconnect.edu.au>\n",
      "\n",
      "PACKAGE CONTENTS\n",
      "    actions\n",
      "    algebra\n",
      "    atomic\n",
      "    base\n",
      "    component_manager\n",
      "    compound\n",
      "    config\n",
      "    exceptions\n",
      "    fileio\n",
      "    port_hamiltonian\n",
      "    reaction_builder\n",
      "    sim_tools\n",
      "    version\n",
      "    view\n",
      "\n",
      "DATA\n",
      "    version = '0.3.7'\n",
      "\n",
      "FILE\n",
      "    /Users/pete/Workspace/BondGraphTools/BondGraphTools/__init__.py\n",
      "\n",
      "\n"
     ]
    }
   ],
   "source": [
    "import BondGraphTools\n",
    "help(BondGraphTools)"
   ]
  },
  {
   "cell_type": "markdown",
   "metadata": {
    "slideshow": {
     "slide_type": "subslide"
    }
   },
   "source": [
    "### Bond Graphs, Port Hamiltonians and BondGraphTools\n",
    "\n"
   ]
  },
  {
   "cell_type": "markdown",
   "metadata": {
    "slideshow": {
     "slide_type": "fragment"
    }
   },
   "source": [
    "_Bond graphs_ are a **graphical** framework for modelling energetic systems."
   ]
  },
  {
   "cell_type": "markdown",
   "metadata": {
    "slideshow": {
     "slide_type": "fragment"
    }
   },
   "source": [
    "_Port Hamiltonians_ are a **geometric** framework for modelling energetic systems."
   ]
  },
  {
   "cell_type": "markdown",
   "metadata": {
    "slideshow": {
     "slide_type": "fragment"
    }
   },
   "source": [
    "_BondGraphTools_ is a **programmatic** framework for modelling energetic systems."
   ]
  },
  {
   "cell_type": "markdown",
   "metadata": {
    "slideshow": {
     "slide_type": "subslide"
    }
   },
   "source": [
    "## Goals of this talk.\n",
    "\n",
    "In the remaining time i hope to convince you that:\n",
    "- Object oriented modelling is suited to complex physical systems.\n",
    "- `BondGraphTools` is a useful library for this purpose.\n",
    "- Incorporating scripting into your work is worthwhile.\n",
    "-  `BondGraphTools` and `libCellML`"
   ]
  },
  {
   "cell_type": "markdown",
   "metadata": {
    "slideshow": {
     "slide_type": "slide"
    }
   },
   "source": [
    "&nbsp;  \n",
    "\n",
    "&nbsp;  \n",
    "\n",
    "\n",
    "\n",
    "# Object Oriented Modelling for Energetic Systems \n",
    "\n",
    "&nbsp;\n",
    "\n",
    "Inheritance, Composition and Encapsulation"
   ]
  },
  {
   "cell_type": "markdown",
   "metadata": {
    "slideshow": {
     "slide_type": "subslide"
    }
   },
   "source": [
    "## Inheritance"
   ]
  },
  {
   "cell_type": "markdown",
   "metadata": {
    "cell_style": "split"
   },
   "source": [
    "\n",
    "\n",
    "&nbsp;\n",
    "\n",
    "For networked systems, _inheritance_ means that for each node or subsystems have:\n",
    "- conditions on the interals.\n",
    "- a description of the interface."
   ]
  },
  {
   "cell_type": "markdown",
   "metadata": {
    "cell_style": "split"
   },
   "source": [
    "![Inheritance](images/inheritance.svg)"
   ]
  },
  {
   "cell_type": "markdown",
   "metadata": {
    "slideshow": {
     "slide_type": "subslide"
    }
   },
   "source": [
    "## Inheritance"
   ]
  },
  {
   "cell_type": "markdown",
   "metadata": {
    "cell_style": "split"
   },
   "source": [
    "&nbsp;\n",
    "\n",
    "### Nodes are particular _energetic systems_ \n",
    "Each node is described by a set of differential-algebraic equations; the constitutive relations  \n",
    "\n",
    "$$\\Phi(\\dot{x},x,e,f) = 0.$$"
   ]
  },
  {
   "cell_type": "markdown",
   "metadata": {
    "cell_style": "split"
   },
   "source": [
    "![Inheritance](images/inheritance.svg)"
   ]
  },
  {
   "cell_type": "markdown",
   "metadata": {},
   "source": [
    "## Inheritance"
   ]
  },
  {
   "cell_type": "markdown",
   "metadata": {
    "cell_style": "split"
   },
   "source": [
    "\n",
    "&nbsp;\n",
    "\n",
    "### Edges are constraints on port variables.\n",
    "\n",
    "An edge represents how state is shared between systems."
   ]
  },
  {
   "cell_type": "markdown",
   "metadata": {
    "cell_style": "split"
   },
   "source": [
    "![Inheritance](images/inheritance.svg)"
   ]
  },
  {
   "cell_type": "markdown",
   "metadata": {
    "slideshow": {
     "slide_type": "subslide"
    }
   },
   "source": [
    "## Inheritance"
   ]
  },
  {
   "cell_type": "markdown",
   "metadata": {
    "cell_style": "split"
   },
   "source": [
    "#### Example Node Subclasses:\n",
    "- Resistive dissipation.\n",
    "- Elastic defomation of vessel walls.\n",
    "- Conservation of mass.\n",
    "\n",
    "&nbsp;\n",
    "\n",
    "_This_ chemical reation or _that particular_ aeortic compliance are **instances** of a particular subclass."
   ]
  },
  {
   "cell_type": "markdown",
   "metadata": {
    "cell_style": "split"
   },
   "source": [
    "![Inheritance](images/inheritance.svg)"
   ]
  },
  {
   "cell_type": "markdown",
   "metadata": {
    "slideshow": {
     "slide_type": "subslide"
    }
   },
   "source": [
    "## Anatomy of an Energetic System"
   ]
  },
  {
   "cell_type": "markdown",
   "metadata": {
    "cell_style": "split",
    "scrolled": true
   },
   "source": [
    "&nbsp;\n",
    "\n",
    "Nodes can have _state_, represented by the variables $(\\dot{x}, x)$\n",
    "\n",
    "Examples with state:\n",
    "- Charge accumulation.\n",
    "- Chemical concentration.\n",
    "- Elastic deformation."
   ]
  },
  {
   "cell_type": "markdown",
   "metadata": {
    "cell_style": "split"
   },
   "source": [
    "![NodeAnatomy](images/anatomy.svg)"
   ]
  },
  {
   "cell_type": "markdown",
   "metadata": {
    "slideshow": {
     "slide_type": "subslide"
    }
   },
   "source": [
    "## Anatomy of an Energetic System"
   ]
  },
  {
   "cell_type": "markdown",
   "metadata": {
    "cell_style": "split"
   },
   "source": [
    "&nbsp;\n",
    "\n",
    "Nodes can alternatively be stateless.\n",
    "\n",
    "Examples without state:\n",
    "- resistance / friction\n",
    "- semiconductance\n",
    "- elementary chemical reactions"
   ]
  },
  {
   "cell_type": "markdown",
   "metadata": {
    "cell_style": "split"
   },
   "source": [
    "![NodeAnatomy](images/anatomy.svg)"
   ]
  },
  {
   "cell_type": "markdown",
   "metadata": {
    "slideshow": {
     "slide_type": "subslide"
    }
   },
   "source": [
    "## Anatomy of an Energetic System"
   ]
  },
  {
   "cell_type": "markdown",
   "metadata": {
    "cell_style": "split"
   },
   "source": [
    "&nbsp;\n",
    "\n",
    "Nodes can have _external ports_ (here labeled $[1]$ , $[2]$ and $[3]$) which provide an interface to the external environment.\n",
    "\n",
    "Examples of ports:\n",
    "- The poles of a dielectic membrane\n",
    "- The open end of a vessel segment.\n",
    "- The enzyme/substrate/cofactor mix of a biochemical reaction. "
   ]
  },
  {
   "cell_type": "markdown",
   "metadata": {
    "cell_style": "split"
   },
   "source": [
    "![NodeAnatomy](images/anatomy.svg)"
   ]
  },
  {
   "cell_type": "markdown",
   "metadata": {
    "slideshow": {
     "slide_type": "subslide"
    }
   },
   "source": [
    "## Anatomy of an Energetic System"
   ]
  },
  {
   "cell_type": "markdown",
   "metadata": {
    "cell_style": "split"
   },
   "source": [
    "\n",
    "$\\Phi$ relates _internal state_ to _external environment_.\n",
    "\n",
    "The relation $\\Phi$ may have parameters such as: \n",
    "- Temperature and pressure\n",
    "- Gibbs formation energy\n",
    "- Vessel wall compliance\n",
    "- Electrical resistance\n"
   ]
  },
  {
   "cell_type": "markdown",
   "metadata": {
    "cell_style": "split"
   },
   "source": [
    "![NodeAnatomy](images/anatomy.svg)"
   ]
  },
  {
   "cell_type": "markdown",
   "metadata": {
    "slideshow": {
     "slide_type": "subslide"
    }
   },
   "source": [
    "## Composition"
   ]
  },
  {
   "cell_type": "markdown",
   "metadata": {
    "cell_style": "split"
   },
   "source": [
    "\n",
    "&nbsp;\n",
    "_Composition_ means that we can replace subgraphs with a single node and vice-versa.\n",
    "\n",
    "&nbsp;\n",
    "\n",
    "_This means we both abstract parts of the model, or refine parts of the model as necessary!_"
   ]
  },
  {
   "cell_type": "markdown",
   "metadata": {
    "cell_style": "split"
   },
   "source": [
    "![Composition](images/composition.svg)"
   ]
  },
  {
   "cell_type": "markdown",
   "metadata": {
    "slideshow": {
     "slide_type": "subslide"
    }
   },
   "source": [
    "## Composition"
   ]
  },
  {
   "cell_type": "markdown",
   "metadata": {
    "cell_style": "split"
   },
   "source": [
    "&nbsp;\n",
    "Recall that each node is a set of DAE's  \n",
    "$$\\Phi_j(\\dot{x},x,e,f) = 0.$$\n",
    "\n",
    "One can simply take the direct sum of the systems to produce a composite system  \n",
    "\n",
    "$$\n",
    "\\Phi_0 = \\left(\n",
    "\\Phi_6,\n",
    "\\Phi_7,\\Phi_8,\n",
    "\\Phi_{edges}\\right)^T = 0\n",
    "$$"
   ]
  },
  {
   "cell_type": "markdown",
   "metadata": {
    "cell_style": "split"
   },
   "source": [
    "![Composition](images/composition.svg)"
   ]
  },
  {
   "cell_type": "markdown",
   "metadata": {
    "slideshow": {
     "slide_type": "subslide"
    }
   },
   "source": [
    "## Compostion"
   ]
  },
  {
   "cell_type": "markdown",
   "metadata": {
    "cell_style": "split"
   },
   "source": [
    "For \n",
    "$$\n",
    "\\Phi_0 = \\left(\n",
    "\\Phi_6,\n",
    "\\Phi_7, \\Phi_8\n",
    "\\Phi_{edges}\\right)^T = 0\n",
    "$$  \n",
    "the relation   \n",
    "$$\\Phi_{edges} = (e^i_\\alpha - e^j_\\beta, f^i_\\alpha + f^j_\\beta,\\ldots)$$  \n",
    "turns edges between node-ports pairs $(i,\\alpha)$ and $(j,\\beta)$ into constraints upon the composed system $\\Phi_0$."
   ]
  },
  {
   "cell_type": "markdown",
   "metadata": {
    "cell_style": "split"
   },
   "source": [
    "![Composition](images/composition.svg)"
   ]
  },
  {
   "cell_type": "markdown",
   "metadata": {
    "slideshow": {
     "slide_type": "subslide"
    }
   },
   "source": [
    "## Compositon"
   ]
  },
  {
   "cell_type": "markdown",
   "metadata": {
    "cell_style": "split"
   },
   "source": [
    "&nbsp;\n",
    "\n",
    "_Like joining pipe segments!_\n",
    "- $e^i_\\alpha - e^j_\\beta = 0$ implies 'pressure'(effort) is identical at the join.\n",
    "- $f^i_\\alpha + f^j_\\beta = 0$ implies the flow goes losslessly from one, to the other."
   ]
  },
  {
   "cell_type": "markdown",
   "metadata": {
    "cell_style": "split"
   },
   "source": [
    "![Composition](images/composition.svg)"
   ]
  },
  {
   "cell_type": "markdown",
   "metadata": {
    "slideshow": {
     "slide_type": "subslide"
    }
   },
   "source": [
    "## Encapsulation"
   ]
  },
  {
   "cell_type": "markdown",
   "metadata": {
    "cell_style": "split"
   },
   "source": [
    "&nbsp;\n",
    "\n",
    "Encapsulation = Modularity!\n",
    "\n",
    "- Model Sharing.\n",
    "- Scalablity!"
   ]
  },
  {
   "cell_type": "markdown",
   "metadata": {
    "cell_style": "split"
   },
   "source": [
    "![Encapsulation](images/encapsulation.svg)"
   ]
  },
  {
   "cell_type": "markdown",
   "metadata": {
    "slideshow": {
     "slide_type": "subslide"
    }
   },
   "source": [
    "## Encapsulation"
   ]
  },
  {
   "cell_type": "markdown",
   "metadata": {
    "cell_style": "split"
   },
   "source": [
    "&nbsp;\n",
    "\n",
    "Encapsulation allows Model Comparison.\n",
    "\n",
    "- In-place model swaps.\n",
    "- Model re-use."
   ]
  },
  {
   "cell_type": "markdown",
   "metadata": {
    "cell_style": "split"
   },
   "source": [
    "![Encapsulation](images/encapsulation.svg)"
   ]
  },
  {
   "cell_type": "markdown",
   "metadata": {
    "slideshow": {
     "slide_type": "subslide"
    }
   },
   "source": [
    "## Object Oriented Modelling and Energetic Systems\n",
    "\n",
    "Energetic systems provide:\n",
    "- _Inheritance_; an abstract base representation of energetic systems.\n",
    "- _Composition_; a way to hierarchically compose systems of systems.\n",
    "- _Encapsulation_; a framework inside which simplifications can occur."
   ]
  },
  {
   "cell_type": "markdown",
   "metadata": {
    "slideshow": {
     "slide_type": "slide"
    }
   },
   "source": [
    "&nbsp;  \n",
    "\n",
    "\n",
    "\n",
    "# `BondGraphTools`\n",
    "\n",
    "&nbsp;\n",
    "\n",
    "Modelling Object Oriented Physical System"
   ]
  },
  {
   "cell_type": "markdown",
   "metadata": {
    "slideshow": {
     "slide_type": "subslide"
    }
   },
   "source": [
    "## Energetic Modelling as Object Oriented Programming.\n",
    "\n",
    "`BondGraphTools` provides the infrastructure to\n",
    "- Represent complex physical systems as object oriented python code.\n",
    "- Manipulate and organise models of complex phyiscal systems programmitcally.\n",
    "- Algorithmically simplify the resulting models."
   ]
  },
  {
   "cell_type": "markdown",
   "metadata": {
    "slideshow": {
     "slide_type": "subslide"
    }
   },
   "source": [
    "## What `BondGraphTools` is good for"
   ]
  },
  {
   "cell_type": "markdown",
   "metadata": {
    "cell_style": "split",
    "slideshow": {
     "slide_type": "-"
    }
   },
   "source": [
    "(and why you should use it, or pinch ideas from it)\n",
    "\n",
    "- automated model reduciton\n",
    "- scripted model building\n",
    "- formal (code) modelling of systems.\n",
    "- tool integration"
   ]
  },
  {
   "cell_type": "code",
   "execution_count": 4,
   "metadata": {
    "cell_style": "split",
    "slideshow": {
     "slide_type": "-"
    }
   },
   "outputs": [
    {
     "data": {
      "image/png": "[encoded data removed]",
      "text/plain": [
       "<Figure size 960x720 with 1 Axes>"
      ]
     },
     "metadata": {
      "needs_background": "light"
     },
     "output_type": "display_data"
    }
   ],
   "source": [
    "from BondGraphTools import draw\n",
    "segment1 = VesselSegmentA(\n",
    "    \"Example_1\", artery, blood\n",
    ")\n",
    "draw(segment1)"
   ]
  },
  {
   "cell_type": "code",
   "execution_count": 5,
   "metadata": {
    "scrolled": true,
    "slideshow": {
     "slide_type": "subslide"
    }
   },
   "outputs": [
    {
     "name": "stdout",
     "output_type": "stream",
     "text": [
      "class VesselSegmentA(bgt.BondGraph):\n",
      "    \"\"\"A vascular vessel segment.\n",
      "\n",
      "    This class is an example of Vessel Segment A from:\n",
      "    Safaei, Sorous. Blanco, Pablo J. Müller, Lucas O. Hellevik, Leif R. and Hunter, Peter J.\n",
      "    Bond Graph Model of Cerebral Circulation: Toward Clinically Feasible Systemic Blood Flow Simulations\n",
      "    Frontiers in Physiology, 2018, volume 9, page 148\n",
      "\n",
      "    The vessel segment is of the $uv$ type that has components:\n",
      "        - pressure inlet $u_i$\n",
      "        - flow outlet $v_o$\n",
      "        - fluid interia $I$\n",
      "        - wall dissipation $R$\n",
      "        - and compliance $C$.\n",
      "\n",
      "    The linear resistance, compliance and inertance are computed as per Safaei et.al..\n",
      "\n",
      "    See Also: BondGraph\n",
      "    \"\"\"\n",
      "\n",
      "    def __init__(self, name, vessel, fluid):\n",
      "        \"\"\"\n",
      "        Args:\n",
      "            name (str):      The name of this vessel segement\n",
      "            vessel (Vessel): The vessel material properties\n",
      "            fluid (Fluid):   The fluid properties\n",
      "        \"\"\"\n",
      "        # Parameters\n",
      "        resistance = 8 * fluid.viscosity * vessel.length / (pi * vessel.radius**4)\n",
      "        inertance = 2 * pi * vessel.radius**3 / (vessel.thickness * vessel.youngs_modulus)\n",
      "        compliance = fluid.density * vessel.length / (pi* vessel.radius**2)\n",
      "\n",
      "        # Instantiating Components\n",
      "        R_component = bgt.new('R', value=resistance, name=f'R')\n",
      "        C_component = bgt.new('C', value=compliance, name=f'C')\n",
      "        I_component = bgt.new('I', value=inertance, name=f'I')\n",
      "\n",
      "        conserved_flow = bgt.new(\"1\", name=f'1')\n",
      "        conserved_pressure = bgt.new(\"0\", name=f'0')\n",
      "\n",
      "        u_in = bgt.new('SS', name=f'u_i')\n",
      "        v_out = bgt.new('SS', name=f'v_o')\n",
      "\n",
      "        bonds = [\n",
      "            (u_in, conserved_flow),\n",
      "            (conserved_flow, R_component),\n",
      "            (conserved_flow, I_component),\n",
      "            (conserved_flow, conserved_pressure),\n",
      "            (conserved_pressure, C_component),\n",
      "            (conserved_pressure, v_out)\n",
      "        ]\n",
      "\n",
      "        # Build the BondGraph via the inherited initialise function\n",
      "        super().__init__(\n",
      "            name=name,\n",
      "            components=(R_component, C_component, I_component, conserved_flow, conserved_pressure, u_in, v_out)\n",
      "        )\n",
      "\n",
      "        # wire it up\n",
      "        for bond in bonds:\n",
      "            bgt.connect(*bond)\n",
      "\n",
      "        # expose the ports\n",
      "        bgt.expose(u_in, label=\"u_i\")\n",
      "        bgt.expose(v_out, label=\"v_o\")\n"
     ]
    }
   ],
   "source": [
    "source, _  = getsourcelines(VesselSegmentA)\n",
    "for line in source:\n",
    "    print(line[:-1])"
   ]
  },
  {
   "cell_type": "markdown",
   "metadata": {
    "cell_style": "center",
    "slideshow": {
     "slide_type": "subslide"
    }
   },
   "source": [
    "## Scripting the construction of an artery model"
   ]
  },
  {
   "cell_type": "code",
   "execution_count": 6,
   "metadata": {
    "cell_style": "split",
    "slideshow": {
     "slide_type": "-"
    }
   },
   "outputs": [],
   "source": [
    "from BondGraphTools import new, add, connect\n",
    "length = 1\n",
    "current_length = 0\n",
    "segment_counter = 0\n",
    "\n",
    "artery_model = new()\n",
    "inlet = new('Se', name='inlet', label='u_i')\n",
    "add(artery_model, inlet)\n",
    "\n",
    "outlet = bgt.new('Sf', name='outlet', label='v_o')\n",
    "add(artery_model, outlet)\n",
    "last_outlet = inlet\n",
    "\n",
    "  "
   ]
  },
  {
   "cell_type": "code",
   "execution_count": 7,
   "metadata": {
    "cell_style": "split",
    "slideshow": {
     "slide_type": "fragment"
    }
   },
   "outputs": [],
   "source": [
    "while current_length < length:\n",
    "    # Add a new segment \n",
    "    this_segment = VesselSegmentA(\n",
    "        name=f\"Segment_{{{segment_counter}}}\", \n",
    "        vessel=artery, fluid=blood)\n",
    "    add(artery_model, this_segment)\n",
    "    current_inlet_port = (this_segment, 'u_i')\n",
    "    \n",
    "    # and connect it to the previous one\n",
    "    connect(last_outlet, current_inlet_port)\n",
    "\n",
    "    # Update the counter variables\n",
    "    last_outlet = (this_segment, 'v_o')\n",
    "    current_length = current_length + artery.length\n",
    "    segment_counter = segment_counter + 1\n",
    "\n",
    "connect(last_outlet, outlet) "
   ]
  },
  {
   "cell_type": "markdown",
   "metadata": {
    "slideshow": {
     "slide_type": "subslide"
    }
   },
   "source": [
    "## Automatically Generating Equations"
   ]
  },
  {
   "cell_type": "code",
   "execution_count": 8,
   "metadata": {},
   "outputs": [
    {
     "data": {
      "image/png": "[encoded data removed]",
      "text/latex": [
       "$$\\left [ dx_{0} - \\frac{117892550438441 x_{1}}{25000000} + \\frac{117892550438441 x_{3}}{25000000}, \\quad dx_{1} - u_{0} + \\frac{706858347057703 x_{0}}{100000000000000} + 1556649186274600 x_{1}, \\quad dx_{2} - \\frac{117892550438441 x_{3}}{25000000} + \\frac{117892550438441 x_{5}}{25000000}, \\quad dx_{3} - \\frac{706858347057703 x_{0}}{100000000000000} + \\frac{706858347057703 x_{2}}{100000000000000} + 1556649186274600 x_{3}, \\quad dx_{4} - \\frac{117892550438441 x_{5}}{25000000} + \\frac{117892550438441 x_{7}}{25000000}, \\quad dx_{5} - \\frac{706858347057703 x_{2}}{100000000000000} + \\frac{706858347057703 x_{4}}{100000000000000} + 1556649186274600 x_{5}, \\quad dx_{6} - \\frac{117892550438441 x_{7}}{25000000} + \\frac{117892550438441 x_{9}}{25000000}, \\quad dx_{7} - \\frac{706858347057703 x_{4}}{100000000000000} + \\frac{706858347057703 x_{6}}{100000000000000} + 1556649186274600 x_{7}, \\quad dx_{8} + \\frac{117892550438441 x_{11}}{25000000} - \\frac{117892550438441 x_{9}}{25000000}, \\quad dx_{9} - \\frac{706858347057703 x_{6}}{100000000000000} + \\frac{706858347057703 x_{8}}{100000000000000} + 1556649186274600 x_{9}, \\quad dx_{10} - \\frac{117892550438441 x_{11}}{25000000} + \\frac{117892550438441 x_{13}}{25000000}, \\quad dx_{11} + \\frac{706858347057703 x_{10}}{100000000000000} + 1556649186274600 x_{11} - \\frac{706858347057703 x_{8}}{100000000000000}, \\quad dx_{12} - \\frac{117892550438441 x_{13}}{25000000} + \\frac{117892550438441 x_{15}}{25000000}, \\quad dx_{13} - \\frac{706858347057703 x_{10}}{100000000000000} + \\frac{706858347057703 x_{12}}{100000000000000} + 1556649186274600 x_{13}, \\quad dx_{14} - \\frac{117892550438441 x_{15}}{25000000} + \\frac{117892550438441 x_{17}}{25000000}, \\quad dx_{15} - \\frac{706858347057703 x_{12}}{100000000000000} + \\frac{706858347057703 x_{14}}{100000000000000} + 1556649186274600 x_{15}, \\quad dx_{16} - \\frac{117892550438441 x_{17}}{25000000} + \\frac{117892550438441 x_{19}}{25000000}, \\quad dx_{17} - \\frac{706858347057703 x_{14}}{100000000000000} + \\frac{706858347057703 x_{16}}{100000000000000} + 1556649186274600 x_{17}, \\quad dx_{18} - \\frac{117892550438441 x_{19}}{25000000} + \\frac{117892550438441 x_{21}}{25000000}, \\quad dx_{19} - \\frac{706858347057703 x_{16}}{100000000000000} + \\frac{706858347057703 x_{18}}{100000000000000} + 1556649186274600 x_{19}, \\quad dx_{20} - u_{1} - \\frac{117892550438441 x_{21}}{25000000}, \\quad dx_{21} - \\frac{706858347057703 x_{18}}{100000000000000} + \\frac{706858347057703 x_{20}}{100000000000000} + 1556649186274600 x_{21}\\right ]$$"
      ],
      "text/plain": [
       "⎡      117892550438441⋅x₁   117892550438441⋅x₃             706858347057703⋅x₀ \n",
       "⎢dx₀ - ────────────────── + ──────────────────, dx₁ - u₀ + ────────────────── \n",
       "⎣           25000000             25000000                   100000000000000   \n",
       "\n",
       "                             117892550438441⋅x₃   117892550438441⋅x₅        70\n",
       "+ 1556649186274600⋅x₁, dx₂ - ────────────────── + ──────────────────, dx₃ - ──\n",
       "                                  25000000             25000000              1\n",
       "\n",
       "6858347057703⋅x₀   706858347057703⋅x₂                              11789255043\n",
       "──────────────── + ────────────────── + 1556649186274600⋅x₃, dx₄ - ───────────\n",
       "00000000000000      100000000000000                                     250000\n",
       "\n",
       "8441⋅x₅   117892550438441⋅x₇        706858347057703⋅x₂   706858347057703⋅x₄   \n",
       "─────── + ──────────────────, dx₅ - ────────────────── + ────────────────── + \n",
       "00             25000000              100000000000000      100000000000000     \n",
       "\n",
       "                           117892550438441⋅x₇   117892550438441⋅x₉        7068\n",
       "1556649186274600⋅x₅, dx₆ - ────────────────── + ──────────────────, dx₇ - ────\n",
       "                                25000000             25000000              100\n",
       "\n",
       "58347057703⋅x₄   706858347057703⋅x₆                              1178925504384\n",
       "────────────── + ────────────────── + 1556649186274600⋅x₇, dx₈ + ─────────────\n",
       "000000000000      100000000000000                                      2500000\n",
       "\n",
       "41⋅x₁₁   117892550438441⋅x₉        706858347057703⋅x₆   706858347057703⋅x₈    \n",
       "────── - ──────────────────, dx₉ - ────────────────── + ────────────────── + 1\n",
       "0             25000000              100000000000000      100000000000000      \n",
       "\n",
       "                           117892550438441⋅x₁₁   117892550438441⋅x₁₃         7\n",
       "556649186274600⋅x₉, dx₁₀ - ─────────────────── + ───────────────────, dx₁₁ + ─\n",
       "                                 25000000              25000000               \n",
       "\n",
       "06858347057703⋅x₁₀                          706858347057703⋅x₈         1178925\n",
       "────────────────── + 1556649186274600⋅x₁₁ - ──────────────────, dx₁₂ - ───────\n",
       " 100000000000000                             100000000000000                 2\n",
       "\n",
       "50438441⋅x₁₃   117892550438441⋅x₁₅         706858347057703⋅x₁₀   7068583470577\n",
       "──────────── + ───────────────────, dx₁₃ - ─────────────────── + ─────────────\n",
       "5000000              25000000                100000000000000       10000000000\n",
       "\n",
       "03⋅x₁₂                                117892550438441⋅x₁₅   117892550438441⋅x₁\n",
       "────── + 1556649186274600⋅x₁₃, dx₁₄ - ─────────────────── + ──────────────────\n",
       "0000                                        25000000              25000000    \n",
       "\n",
       "₇         706858347057703⋅x₁₂   706858347057703⋅x₁₄                           \n",
       "─, dx₁₅ - ─────────────────── + ─────────────────── + 1556649186274600⋅x₁₅, dx\n",
       "            100000000000000       100000000000000                             \n",
       "\n",
       "     117892550438441⋅x₁₇   117892550438441⋅x₁₉         706858347057703⋅x₁₄   7\n",
       "₁₆ - ─────────────────── + ───────────────────, dx₁₇ - ─────────────────── + ─\n",
       "           25000000              25000000                100000000000000      \n",
       "\n",
       "06858347057703⋅x₁₆                                117892550438441⋅x₁₉   117892\n",
       "────────────────── + 1556649186274600⋅x₁₇, dx₁₈ - ─────────────────── + ──────\n",
       " 100000000000000                                        25000000              \n",
       "\n",
       "550438441⋅x₂₁         706858347057703⋅x₁₆   706858347057703⋅x₁₈               \n",
       "─────────────, dx₁₉ - ─────────────────── + ─────────────────── + 155664918627\n",
       "25000000                100000000000000       100000000000000                 \n",
       "\n",
       "                      117892550438441⋅x₂₁         706858347057703⋅x₁₈   706858\n",
       "4600⋅x₁₉, dx₂₀ - u₁ - ───────────────────, dx₂₁ - ─────────────────── + ──────\n",
       "                            25000000                100000000000000       1000\n",
       "\n",
       "347057703⋅x₂₀                       ⎤\n",
       "───────────── + 1556649186274600⋅x₂₁⎥\n",
       "00000000000                         ⎦"
      ]
     },
     "execution_count": 8,
     "metadata": {},
     "output_type": "execute_result"
    }
   ],
   "source": [
    "artery_model.constitutive_relations"
   ]
  },
  {
   "cell_type": "markdown",
   "metadata": {
    "slideshow": {
     "slide_type": "subslide"
    }
   },
   "source": [
    "## Algorithmic Substitution"
   ]
  },
  {
   "cell_type": "code",
   "execution_count": 9,
   "metadata": {
    "cell_style": "split"
   },
   "outputs": [],
   "source": [
    "from BondGraphTools import (\n",
    "    BondGraph, expose, new, connect)\n",
    "\n",
    "class Voigt_Model(BondGraph):\n",
    "    def __init__(self, name, \n",
    "                 compliance, dissipation):\n",
    "        # ------ Define the Subcomponents\n",
    "        C = new(\"C\", name='C', value=compliance)\n",
    "        R = new(\"R\", name='R',value=dissipation)\n",
    "        law = new('1')\n",
    "        port = new(\"SS\", name='SS')\n",
    "        # ------ Build the model\n",
    "        super().__init__(name=name, \n",
    "            components=(C, R, law, port)\n",
    "        )        \n",
    "        # ------ Wire it up\n",
    "        connect(port, law)\n",
    "        connect(law, R)\n",
    "        connect(law, C)\n",
    "        # ----- Expose the port\n",
    "        expose(port, label=\"C_v\")"
   ]
  },
  {
   "cell_type": "code",
   "execution_count": 10,
   "metadata": {
    "cell_style": "split"
   },
   "outputs": [],
   "source": [
    "from BondGraphTools import swap\n",
    "# simple iterator function\n",
    "def next_segment(model):\n",
    "    i = 0\n",
    "    try:\n",
    "        while True:\n",
    "            yield model / f\"Segment_{{{i}}}\"\n",
    "            i += 1\n",
    "    except ValueError:\n",
    "        return StopIteration\n",
    "\n",
    "# swap the components out for each segment\n",
    "for segment in next_segment(artery_model):\n",
    "    C = segment / \"C\"\n",
    "    C_v = Voigt_Model('C_v', \n",
    "                      C.params['C'], \n",
    "                      0.001)\n",
    "\n",
    "    swap(C, C_v)"
   ]
  },
  {
   "cell_type": "code",
   "execution_count": 11,
   "metadata": {
    "slideshow": {
     "slide_type": "subslide"
    }
   },
   "outputs": [
    {
     "name": "stdout",
     "output_type": "stream",
     "text": [
      "BG: BG1\n",
      "|-BG: Segment_{10}\n",
      "|--BG: C_v\n",
      "|---SS: SS\n",
      "|---1: 124\n",
      "|---R: R\n",
      "|---C: C\n",
      "|--SS: v_o\n",
      "|--SS: u_i\n",
      "|--0: 0\n",
      "|--1: 1\n",
      "|--I: I\n",
      "|--R: R\n",
      "|-BG: Segment_{9}\n",
      "|--BG: C_v\n",
      "|---SS: SS\n",
      "|---1: 123\n",
      "|---R: R\n",
      "|---C: C\n",
      "|--SS: v_o\n",
      "|--SS: u_i\n",
      "|--0: 0\n",
      "|--1: 1\n",
      "|--I: I\n",
      "|--R: R\n",
      "|-BG: Segment_{8}\n",
      "|--BG: C_v\n",
      "|---SS: SS\n",
      "|---1: 122\n",
      "|---R: R\n",
      "|---C: C\n",
      "|--SS: v_o\n",
      "|--SS: u_i\n",
      "|--0: 0\n",
      "|--1: 1\n",
      "|--I: I\n",
      "|--R: R\n",
      "|-BG: Segment_{7}\n",
      "|--BG: C_v\n",
      "|---SS: SS\n",
      "|---1: 121\n",
      "|---R: R\n",
      "|---C: C\n",
      "|--SS: v_o\n",
      "|--SS: u_i\n",
      "|--0: 0\n",
      "|--1: 1\n",
      "|--I: I\n",
      "|--R: R\n",
      "|-BG: Segment_{6}\n",
      "|--BG: C_v\n",
      "|---SS: SS\n",
      "|---1: 120\n",
      "|---R: R\n",
      "|---C: C\n",
      "|--SS: v_o\n",
      "|--SS: u_i\n",
      "|--0: 0\n",
      "|--1: 1\n",
      "|--I: I\n",
      "|--R: R\n",
      "|-BG: Segment_{5}\n",
      "|--BG: C_v\n",
      "|---SS: SS\n",
      "|---1: 119\n",
      "|---R: R\n",
      "|---C: C\n",
      "|--SS: v_o\n",
      "|--SS: u_i\n",
      "|--0: 0\n",
      "|--1: 1\n",
      "|--I: I\n",
      "|--R: R\n",
      "|-BG: Segment_{4}\n",
      "|--BG: C_v\n",
      "|---SS: SS\n",
      "|---1: 118\n",
      "|---R: R\n",
      "|---C: C\n",
      "|--SS: v_o\n",
      "|--SS: u_i\n",
      "|--0: 0\n",
      "|--1: 1\n",
      "|--I: I\n",
      "|--R: R\n",
      "|-BG: Segment_{3}\n",
      "|--BG: C_v\n",
      "|---SS: SS\n",
      "|---1: 117\n",
      "|---R: R\n",
      "|---C: C\n",
      "|--SS: v_o\n",
      "|--SS: u_i\n",
      "|--0: 0\n",
      "|--1: 1\n",
      "|--I: I\n",
      "|--R: R\n",
      "|-BG: Segment_{2}\n",
      "|--BG: C_v\n",
      "|---SS: SS\n",
      "|---1: 116\n",
      "|---R: R\n",
      "|---C: C\n",
      "|--SS: v_o\n",
      "|--SS: u_i\n",
      "|--0: 0\n",
      "|--1: 1\n",
      "|--I: I\n",
      "|--R: R\n",
      "|-BG: Segment_{1}\n",
      "|--BG: C_v\n",
      "|---SS: SS\n",
      "|---1: 115\n",
      "|---R: R\n",
      "|---C: C\n",
      "|--SS: v_o\n",
      "|--SS: u_i\n",
      "|--0: 0\n",
      "|--1: 1\n",
      "|--I: I\n",
      "|--R: R\n",
      "|-BG: Segment_{0}\n",
      "|--BG: C_v\n",
      "|---SS: SS\n",
      "|---1: 114\n",
      "|---R: R\n",
      "|---C: C\n",
      "|--SS: v_o\n",
      "|--SS: u_i\n",
      "|--0: 0\n",
      "|--1: 1\n",
      "|--I: I\n",
      "|--R: R\n",
      "|-SS: outlet\n",
      "|-SS: inlet\n"
     ]
    }
   ],
   "source": [
    "print_tree(artery_model)"
   ]
  },
  {
   "cell_type": "markdown",
   "metadata": {
    "slideshow": {
     "slide_type": "subslide"
    }
   },
   "source": [
    "## Automated Model Building"
   ]
  },
  {
   "cell_type": "code",
   "execution_count": 12,
   "metadata": {
    "cell_style": "center",
    "slideshow": {
     "slide_type": "subslide"
    }
   },
   "outputs": [],
   "source": [
    "TCA_reactions = {\n",
    "    \"Citrate synthase\": \n",
    "        [\"acetyl-CoA + oxaloacetate + H2O = citrate + CoA-SH\"],\n",
    "    \"Aconitase\": \n",
    "        [\"Citrate = cis-Aconitate + H2O\", \"cis-Aconitate + H2O = Isocitrate\"],\n",
    "    \"Isocitrate dehydrogenase\": \n",
    "        [\"Isocitrate + NAD = Oxalosuccinate + NADH + H\", \n",
    "         \"Oxalosuccinate = a-Ketoglutarate + CO2\" ],\n",
    "    \"a-Ketoglutarate dehydrogenase\": \n",
    "        [\"a-Ketoglutarate + NAD + CoA-SH = Succinyl-CoA + NADH + H + CO2\"],\n",
    "     \"Succinyl-CoA synthetase\":  \n",
    "        [\"Succinyl-CoA + ADP + Pi = Succinate + CoA-SH + ATP\"],\n",
    "     \"Succinate dehydrogenase\": \n",
    "        [\"Succinate + Q = Fumarate + QH2\"],\n",
    "     \"Fumarase\":\n",
    "        [\"Fumarate + H2O = L-Malate\"],\n",
    "     \"Malate dehydrogenase\":\n",
    "        [\"L-Malate + NAD = Oxaloacetate + NADH + H\"]\n",
    "} "
   ]
  },
  {
   "cell_type": "code",
   "execution_count": 13,
   "metadata": {
    "cell_style": "split",
    "slideshow": {
     "slide_type": "subslide"
    }
   },
   "outputs": [],
   "source": [
    "from BondGraphTools.reaction_builder import (\n",
    "    Reaction_Network)\n",
    "\n",
    "def TCA_Cycle():\n",
    "    reaction_net = Reaction_Network(\n",
    "        name=\"TCA_Cycle\"\n",
    "    )\n",
    "    # loop through each enzyme\n",
    "    for enzyme in TCA_reactions:\n",
    "        for i, reaction in enumerate(TCA_reactions[enzyme]):\n",
    "            # add each reaction.\n",
    "            reaction_net.add_reaction(\n",
    "                reaction,\n",
    "                name=f\"{enzyme} - {i}\"\n",
    "            )\n",
    "    return reaction_net "
   ]
  },
  {
   "cell_type": "code",
   "execution_count": 14,
   "metadata": {
    "cell_style": "split",
    "slideshow": {
     "slide_type": "fragment"
    }
   },
   "outputs": [
    {
     "data": {
      "image/png": "[encoded data removed]",
      "text/plain": [
       "<Figure size 960x720 with 1 Axes>"
      ]
     },
     "metadata": {
      "needs_background": "light"
     },
     "output_type": "display_data"
    }
   ],
   "source": [
    "from BondGraphTools import draw\n",
    "tca_model = TCA_Cycle().as_network_model()\n",
    "draw(tca_model)"
   ]
  },
  {
   "cell_type": "markdown",
   "metadata": {
    "slideshow": {
     "slide_type": "subslide"
    }
   },
   "source": [
    "## ...from data to equations"
   ]
  },
  {
   "cell_type": "code",
   "execution_count": 15,
   "metadata": {
    "cell_style": "center"
   },
   "outputs": [
    {
     "data": {
      "image/png": "[encoded data removed]",
      "text/latex": [
       "$$\\left [ dx_{0} + u_{0} u_{1} u_{2} u_{24} x_{0} x_{1} x_{2} - u_{24} u_{3} u_{4} x_{3} x_{4}, \\quad dx_{1} + u_{0} u_{1} u_{2} u_{24} x_{0} x_{1} x_{2} - u_{24} u_{3} u_{4} x_{3} x_{4}, \\quad dx_{2} + u_{0} u_{1} u_{2} u_{24} x_{0} x_{1} x_{2} + u_{2} u_{20} u_{32} x_{2} x_{20} + u_{2} u_{25} u_{6} x_{2} x_{6} + u_{2} u_{26} u_{6} x_{2} x_{6} - u_{22} u_{32} x_{22} - u_{24} u_{3} u_{4} x_{3} x_{4} - u_{25} u_{5} x_{5} - u_{26} u_{7} x_{7}, \\quad dx_{3} - u_{0} u_{1} u_{2} u_{24} x_{0} x_{1} x_{2} + u_{24} u_{3} u_{4} x_{3} x_{4}, \\quad dx_{4} - u_{0} u_{1} u_{2} u_{24} x_{0} x_{1} x_{2} - u_{10} u_{11} u_{13} u_{14} u_{29} x_{10} x_{11} x_{13} x_{14} + u_{12} u_{29} u_{4} u_{8} x_{12} x_{4} x_{8} - u_{14} u_{15} u_{16} u_{30} x_{14} x_{15} x_{16} + u_{17} u_{18} u_{30} u_{4} x_{17} x_{18} x_{4} + u_{24} u_{3} u_{4} x_{3} x_{4}, \\quad dx_{5} - u_{2} u_{25} u_{6} x_{2} x_{6} + u_{25} u_{5} x_{5}, \\quad dx_{6} + u_{2} u_{25} u_{6} x_{2} x_{6} + u_{2} u_{26} u_{6} x_{2} x_{6} - u_{25} u_{5} x_{5} - u_{26} u_{7} x_{7}, \\quad dx_{7} - u_{10} u_{11} u_{27} u_{9} x_{10} x_{11} x_{9} - u_{2} u_{26} u_{6} x_{2} x_{6} + u_{26} u_{7} x_{7} + u_{27} u_{7} u_{8} x_{7} x_{8}, \\quad dx_{8} - u_{10} u_{11} u_{13} u_{14} u_{29} x_{10} x_{11} x_{13} x_{14} - u_{10} u_{11} u_{23} u_{33} x_{10} x_{11} x_{23} - u_{10} u_{11} u_{27} u_{9} x_{10} x_{11} x_{9} + u_{12} u_{29} u_{4} u_{8} x_{12} x_{4} x_{8} + u_{22} u_{33} u_{8} x_{22} x_{8} + u_{27} u_{7} u_{8} x_{7} x_{8}, \\quad dx_{9} + u_{10} u_{11} u_{27} u_{9} x_{10} x_{11} x_{9} - u_{12} u_{13} u_{28} x_{12} x_{13} - u_{27} u_{7} u_{8} x_{7} x_{8} + u_{28} u_{9} x_{9}, \\quad dx_{10} + u_{10} u_{11} u_{13} u_{14} u_{29} x_{10} x_{11} x_{13} x_{14} + u_{10} u_{11} u_{23} u_{33} x_{10} x_{11} x_{23} + u_{10} u_{11} u_{27} u_{9} x_{10} x_{11} x_{9} - u_{12} u_{29} u_{4} u_{8} x_{12} x_{4} x_{8} - u_{22} u_{33} u_{8} x_{22} x_{8} - u_{27} u_{7} u_{8} x_{7} x_{8}, \\quad dx_{11} + u_{10} u_{11} u_{13} u_{14} u_{29} x_{10} x_{11} x_{13} x_{14} + u_{10} u_{11} u_{23} u_{33} x_{10} x_{11} x_{23} + u_{10} u_{11} u_{27} u_{9} x_{10} x_{11} x_{9} - u_{12} u_{29} u_{4} u_{8} x_{12} x_{4} x_{8} - u_{22} u_{33} u_{8} x_{22} x_{8} - u_{27} u_{7} u_{8} x_{7} x_{8}, \\quad dx_{12} - u_{10} u_{11} u_{13} u_{14} u_{29} x_{10} x_{11} x_{13} x_{14} + u_{12} u_{13} u_{28} x_{12} x_{13} + u_{12} u_{29} u_{4} u_{8} x_{12} x_{4} x_{8} - u_{28} u_{9} x_{9}, \\quad dx_{13} + u_{10} u_{11} u_{13} u_{14} u_{29} x_{10} x_{11} x_{13} x_{14} + u_{12} u_{13} u_{28} x_{12} x_{13} - u_{12} u_{29} u_{4} u_{8} x_{12} x_{4} x_{8} - u_{28} u_{9} x_{9}, \\quad dx_{14} + u_{10} u_{11} u_{13} u_{14} u_{29} x_{10} x_{11} x_{13} x_{14} - u_{12} u_{29} u_{4} u_{8} x_{12} x_{4} x_{8} + u_{14} u_{15} u_{16} u_{30} x_{14} x_{15} x_{16} - u_{17} u_{18} u_{30} u_{4} x_{17} x_{18} x_{4}, \\quad dx_{15} + u_{14} u_{15} u_{16} u_{30} x_{14} x_{15} x_{16} - u_{17} u_{18} u_{30} u_{4} x_{17} x_{18} x_{4}, \\quad dx_{16} + u_{14} u_{15} u_{16} u_{30} x_{14} x_{15} x_{16} - u_{17} u_{18} u_{30} u_{4} x_{17} x_{18} x_{4}, \\quad dx_{17} - u_{14} u_{15} u_{16} u_{30} x_{14} x_{15} x_{16} + u_{17} u_{18} u_{30} u_{4} x_{17} x_{18} x_{4} + u_{17} u_{19} u_{31} x_{17} x_{19} - u_{20} u_{21} u_{31} x_{20} x_{21}, \\quad dx_{18} - u_{14} u_{15} u_{16} u_{30} x_{14} x_{15} x_{16} + u_{17} u_{18} u_{30} u_{4} x_{17} x_{18} x_{4}, \\quad dx_{19} + u_{17} u_{19} u_{31} x_{17} x_{19} - u_{20} u_{21} u_{31} x_{20} x_{21}, \\quad dx_{20} - u_{17} u_{19} u_{31} x_{17} x_{19} + u_{2} u_{20} u_{32} x_{2} x_{20} + u_{20} u_{21} u_{31} x_{20} x_{21} - u_{22} u_{32} x_{22}, \\quad dx_{21} - u_{17} u_{19} u_{31} x_{17} x_{19} + u_{20} u_{21} u_{31} x_{20} x_{21}, \\quad dx_{22} - u_{10} u_{11} u_{23} u_{33} x_{10} x_{11} x_{23} - u_{2} u_{20} u_{32} x_{2} x_{20} + u_{22} u_{32} x_{22} + u_{22} u_{33} u_{8} x_{22} x_{8}, \\quad dx_{23} + u_{10} u_{11} u_{23} u_{33} x_{10} x_{11} x_{23} - u_{22} u_{33} u_{8} x_{22} x_{8}\\right ]$$"
      ],
      "text/plain": [
       "[dx₀ + u₀⋅u₁⋅u₂⋅u₂₄⋅x₀⋅x₁⋅x₂ - u₂₄⋅u₃⋅u₄⋅x₃⋅x₄, dx₁ + u₀⋅u₁⋅u₂⋅u₂₄⋅x₀⋅x₁⋅x₂ - \n",
       "u₂₄⋅u₃⋅u₄⋅x₃⋅x₄, dx₂ + u₀⋅u₁⋅u₂⋅u₂₄⋅x₀⋅x₁⋅x₂ + u₂⋅u₂₀⋅u₃₂⋅x₂⋅x₂₀ + u₂⋅u₂₅⋅u₆⋅x\n",
       "₂⋅x₆ + u₂⋅u₂₆⋅u₆⋅x₂⋅x₆ - u₂₂⋅u₃₂⋅x₂₂ - u₂₄⋅u₃⋅u₄⋅x₃⋅x₄ - u₂₅⋅u₅⋅x₅ - u₂₆⋅u₇⋅x₇\n",
       ", dx₃ - u₀⋅u₁⋅u₂⋅u₂₄⋅x₀⋅x₁⋅x₂ + u₂₄⋅u₃⋅u₄⋅x₃⋅x₄, dx₄ - u₀⋅u₁⋅u₂⋅u₂₄⋅x₀⋅x₁⋅x₂ -\n",
       " u₁₀⋅u₁₁⋅u₁₃⋅u₁₄⋅u₂₉⋅x₁₀⋅x₁₁⋅x₁₃⋅x₁₄ + u₁₂⋅u₂₉⋅u₄⋅u₈⋅x₁₂⋅x₄⋅x₈ - u₁₄⋅u₁₅⋅u₁₆⋅u\n",
       "₃₀⋅x₁₄⋅x₁₅⋅x₁₆ + u₁₇⋅u₁₈⋅u₃₀⋅u₄⋅x₁₇⋅x₁₈⋅x₄ + u₂₄⋅u₃⋅u₄⋅x₃⋅x₄, dx₅ - u₂⋅u₂₅⋅u₆⋅\n",
       "x₂⋅x₆ + u₂₅⋅u₅⋅x₅, dx₆ + u₂⋅u₂₅⋅u₆⋅x₂⋅x₆ + u₂⋅u₂₆⋅u₆⋅x₂⋅x₆ - u₂₅⋅u₅⋅x₅ - u₂₆⋅u\n",
       "₇⋅x₇, dx₇ - u₁₀⋅u₁₁⋅u₂₇⋅u₉⋅x₁₀⋅x₁₁⋅x₉ - u₂⋅u₂₆⋅u₆⋅x₂⋅x₆ + u₂₆⋅u₇⋅x₇ + u₂₇⋅u₇⋅u\n",
       "₈⋅x₇⋅x₈, dx₈ - u₁₀⋅u₁₁⋅u₁₃⋅u₁₄⋅u₂₉⋅x₁₀⋅x₁₁⋅x₁₃⋅x₁₄ - u₁₀⋅u₁₁⋅u₂₃⋅u₃₃⋅x₁₀⋅x₁₁⋅x\n",
       "₂₃ - u₁₀⋅u₁₁⋅u₂₇⋅u₉⋅x₁₀⋅x₁₁⋅x₉ + u₁₂⋅u₂₉⋅u₄⋅u₈⋅x₁₂⋅x₄⋅x₈ + u₂₂⋅u₃₃⋅u₈⋅x₂₂⋅x₈ +\n",
       " u₂₇⋅u₇⋅u₈⋅x₇⋅x₈, dx₉ + u₁₀⋅u₁₁⋅u₂₇⋅u₉⋅x₁₀⋅x₁₁⋅x₉ - u₁₂⋅u₁₃⋅u₂₈⋅x₁₂⋅x₁₃ - u₂₇⋅\n",
       "u₇⋅u₈⋅x₇⋅x₈ + u₂₈⋅u₉⋅x₉, dx₁₀ + u₁₀⋅u₁₁⋅u₁₃⋅u₁₄⋅u₂₉⋅x₁₀⋅x₁₁⋅x₁₃⋅x₁₄ + u₁₀⋅u₁₁⋅\n",
       "u₂₃⋅u₃₃⋅x₁₀⋅x₁₁⋅x₂₃ + u₁₀⋅u₁₁⋅u₂₇⋅u₉⋅x₁₀⋅x₁₁⋅x₉ - u₁₂⋅u₂₉⋅u₄⋅u₈⋅x₁₂⋅x₄⋅x₈ - u₂\n",
       "₂⋅u₃₃⋅u₈⋅x₂₂⋅x₈ - u₂₇⋅u₇⋅u₈⋅x₇⋅x₈, dx₁₁ + u₁₀⋅u₁₁⋅u₁₃⋅u₁₄⋅u₂₉⋅x₁₀⋅x₁₁⋅x₁₃⋅x₁₄ \n",
       "+ u₁₀⋅u₁₁⋅u₂₃⋅u₃₃⋅x₁₀⋅x₁₁⋅x₂₃ + u₁₀⋅u₁₁⋅u₂₇⋅u₉⋅x₁₀⋅x₁₁⋅x₉ - u₁₂⋅u₂₉⋅u₄⋅u₈⋅x₁₂⋅\n",
       "x₄⋅x₈ - u₂₂⋅u₃₃⋅u₈⋅x₂₂⋅x₈ - u₂₇⋅u₇⋅u₈⋅x₇⋅x₈, dx₁₂ - u₁₀⋅u₁₁⋅u₁₃⋅u₁₄⋅u₂₉⋅x₁₀⋅x₁\n",
       "₁⋅x₁₃⋅x₁₄ + u₁₂⋅u₁₃⋅u₂₈⋅x₁₂⋅x₁₃ + u₁₂⋅u₂₉⋅u₄⋅u₈⋅x₁₂⋅x₄⋅x₈ - u₂₈⋅u₉⋅x₉, dx₁₃ + \n",
       "u₁₀⋅u₁₁⋅u₁₃⋅u₁₄⋅u₂₉⋅x₁₀⋅x₁₁⋅x₁₃⋅x₁₄ + u₁₂⋅u₁₃⋅u₂₈⋅x₁₂⋅x₁₃ - u₁₂⋅u₂₉⋅u₄⋅u₈⋅x₁₂⋅\n",
       "x₄⋅x₈ - u₂₈⋅u₉⋅x₉, dx₁₄ + u₁₀⋅u₁₁⋅u₁₃⋅u₁₄⋅u₂₉⋅x₁₀⋅x₁₁⋅x₁₃⋅x₁₄ - u₁₂⋅u₂₉⋅u₄⋅u₈⋅\n",
       "x₁₂⋅x₄⋅x₈ + u₁₄⋅u₁₅⋅u₁₆⋅u₃₀⋅x₁₄⋅x₁₅⋅x₁₆ - u₁₇⋅u₁₈⋅u₃₀⋅u₄⋅x₁₇⋅x₁₈⋅x₄, dx₁₅ + u₁\n",
       "₄⋅u₁₅⋅u₁₆⋅u₃₀⋅x₁₄⋅x₁₅⋅x₁₆ - u₁₇⋅u₁₈⋅u₃₀⋅u₄⋅x₁₇⋅x₁₈⋅x₄, dx₁₆ + u₁₄⋅u₁₅⋅u₁₆⋅u₃₀⋅\n",
       "x₁₄⋅x₁₅⋅x₁₆ - u₁₇⋅u₁₈⋅u₃₀⋅u₄⋅x₁₇⋅x₁₈⋅x₄, dx₁₇ - u₁₄⋅u₁₅⋅u₁₆⋅u₃₀⋅x₁₄⋅x₁₅⋅x₁₆ + \n",
       "u₁₇⋅u₁₈⋅u₃₀⋅u₄⋅x₁₇⋅x₁₈⋅x₄ + u₁₇⋅u₁₉⋅u₃₁⋅x₁₇⋅x₁₉ - u₂₀⋅u₂₁⋅u₃₁⋅x₂₀⋅x₂₁, dx₁₈ - \n",
       "u₁₄⋅u₁₅⋅u₁₆⋅u₃₀⋅x₁₄⋅x₁₅⋅x₁₆ + u₁₇⋅u₁₈⋅u₃₀⋅u₄⋅x₁₇⋅x₁₈⋅x₄, dx₁₉ + u₁₇⋅u₁₉⋅u₃₁⋅x₁\n",
       "₇⋅x₁₉ - u₂₀⋅u₂₁⋅u₃₁⋅x₂₀⋅x₂₁, dx₂₀ - u₁₇⋅u₁₉⋅u₃₁⋅x₁₇⋅x₁₉ + u₂⋅u₂₀⋅u₃₂⋅x₂⋅x₂₀ + \n",
       "u₂₀⋅u₂₁⋅u₃₁⋅x₂₀⋅x₂₁ - u₂₂⋅u₃₂⋅x₂₂, dx₂₁ - u₁₇⋅u₁₉⋅u₃₁⋅x₁₇⋅x₁₉ + u₂₀⋅u₂₁⋅u₃₁⋅x₂\n",
       "₀⋅x₂₁, dx₂₂ - u₁₀⋅u₁₁⋅u₂₃⋅u₃₃⋅x₁₀⋅x₁₁⋅x₂₃ - u₂⋅u₂₀⋅u₃₂⋅x₂⋅x₂₀ + u₂₂⋅u₃₂⋅x₂₂ + \n",
       "u₂₂⋅u₃₃⋅u₈⋅x₂₂⋅x₈, dx₂₃ + u₁₀⋅u₁₁⋅u₂₃⋅u₃₃⋅x₁₀⋅x₁₁⋅x₂₃ - u₂₂⋅u₃₃⋅u₈⋅x₂₂⋅x₈]"
      ]
     },
     "execution_count": 15,
     "metadata": {},
     "output_type": "execute_result"
    }
   ],
   "source": [
    "tca_model.constitutive_relations"
   ]
  },
  {
   "cell_type": "code",
   "execution_count": 16,
   "metadata": {
    "cell_style": "split",
    "scrolled": true,
    "slideshow": {
     "slide_type": "subslide"
    }
   },
   "outputs": [
    {
     "data": {
      "text/plain": [
       "{0: (C: acetyl-CoA, 'k'),\n",
       " 1: (C: acetyl-CoA, 'R'),\n",
       " 2: (C: acetyl-CoA, 'T'),\n",
       " 3: (C: oxaloacetate, 'k'),\n",
       " 4: (C: oxaloacetate, 'R'),\n",
       " 5: (C: oxaloacetate, 'T'),\n",
       " 6: (C: H2O, 'k'),\n",
       " 7: (C: H2O, 'R'),\n",
       " 8: (C: H2O, 'T'),\n",
       " 9: (C: citrate, 'k'),\n",
       " 10: (C: citrate, 'R'),\n",
       " 11: (C: citrate, 'T'),\n",
       " 12: (C: CoA-SH, 'k'),\n",
       " 13: (C: CoA-SH, 'R'),\n",
       " 14: (C: CoA-SH, 'T'),\n",
       " 15: (C: Citrate, 'k'),\n",
       " 16: (C: Citrate, 'R'),\n",
       " 17: (C: Citrate, 'T'),\n",
       " 18: (C: cis-Aconitate, 'k'),\n",
       " 19: (C: cis-Aconitate, 'R'),\n",
       " 20: (C: cis-Aconitate, 'T'),\n",
       " 21: (C: Isocitrate, 'k'),\n",
       " 22: (C: Isocitrate, 'R'),\n",
       " 23: (C: Isocitrate, 'T'),\n",
       " 24: (C: NAD, 'k'),\n",
       " 25: (C: NAD, 'R'),\n",
       " 26: (C: NAD, 'T'),\n",
       " 27: (C: Oxalosuccinate, 'k'),\n",
       " 28: (C: Oxalosuccinate, 'R'),\n",
       " 29: (C: Oxalosuccinate, 'T'),\n",
       " 30: (C: NADH, 'k'),\n",
       " 31: (C: NADH, 'R'),\n",
       " 32: (C: NADH, 'T'),\n",
       " 33: (C: H, 'k'),\n",
       " 34: (C: H, 'R'),\n",
       " 35: (C: H, 'T'),\n",
       " 36: (C: a-Ketoglutarate, 'k'),\n",
       " 37: (C: a-Ketoglutarate, 'R'),\n",
       " 38: (C: a-Ketoglutarate, 'T'),\n",
       " 39: (C: CO2, 'k'),\n",
       " 40: (C: CO2, 'R'),\n",
       " 41: (C: CO2, 'T'),\n",
       " 42: (C: Succinyl-CoA, 'k'),\n",
       " 43: (C: Succinyl-CoA, 'R'),\n",
       " 44: (C: Succinyl-CoA, 'T'),\n",
       " 45: (C: ADP, 'k'),\n",
       " 46: (C: ADP, 'R'),\n",
       " 47: (C: ADP, 'T'),\n",
       " 48: (C: Pi, 'k'),\n",
       " 49: (C: Pi, 'R'),\n",
       " 50: (C: Pi, 'T'),\n",
       " 51: (C: Succinate, 'k'),\n",
       " 52: (C: Succinate, 'R'),\n",
       " 53: (C: Succinate, 'T'),\n",
       " 54: (C: ATP, 'k'),\n",
       " 55: (C: ATP, 'R'),\n",
       " 56: (C: ATP, 'T'),\n",
       " 57: (C: Q, 'k'),\n",
       " 58: (C: Q, 'R'),\n",
       " 59: (C: Q, 'T'),\n",
       " 60: (C: Fumarate, 'k'),\n",
       " 61: (C: Fumarate, 'R'),\n",
       " 62: (C: Fumarate, 'T'),\n",
       " 63: (C: QH2, 'k'),\n",
       " 64: (C: QH2, 'R'),\n",
       " 65: (C: QH2, 'T'),\n",
       " 66: (C: L-Malate, 'k'),\n",
       " 67: (C: L-Malate, 'R'),\n",
       " 68: (C: L-Malate, 'T'),\n",
       " 69: (C: Oxaloacetate, 'k'),\n",
       " 70: (C: Oxaloacetate, 'R'),\n",
       " 71: (C: Oxaloacetate, 'T'),\n",
       " 72: (R: Citrate synthase - 0, 'r'),\n",
       " 73: (R: Citrate synthase - 0, 'R'),\n",
       " 74: (R: Citrate synthase - 0, 'T'),\n",
       " 75: (R: Aconitase - 0, 'r'),\n",
       " 76: (R: Aconitase - 0, 'R'),\n",
       " 77: (R: Aconitase - 0, 'T'),\n",
       " 78: (R: Aconitase - 1, 'r'),\n",
       " 79: (R: Aconitase - 1, 'R'),\n",
       " 80: (R: Aconitase - 1, 'T'),\n",
       " 81: (R: Isocitrate dehydrogenase - 0, 'r'),\n",
       " 82: (R: Isocitrate dehydrogenase - 0, 'R'),\n",
       " 83: (R: Isocitrate dehydrogenase - 0, 'T'),\n",
       " 84: (R: Isocitrate dehydrogenase - 1, 'r'),\n",
       " 85: (R: Isocitrate dehydrogenase - 1, 'R'),\n",
       " 86: (R: Isocitrate dehydrogenase - 1, 'T'),\n",
       " 87: (R: a-Ketoglutarate dehydrogenase - 0, 'r'),\n",
       " 88: (R: a-Ketoglutarate dehydrogenase - 0, 'R'),\n",
       " 89: (R: a-Ketoglutarate dehydrogenase - 0, 'T'),\n",
       " 90: (R: Succinyl-CoA synthetase - 0, 'r'),\n",
       " 91: (R: Succinyl-CoA synthetase - 0, 'R'),\n",
       " 92: (R: Succinyl-CoA synthetase - 0, 'T'),\n",
       " 93: (R: Succinate dehydrogenase - 0, 'r'),\n",
       " 94: (R: Succinate dehydrogenase - 0, 'R'),\n",
       " 95: (R: Succinate dehydrogenase - 0, 'T'),\n",
       " 96: (R: Fumarase - 0, 'r'),\n",
       " 97: (R: Fumarase - 0, 'R'),\n",
       " 98: (R: Fumarase - 0, 'T'),\n",
       " 99: (R: Malate dehydrogenase - 0, 'r'),\n",
       " 100: (R: Malate dehydrogenase - 0, 'R'),\n",
       " 101: (R: Malate dehydrogenase - 0, 'T')}"
      ]
     },
     "execution_count": 16,
     "metadata": {},
     "output_type": "execute_result"
    }
   ],
   "source": [
    "# Parameters\n",
    "tca_model.params"
   ]
  },
  {
   "cell_type": "code",
   "execution_count": 17,
   "metadata": {
    "cell_style": "split"
   },
   "outputs": [],
   "source": [
    "from BondGraphTools import set_param, swap, new\n",
    "\n",
    "# Set Parameters to 1\n",
    "value = 1\n",
    "\n",
    "for param in tca_model.params:\n",
    "    set_param(tca_model, param, value)\n",
    "\n",
    "# Swap acetyl_CoA for a effort source\n",
    "acetyl_CoA = tca_model / \"C: acetyl-CoA\"\n",
    "flow_control = new(\"Se\", value=None)\n",
    "swap(acetyl_CoA, flow_control)"
   ]
  },
  {
   "cell_type": "code",
   "execution_count": 18,
   "metadata": {
    "scrolled": true,
    "slideshow": {
     "slide_type": "subslide"
    }
   },
   "outputs": [
    {
     "data": {
      "image/png": "[encoded data removed]",
      "text/latex": [
       "$$\\left [ dx_{0} + x_{0} x_{1} e^{u_{0}} - x_{2} x_{3}, \\quad dx_{1} + x_{0} x_{1} e^{u_{0}} + x_{1} x_{19} + 2 x_{1} x_{5} - x_{2} x_{3} - x_{21} - x_{4} - x_{6}, \\quad dx_{2} - x_{0} x_{1} e^{u_{0}} + x_{2} x_{3}, \\quad dx_{3} - x_{0} x_{1} e^{u_{0}} - x_{10} x_{12} x_{13} x_{9} + x_{11} x_{3} x_{7} - x_{13} x_{14} x_{15} + x_{16} x_{17} x_{3} + x_{2} x_{3}, \\quad dx_{4} - x_{1} x_{5} + x_{4}, \\quad dx_{5} + 2 x_{1} x_{5} - x_{4} - x_{6}, \\quad dx_{6} - x_{1} x_{5} - x_{10} x_{8} x_{9} + x_{6} x_{7} + x_{6}, \\quad dx_{7} - x_{10} x_{12} x_{13} x_{9} - x_{10} x_{22} x_{9} - x_{10} x_{8} x_{9} + x_{11} x_{3} x_{7} + x_{21} x_{7} + x_{6} x_{7}, \\quad dx_{8} + x_{10} x_{8} x_{9} - x_{11} x_{12} - x_{6} x_{7} + x_{8}, \\quad dx_{9} + x_{10} x_{12} x_{13} x_{9} + x_{10} x_{22} x_{9} + x_{10} x_{8} x_{9} - x_{11} x_{3} x_{7} - x_{21} x_{7} - x_{6} x_{7}, \\quad dx_{10} + x_{10} x_{12} x_{13} x_{9} + x_{10} x_{22} x_{9} + x_{10} x_{8} x_{9} - x_{11} x_{3} x_{7} - x_{21} x_{7} - x_{6} x_{7}, \\quad dx_{11} - x_{10} x_{12} x_{13} x_{9} + x_{11} x_{12} + x_{11} x_{3} x_{7} - x_{8}, \\quad dx_{12} + x_{10} x_{12} x_{13} x_{9} + x_{11} x_{12} - x_{11} x_{3} x_{7} - x_{8}, \\quad dx_{13} + x_{10} x_{12} x_{13} x_{9} - x_{11} x_{3} x_{7} + x_{13} x_{14} x_{15} - x_{16} x_{17} x_{3}, \\quad dx_{14} + x_{13} x_{14} x_{15} - x_{16} x_{17} x_{3}, \\quad dx_{15} + x_{13} x_{14} x_{15} - x_{16} x_{17} x_{3}, \\quad dx_{16} - x_{13} x_{14} x_{15} + x_{16} x_{17} x_{3} + x_{16} x_{18} - x_{19} x_{20}, \\quad dx_{17} - x_{13} x_{14} x_{15} + x_{16} x_{17} x_{3}, \\quad dx_{18} + x_{16} x_{18} - x_{19} x_{20}, \\quad dx_{19} + x_{1} x_{19} - x_{16} x_{18} + x_{19} x_{20} - x_{21}, \\quad dx_{20} - x_{16} x_{18} + x_{19} x_{20}, \\quad dx_{21} - x_{1} x_{19} - x_{10} x_{22} x_{9} + x_{21} x_{7} + x_{21}, \\quad dx_{22} + x_{10} x_{22} x_{9} - x_{21} x_{7}\\right ]$$"
      ],
      "text/plain": [
       "⎡             u₀                       u₀                                     \n",
       "⎣dx₀ + x₀⋅x₁⋅ℯ   - x₂⋅x₃, dx₁ + x₀⋅x₁⋅ℯ   + x₁⋅x₁₉ + 2⋅x₁⋅x₅ - x₂⋅x₃ - x₂₁ - x\n",
       "\n",
       "                     u₀                       u₀                              \n",
       "₄ - x₆, dx₂ - x₀⋅x₁⋅ℯ   + x₂⋅x₃, dx₃ - x₀⋅x₁⋅ℯ   - x₁₀⋅x₁₂⋅x₁₃⋅x₉ + x₁₁⋅x₃⋅x₇ \n",
       "\n",
       "                                                                              \n",
       "- x₁₃⋅x₁₄⋅x₁₅ + x₁₆⋅x₁₇⋅x₃ + x₂⋅x₃, dx₄ - x₁⋅x₅ + x₄, dx₅ + 2⋅x₁⋅x₅ - x₄ - x₆,\n",
       "\n",
       "                                                                              \n",
       " dx₆ - x₁⋅x₅ - x₁₀⋅x₈⋅x₉ + x₆⋅x₇ + x₆, dx₇ - x₁₀⋅x₁₂⋅x₁₃⋅x₉ - x₁₀⋅x₂₂⋅x₉ - x₁₀\n",
       "\n",
       "                                                                              \n",
       "⋅x₈⋅x₉ + x₁₁⋅x₃⋅x₇ + x₂₁⋅x₇ + x₆⋅x₇, dx₈ + x₁₀⋅x₈⋅x₉ - x₁₁⋅x₁₂ - x₆⋅x₇ + x₈, d\n",
       "\n",
       "                                                                              \n",
       "x₉ + x₁₀⋅x₁₂⋅x₁₃⋅x₉ + x₁₀⋅x₂₂⋅x₉ + x₁₀⋅x₈⋅x₉ - x₁₁⋅x₃⋅x₇ - x₂₁⋅x₇ - x₆⋅x₇, dx₁\n",
       "\n",
       "                                                                              \n",
       "₀ + x₁₀⋅x₁₂⋅x₁₃⋅x₉ + x₁₀⋅x₂₂⋅x₉ + x₁₀⋅x₈⋅x₉ - x₁₁⋅x₃⋅x₇ - x₂₁⋅x₇ - x₆⋅x₇, dx₁₁\n",
       "\n",
       "                                                                              \n",
       " - x₁₀⋅x₁₂⋅x₁₃⋅x₉ + x₁₁⋅x₁₂ + x₁₁⋅x₃⋅x₇ - x₈, dx₁₂ + x₁₀⋅x₁₂⋅x₁₃⋅x₉ + x₁₁⋅x₁₂ \n",
       "\n",
       "                                                                              \n",
       "- x₁₁⋅x₃⋅x₇ - x₈, dx₁₃ + x₁₀⋅x₁₂⋅x₁₃⋅x₉ - x₁₁⋅x₃⋅x₇ + x₁₃⋅x₁₄⋅x₁₅ - x₁₆⋅x₁₇⋅x₃\n",
       "\n",
       "                                                                              \n",
       ", dx₁₄ + x₁₃⋅x₁₄⋅x₁₅ - x₁₆⋅x₁₇⋅x₃, dx₁₅ + x₁₃⋅x₁₄⋅x₁₅ - x₁₆⋅x₁₇⋅x₃, dx₁₆ - x₁₃\n",
       "\n",
       "                                                                              \n",
       "⋅x₁₄⋅x₁₅ + x₁₆⋅x₁₇⋅x₃ + x₁₆⋅x₁₈ - x₁₉⋅x₂₀, dx₁₇ - x₁₃⋅x₁₄⋅x₁₅ + x₁₆⋅x₁₇⋅x₃, dx\n",
       "\n",
       "                                                                              \n",
       "₁₈ + x₁₆⋅x₁₈ - x₁₉⋅x₂₀, dx₁₉ + x₁⋅x₁₉ - x₁₆⋅x₁₈ + x₁₉⋅x₂₀ - x₂₁, dx₂₀ - x₁₆⋅x₁\n",
       "\n",
       "                                                                              \n",
       "₈ + x₁₉⋅x₂₀, dx₂₁ - x₁⋅x₁₉ - x₁₀⋅x₂₂⋅x₉ + x₂₁⋅x₇ + x₂₁, dx₂₂ + x₁₀⋅x₂₂⋅x₉ - x₂\n",
       "\n",
       "    ⎤\n",
       "₁⋅x₇⎦"
      ]
     },
     "execution_count": 18,
     "metadata": {},
     "output_type": "execute_result"
    }
   ],
   "source": [
    "tca_model.constitutive_relations"
   ]
  },
  {
   "cell_type": "markdown",
   "metadata": {
    "slideshow": {
     "slide_type": "subslide"
    }
   },
   "source": [
    "## Basic Simulation"
   ]
  },
  {
   "cell_type": "code",
   "execution_count": null,
   "metadata": {
    "cell_style": "split"
   },
   "outputs": [],
   "source": [
    "import numpy as np\n",
    "x_dim = len(tca_model.state_vars)\n",
    "x0 = np.exp(np.random.randn(x_dim))\n",
    "\n",
    "from BondGraphTools import simulate\n",
    "t, x = simulate(tca_model, \n",
    "                timespan=[0,1], \n",
    "                x0=x0, \n",
    "                control_vars=[\"t > 0.2 ? 2 : 0\"])"
   ]
  },
  {
   "cell_type": "code",
   "execution_count": null,
   "metadata": {
    "cell_style": "split"
   },
   "outputs": [],
   "source": [
    "from matplotlib.pyplot import plot\n",
    "_ = plot(t, x)"
   ]
  },
  {
   "cell_type": "markdown",
   "metadata": {
    "slideshow": {
     "slide_type": "slide"
    }
   },
   "source": [
    "## BondGraphTools Development Philosophy\n",
    "\n",
    "BondGraphTools ideals:\n",
    "- working is better than right.\n",
    "- ... it should just do the thing.\n",
    "- ... it does what it says on the box.\n",
    "- don't make the user fight the tools."
   ]
  },
  {
   "cell_type": "markdown",
   "metadata": {
    "slideshow": {
     "slide_type": "slide"
    }
   },
   "source": [
    "## What `BondGraphTools` does not do\n",
    "\n",
    "- dimensional anaysis\n",
    "- ensure realistic models\n",
    "- graphical user interfaces\n",
    "- parameter fitting\n",
    "- ontologies, metadata..."
   ]
  },
  {
   "cell_type": "markdown",
   "metadata": {
    "slideshow": {
     "slide_type": "slide"
    }
   },
   "source": [
    "## `BondGraphTools` in literature\n",
    "\n",
    "Used in forthcoming work by:\n",
    "- Prof. Peter Gawthrop (Physically Plausible Models)\n",
    "- Michael Pan (Algorithmic Model Evalutition)\n",
    "- PC (`BondGraphTools`)"
   ]
  },
  {
   "cell_type": "markdown",
   "metadata": {
    "slideshow": {
     "slide_type": "subslide"
    }
   },
   "source": [
    "## Current Status:\n",
    "\n",
    "Currently version: 0.3.8\n",
    "\n",
    "The next version 0.4 will include:\n",
    "- Symbolics overhaul.\n",
    "- Improved model reduction.\n",
    "- Cleaner parameter handline.\n",
    "- Observables."
   ]
  },
  {
   "cell_type": "markdown",
   "metadata": {
    "slideshow": {
     "slide_type": "slide"
    }
   },
   "source": [
    "# Thanks\n",
    "- Andre and the CellML workshop organisers\n",
    "- Prof. Peter Hunter and the ABI\n",
    "- Prof. Edmund Crampin, Prof. Peter Gawthrop and Michael Pan & The Systems Biology Lab\n",
    "\n",
    "<table >\n",
    "    <tr style=\"background-color:#FFFFFF;\">\n",
    "        <td><img src=\"images/PRIMARY_A_Vertical_Housed_RGB.png\" alt=\"University of Melbourne\" width=50% align=\"center\"></td>\n",
    "        <td><img src=\"images/cbns-logo.png\" alt=\"ARC Center of Excellence in Convergent Bio-Nano Science and Technology\" width=100% align=\"center\"></td>\n",
    "    </tr>\n",
    "</table>"
   ]
  },
  {
   "cell_type": "markdown",
   "metadata": {
    "slideshow": {
     "slide_type": "slide"
    }
   },
   "source": [
    "## Please check out `BondGraphTools`\n",
    "\n",
    "Docs: https://bondgraphtools.readthedocs.io/\n",
    "\n",
    "GitHub: https://github.com/BondGraphTools"
   ]
  }
 ],
 "metadata": {
  "celltoolbar": "Slideshow",
  "kernelspec": {
   "display_name": "Python 3",
   "language": "python",
   "name": "python3"
  },
  "language_info": {
   "codemirror_mode": {
    "name": "ipython",
    "version": 3
   },
   "file_extension": ".py",
   "mimetype": "text/x-python",
   "name": "python",
   "nbconvert_exporter": "python",
   "pygments_lexer": "ipython3",
   "version": "3.7.2"
  }
 },
 "nbformat": 4,
 "nbformat_minor": 2
}
